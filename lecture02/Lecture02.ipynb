{
 "cells": [
  {
   "cell_type": "markdown",
   "metadata": {
    "slideshow": {
     "slide_type": "slide"
    }
   },
   "source": [
    "## Машинное обучение\n",
    "\n",
    "Пензин М.С.\n",
    "\n",
    "penzin.ml.tsu@gmail.com"
   ]
  },
  {
   "cell_type": "code",
   "execution_count": 24,
   "metadata": {
    "slideshow": {
     "slide_type": "skip"
    }
   },
   "outputs": [],
   "source": [
    "%matplotlib inline\n",
    "import numpy as np\n",
    "import pandas as pd\n",
    "import seaborn as sns\n",
    "from matplotlib import pyplot as plt\n",
    "import warnings\n",
    "warnings.filterwarnings('ignore')\n",
    "\n",
    "from pylab import rcParams\n",
    "rcParams['figure.figsize'] = 12, 6\n",
    "from matplotlib import pyplot as plt"
   ]
  },
  {
   "cell_type": "markdown",
   "metadata": {
    "slideshow": {
     "slide_type": "slide"
    }
   },
   "source": [
    "# Теория вероятности"
   ]
  },
  {
   "cell_type": "code",
   "execution_count": 25,
   "metadata": {
    "slideshow": {
     "slide_type": "subslide"
    }
   },
   "outputs": [
    {
     "data": {
      "text/html": [
       "<div>\n",
       "<style scoped>\n",
       "    .dataframe tbody tr th:only-of-type {\n",
       "        vertical-align: middle;\n",
       "    }\n",
       "\n",
       "    .dataframe tbody tr th {\n",
       "        vertical-align: top;\n",
       "    }\n",
       "\n",
       "    .dataframe thead th {\n",
       "        text-align: right;\n",
       "    }\n",
       "</style>\n",
       "<table border=\"1\" class=\"dataframe\">\n",
       "  <thead>\n",
       "    <tr style=\"text-align: right;\">\n",
       "      <th></th>\n",
       "      <th>age</th>\n",
       "      <th>gender</th>\n",
       "      <th>height</th>\n",
       "      <th>weight</th>\n",
       "      <th>ap_hi</th>\n",
       "      <th>ap_lo</th>\n",
       "      <th>cholesterol</th>\n",
       "      <th>gluc</th>\n",
       "      <th>smoke</th>\n",
       "      <th>alco</th>\n",
       "      <th>active</th>\n",
       "      <th>cardio</th>\n",
       "    </tr>\n",
       "    <tr>\n",
       "      <th>id</th>\n",
       "      <th></th>\n",
       "      <th></th>\n",
       "      <th></th>\n",
       "      <th></th>\n",
       "      <th></th>\n",
       "      <th></th>\n",
       "      <th></th>\n",
       "      <th></th>\n",
       "      <th></th>\n",
       "      <th></th>\n",
       "      <th></th>\n",
       "      <th></th>\n",
       "    </tr>\n",
       "  </thead>\n",
       "  <tbody>\n",
       "    <tr>\n",
       "      <th>0</th>\n",
       "      <td>18393</td>\n",
       "      <td>2</td>\n",
       "      <td>168</td>\n",
       "      <td>62.0</td>\n",
       "      <td>110</td>\n",
       "      <td>80</td>\n",
       "      <td>1</td>\n",
       "      <td>1</td>\n",
       "      <td>0</td>\n",
       "      <td>0</td>\n",
       "      <td>1</td>\n",
       "      <td>0</td>\n",
       "    </tr>\n",
       "    <tr>\n",
       "      <th>1</th>\n",
       "      <td>20228</td>\n",
       "      <td>1</td>\n",
       "      <td>156</td>\n",
       "      <td>85.0</td>\n",
       "      <td>140</td>\n",
       "      <td>90</td>\n",
       "      <td>3</td>\n",
       "      <td>1</td>\n",
       "      <td>0</td>\n",
       "      <td>0</td>\n",
       "      <td>1</td>\n",
       "      <td>1</td>\n",
       "    </tr>\n",
       "    <tr>\n",
       "      <th>2</th>\n",
       "      <td>18857</td>\n",
       "      <td>1</td>\n",
       "      <td>165</td>\n",
       "      <td>64.0</td>\n",
       "      <td>130</td>\n",
       "      <td>70</td>\n",
       "      <td>3</td>\n",
       "      <td>1</td>\n",
       "      <td>0</td>\n",
       "      <td>0</td>\n",
       "      <td>0</td>\n",
       "      <td>1</td>\n",
       "    </tr>\n",
       "    <tr>\n",
       "      <th>3</th>\n",
       "      <td>17623</td>\n",
       "      <td>2</td>\n",
       "      <td>169</td>\n",
       "      <td>82.0</td>\n",
       "      <td>150</td>\n",
       "      <td>100</td>\n",
       "      <td>1</td>\n",
       "      <td>1</td>\n",
       "      <td>0</td>\n",
       "      <td>0</td>\n",
       "      <td>1</td>\n",
       "      <td>1</td>\n",
       "    </tr>\n",
       "    <tr>\n",
       "      <th>4</th>\n",
       "      <td>17474</td>\n",
       "      <td>1</td>\n",
       "      <td>156</td>\n",
       "      <td>56.0</td>\n",
       "      <td>100</td>\n",
       "      <td>60</td>\n",
       "      <td>1</td>\n",
       "      <td>1</td>\n",
       "      <td>0</td>\n",
       "      <td>0</td>\n",
       "      <td>0</td>\n",
       "      <td>0</td>\n",
       "    </tr>\n",
       "  </tbody>\n",
       "</table>\n",
       "</div>"
      ],
      "text/plain": [
       "      age  gender  height  weight  ap_hi  ap_lo  cholesterol  gluc  smoke  \\\n",
       "id                                                                          \n",
       "0   18393       2     168    62.0    110     80            1     1      0   \n",
       "1   20228       1     156    85.0    140     90            3     1      0   \n",
       "2   18857       1     165    64.0    130     70            3     1      0   \n",
       "3   17623       2     169    82.0    150    100            1     1      0   \n",
       "4   17474       1     156    56.0    100     60            1     1      0   \n",
       "\n",
       "    alco  active  cardio  \n",
       "id                        \n",
       "0      0       1       0  \n",
       "1      0       1       1  \n",
       "2      0       0       1  \n",
       "3      0       1       1  \n",
       "4      0       0       0  "
      ]
     },
     "execution_count": 25,
     "metadata": {},
     "output_type": "execute_result"
    }
   ],
   "source": [
    "df = pd.read_csv(\"../data/mlbootcamp5_train.csv\", \n",
    "                 sep=\";\", \n",
    "                 index_col=\"id\")\n",
    "df.head()"
   ]
  },
  {
   "cell_type": "markdown",
   "metadata": {
    "slideshow": {
     "slide_type": "slide"
    }
   },
   "source": [
    "## Случайная величина\n",
    "\n",
    "Пусть $x$ - это некоторая случайная величина. Она может быть \n",
    "* дискретной\n",
    "* непрерывной"
   ]
  },
  {
   "cell_type": "markdown",
   "metadata": {
    "slideshow": {
     "slide_type": "slide"
    }
   },
   "source": [
    "## Дискретная случайная величина\n",
    "\n",
    "Вероятность дискретной случайной величины можно определить как\n",
    "$$\n",
    "P(x) = \\lim_{N \\rightarrow \\infty} \\frac{n_{x}}{N}\n",
    "$$"
   ]
  },
  {
   "cell_type": "code",
   "execution_count": 86,
   "metadata": {
    "slideshow": {
     "slide_type": "subslide"
    }
   },
   "outputs": [
    {
     "name": "stdout",
     "output_type": "stream",
     "text": [
      "[1 1 0 1 1 1 0 0 1 1]\n",
      "0.5029\n"
     ]
    }
   ],
   "source": [
    "x = np.random.randint(0, 2, 100)\n",
    "print(x[:10])\n",
    "print(x.sum() / x.shape[0])"
   ]
  },
  {
   "cell_type": "code",
   "execution_count": 27,
   "metadata": {
    "slideshow": {
     "slide_type": "subslide"
    }
   },
   "outputs": [
    {
     "data": {
      "text/plain": [
       "1    0.650429\n",
       "2    0.349571\n",
       "Name: gender, dtype: float64"
      ]
     },
     "execution_count": 27,
     "metadata": {},
     "output_type": "execute_result"
    }
   ],
   "source": [
    "df['gender'].value_counts() / df.shape[0]"
   ]
  },
  {
   "cell_type": "markdown",
   "metadata": {
    "slideshow": {
     "slide_type": "slide"
    }
   },
   "source": [
    "## Непрерывная случайная величина\n",
    "\n",
    "Вероятность непрерывной случайной величины всегда определяется в пределах какого-то интервала\n",
    "\n",
    "$$\n",
    "P(x \\le \\tilde{x} \\le x + dx) = \\lim_{N\\rightarrow\\infty} \\frac{n_x}{N}\n",
    "$$"
   ]
  },
  {
   "cell_type": "markdown",
   "metadata": {
    "slideshow": {
     "slide_type": "subslide"
    }
   },
   "source": [
    "Плотность вероятности:\n",
    "$$\n",
    "f(x)dx = P(x \\le \\tilde{x} \\le x +dx)\n",
    "$$\n",
    "\n",
    "Функция вероятности\n",
    "$$\n",
    "P(x_1 \\le \\tilde{x} \\le x_2) = \\int_{x_1}^{x_2} f(x) dx = F(x_2) - F(x_1) \\\\\n",
    "F(x) = P(\\tilde{x} \\le x) = \\int_{-\\infty}^x f(\\tilde{x}) d\\tilde{x}\n",
    "$$"
   ]
  },
  {
   "cell_type": "code",
   "execution_count": 28,
   "metadata": {
    "slideshow": {
     "slide_type": "subslide"
    }
   },
   "outputs": [
    {
     "data": {
      "text/plain": [
       "0.36428571428571427"
      ]
     },
     "execution_count": 28,
     "metadata": {},
     "output_type": "execute_result"
    }
   ],
   "source": [
    "df[(65 <= df['weight']) & (df['weight'] <= 75)].shape[0] / df.shape[0]"
   ]
  },
  {
   "cell_type": "code",
   "execution_count": 29,
   "metadata": {
    "slideshow": {
     "slide_type": "subslide"
    }
   },
   "outputs": [
    {
     "data": {
      "image/png": "[encoded data removed]",
      "text/plain": [
       "<Figure size 864x432 with 1 Axes>"
      ]
     },
     "metadata": {
      "needs_background": "light"
     },
     "output_type": "display_data"
    }
   ],
   "source": [
    "df['weight'].hist(bins=(40, 50, 65, 75, 85, 95, 110, 120), density=True);"
   ]
  },
  {
   "cell_type": "markdown",
   "metadata": {
    "slideshow": {
     "slide_type": "slide"
    }
   },
   "source": [
    "## Биномиальное распределение\n",
    "\n",
    "Пусть $p$ - вероятность выпадения орла, тогда вероятность того, что $r$ раз подряд выпадет орел и $N-r$ раз выпадет решка\n",
    "\n",
    "$$\n",
    "p^r (1 - p)^{N-r}\n",
    "$$\n",
    "\n",
    "Это всего лишь один из $C_N^r$ способов получить $r$ орлов при $N$ бросках монеты.\n",
    "\n",
    "$$\n",
    "P(r) = C_N^r p^r(1 - p)^{N-r} \\\\\n",
    "C_N^r = \\frac{N!}{r!(N-r)!}\n",
    "$$"
   ]
  },
  {
   "cell_type": "markdown",
   "metadata": {
    "slideshow": {
     "slide_type": "slide"
    }
   },
   "source": [
    "## Распределение Пуассона\n",
    "\n",
    "Показывается вероятность появления $r$ событий за фиксированный промежуток времени при средней интенсивности событий $\\lambda$\n",
    "\n",
    "$$\n",
    "P(r) = \\frac{\\lambda^r}{r!} e^{-\\lambda}\n",
    "$$"
   ]
  },
  {
   "cell_type": "markdown",
   "metadata": {
    "slideshow": {
     "slide_type": "slide"
    }
   },
   "source": [
    "## Равномерное распределение\n",
    "\n",
    "$$\n",
    "f(x) = \\left\\{  \n",
    "\\begin{matrix}\n",
    "\\frac{1}{a-b},& x \\in [a,b) \\\\\n",
    "0,& x \\notin [a,b)\n",
    "\\end{matrix}\n",
    "\\right.\n",
    "$$"
   ]
  },
  {
   "cell_type": "code",
   "execution_count": 30,
   "metadata": {
    "slideshow": {
     "slide_type": "subslide"
    }
   },
   "outputs": [],
   "source": [
    "from scipy.stats import uniform"
   ]
  },
  {
   "cell_type": "code",
   "execution_count": 31,
   "metadata": {
    "slideshow": {
     "slide_type": "subslide"
    }
   },
   "outputs": [
    {
     "data": {
      "image/png": "[encoded data removed]",
      "text/plain": [
       "<Figure size 864x432 with 1 Axes>"
      ]
     },
     "metadata": {
      "needs_background": "light"
     },
     "output_type": "display_data"
    }
   ],
   "source": [
    "x = np.linspace(-0.2, 1.2, 100)\n",
    "plt.plot(x, uniform.pdf(x));"
   ]
  },
  {
   "cell_type": "code",
   "execution_count": 32,
   "metadata": {
    "slideshow": {
     "slide_type": "subslide"
    }
   },
   "outputs": [
    {
     "data": {
      "image/png": "[encoded data removed]",
      "text/plain": [
       "<Figure size 864x432 with 1 Axes>"
      ]
     },
     "metadata": {
      "needs_background": "light"
     },
     "output_type": "display_data"
    }
   ],
   "source": [
    "plt.plot(x, uniform.ppf(x));"
   ]
  },
  {
   "cell_type": "code",
   "execution_count": 33,
   "metadata": {
    "slideshow": {
     "slide_type": "subslide"
    }
   },
   "outputs": [
    {
     "data": {
      "image/png": "[encoded data removed]",
      "text/plain": [
       "<Figure size 864x432 with 1 Axes>"
      ]
     },
     "metadata": {
      "needs_background": "light"
     },
     "output_type": "display_data"
    }
   ],
   "source": [
    "x = np.random.uniform(0, 1, 10000)\n",
    "xv = np.linspace(x.min(), x.max(), 100)\n",
    "plt.hist(x, density=True, bins=50)\n",
    "plt.plot(xv, uniform.pdf(xv), \"r\");"
   ]
  },
  {
   "cell_type": "code",
   "execution_count": 34,
   "metadata": {
    "slideshow": {
     "slide_type": "subslide"
    }
   },
   "outputs": [
    {
     "data": {
      "image/png": "[encoded data removed]",
      "text/plain": [
       "<Figure size 864x432 with 1 Axes>"
      ]
     },
     "metadata": {
      "needs_background": "light"
     },
     "output_type": "display_data"
    }
   ],
   "source": [
    "x = np.random.uniform(0, 1, 100)\n",
    "xv = np.linspace(x.min(), x.max(), 100)\n",
    "plt.hist(x, density=True, cumulative=True, bins=50)\n",
    "plt.plot(xv, uniform.cdf(xv), \"r\");"
   ]
  },
  {
   "cell_type": "markdown",
   "metadata": {
    "slideshow": {
     "slide_type": "slide"
    }
   },
   "source": [
    "## Нормальное распределение\n",
    "\n",
    "$$\n",
    "f(x) = \\frac{1}{ \\sqrt{2\\pi \\sigma^2}} e^{-\\frac{(x-\\mu)^2}{2\\sigma^2}}\n",
    "$$"
   ]
  },
  {
   "cell_type": "code",
   "execution_count": 35,
   "metadata": {
    "slideshow": {
     "slide_type": "subslide"
    }
   },
   "outputs": [],
   "source": [
    "from scipy.stats import norm"
   ]
  },
  {
   "cell_type": "code",
   "execution_count": 36,
   "metadata": {
    "slideshow": {
     "slide_type": "subslide"
    }
   },
   "outputs": [
    {
     "data": {
      "image/png": "[encoded data removed]",
      "text/plain": [
       "<Figure size 864x432 with 1 Axes>"
      ]
     },
     "metadata": {
      "needs_background": "light"
     },
     "output_type": "display_data"
    }
   ],
   "source": [
    "x = np.random.normal(0, 1, 10000)\n",
    "xv = np.linspace(x.min(), x.max(), 100)\n",
    "plt.hist(x, density=True, bins=50)\n",
    "plt.plot(xv, norm.pdf(xv), \"r\")\n",
    "plt.show()"
   ]
  },
  {
   "cell_type": "code",
   "execution_count": 37,
   "metadata": {
    "slideshow": {
     "slide_type": "subslide"
    }
   },
   "outputs": [
    {
     "data": {
      "image/png": "[encoded data removed]",
      "text/plain": [
       "<Figure size 864x432 with 1 Axes>"
      ]
     },
     "metadata": {
      "needs_background": "light"
     },
     "output_type": "display_data"
    }
   ],
   "source": [
    "x = np.random.normal(0, 1, 100)\n",
    "xv = np.linspace(x.min(), x.max(), 100)\n",
    "plt.hist(x, density=True, cumulative=True, bins=50)\n",
    "plt.plot(xv, norm.cdf(xv), \"r\")\n",
    "plt.show()"
   ]
  },
  {
   "cell_type": "markdown",
   "metadata": {
    "slideshow": {
     "slide_type": "slide"
    }
   },
   "source": [
    "## Математическое ожидание (среднее)\n",
    "\n",
    "Для дискретное случайной величины\n",
    "\n",
    "$$\n",
    "\\mu = E[x] = \\sum_r r P(x=r)\n",
    "$$\n",
    "\n",
    "Для непрерывной случайной величины\n",
    "\n",
    "$$\n",
    "\\mu = E[x] = \\int_{-\\infty}^{+\\infty} x f(x) dx\n",
    "$$"
   ]
  },
  {
   "cell_type": "markdown",
   "metadata": {
    "slideshow": {
     "slide_type": "subslide"
    }
   },
   "source": [
    "Можно определенить среднее значение функции от случайной величины $x$\n",
    "\n",
    "Для дискретной\n",
    "\n",
    "$$\n",
    "\\mu = E[g(x)] = \\sum_r g(r) P(x=r)\n",
    "$$\n",
    "\n",
    "Для непрерывной\n",
    "\n",
    "$$\n",
    "\\mu = E[g(x)] = \\int_{-\\infty}^{+\\infty} g(x) f(x) dx\n",
    "$$"
   ]
  },
  {
   "cell_type": "markdown",
   "metadata": {
    "slideshow": {
     "slide_type": "slide"
    }
   },
   "source": [
    "## Среднеквадратичное отклонение (дисперсия)\n",
    "\n",
    "Для дискретной\n",
    "\n",
    "$$\n",
    "\\sigma^2 = D[x] = \\sum_r (r-\\mu)^2 P(x=r)\n",
    "$$\n",
    "\n",
    "Для непрерывной\n",
    "$$\n",
    "\\sigma^2 = D[x] = \\int_{-\\infty}^{\\infty} (x-\\mu)^2 f(x) dx\n",
    "$$"
   ]
  },
  {
   "cell_type": "markdown",
   "metadata": {
    "slideshow": {
     "slide_type": "slide"
    }
   },
   "source": [
    "## Выборочное среднее и выборочная дисперсия\n",
    "\n",
    "$$\n",
    "    \\bar{\\mu} = \\frac{1}{N} \\sum_{i=0}^{N-1} x_i\n",
    "$$\n",
    "\n",
    "$$\n",
    "    \\bar{\\sigma}^2 = \\frac{\\sum_{i=0}^{N-1} \\left(x_i^2 - \\bar{x}^2 \\right) }{N-1}\n",
    "$$"
   ]
  },
  {
   "cell_type": "markdown",
   "metadata": {
    "slideshow": {
     "slide_type": "slide"
    }
   },
   "source": [
    "## Сложение вероятностей\n",
    "\n",
    "$$\n",
    "P(A+B) = P(A) + P(B) - P(AB)\n",
    "$$\n",
    "\n",
    "<center><img style=\"margin-left:auto; margin-right: auto\" src=\"AB.png\"/></center>"
   ]
  },
  {
   "cell_type": "markdown",
   "metadata": {
    "slideshow": {
     "slide_type": "slide"
    }
   },
   "source": [
    "## Условная вероятность\n",
    "\n",
    "Пусть\n",
    "\n",
    "$$\n",
    "P(A) = \\frac{n_A}{N}\\quad P(AB) = \\frac{n_{AB}}{N} \\\\\n",
    "P(AB) = \\frac{n_A}{N}\\frac{n_{AB}}{n_A} = P(A) \\frac{n_{AB}}{n_A}\n",
    "$$"
   ]
  },
  {
   "cell_type": "markdown",
   "metadata": {
    "slideshow": {
     "slide_type": "subslide"
    }
   },
   "source": [
    "**Условная вероятность** - это вероятность события __B__, при условии, что событие **A** уже произошло \n",
    "\n",
    "$$\n",
    "P(B|A) = \\frac{P(AB)}{P(A)}\n",
    "$$"
   ]
  },
  {
   "cell_type": "markdown",
   "metadata": {
    "slideshow": {
     "slide_type": "slide"
    }
   },
   "source": [
    "## Независимые события\n",
    "\n",
    "Если на появления события __B__ не влияет появление события **A**, то данные события считаются независимыми\n",
    "\n",
    "$$\n",
    "P(B|A) = P(B) \\\\\n",
    "P(AB) = P(A) P(B)\n",
    "$$"
   ]
  },
  {
   "cell_type": "markdown",
   "metadata": {
    "slideshow": {
     "slide_type": "slide"
    }
   },
   "source": [
    "## Ещё немного условной вероятности\n",
    "\n",
    "Если подумать, то мы можем записать $P(AB)$ двумя способами\n",
    "\n",
    "$$\n",
    "P(AB) = P(A) P(B|A) = P(B) P(A|B)\n",
    "$$"
   ]
  },
  {
   "cell_type": "markdown",
   "metadata": {
    "slideshow": {
     "slide_type": "subslide"
    }
   },
   "source": [
    "## Теорема Байеса\n",
    "\n",
    "$$\n",
    "P(A|B) = \\frac{P(B|A) P(A)}{P(B)}\n",
    "$$\n",
    "* __P(A)__ - априорная вероятность гипотезы A\n",
    "* __P(B)__ - полная вероятность события B\n",
    "* __P(A|B)__ - вероятность гипотезы A при наступлении события B (апостериорная вероятность)\n",
    "* __P(B|A)__ - вероятность наступления события B при истинности гипотезы A"
   ]
  },
  {
   "cell_type": "markdown",
   "metadata": {
    "slideshow": {
     "slide_type": "subslide"
    }
   },
   "source": [
    "## Формула полной вероятности\n",
    "\n",
    "Если считать, что множество событий $\\{A_i\\}_{i=1}^N$ несовместны\n",
    "\n",
    "$$\n",
    "P(B) = \\sum_i P(A_i) P(B|A_i)\n",
    "$$"
   ]
  },
  {
   "cell_type": "markdown",
   "metadata": {
    "slideshow": {
     "slide_type": "subslide"
    }
   },
   "source": [
    "## Пример\n",
    "\n",
    "Пусть имеется некое заболевание и имеется тест, которые позволяет его определить.\n",
    "\n",
    "$$\n",
    "P(+|болен) = 0.80 \\\\\n",
    "P(-|болен) = 0.20 \n",
    "$$\n",
    "\n",
    "**Какова вероятность, что человек болен, если тест дал положительный результат?**"
   ]
  },
  {
   "cell_type": "markdown",
   "metadata": {
    "slideshow": {
     "slide_type": "subslide"
    }
   },
   "source": [
    "## Дополнительная информация\n",
    "\n",
    "$$\n",
    "\\begin{matrix}\n",
    "P(+|болен) = 0.80, & P(+|здоров) = 0.096 \\\\\n",
    "P(-|болен) = 0.20, & P(-|здоров) = 0.904\n",
    "\\end{matrix}\n",
    "$$\n",
    "\n",
    "**Какова вероятность, что человек действительно болен, если тест дал положительный результат?**"
   ]
  },
  {
   "cell_type": "markdown",
   "metadata": {
    "slideshow": {
     "slide_type": "subslide"
    }
   },
   "source": [
    "## Дополнительная информация\n",
    "\n",
    "$$\n",
    "\\begin{matrix}\n",
    "P(+|болен) = 0.80, & P(+|здоров) = 0.096 \\\\\n",
    "P(-|болен) = 0.20, & P(-|здоров) = 0.904 \\\\\n",
    "P(болен) = 0.01,   & P(здоров) = 0.99\n",
    "\\end{matrix}\n",
    "$$"
   ]
  },
  {
   "cell_type": "markdown",
   "metadata": {
    "slideshow": {
     "slide_type": "subslide"
    }
   },
   "source": [
    "$$\n",
    "P(болен|+) = \\frac{P(+|болен)P(болен)}{P(болен)P(+|болен) + P(здоров)P(+|здоров)}\n",
    "$$"
   ]
  },
  {
   "cell_type": "code",
   "execution_count": 38,
   "metadata": {},
   "outputs": [
    {
     "data": {
      "text/plain": [
       "0.07763975155279504"
      ]
     },
     "execution_count": 38,
     "metadata": {},
     "output_type": "execute_result"
    }
   ],
   "source": [
    "pa = 0.01\n",
    "0.80 * pa / ( pa * 0.80 + (1 - pa) * 0.096 )\n",
    "# 0.096 * (1 - pa) / ( pa * 0.80 + (1 - pa) * 0.096 )"
   ]
  },
  {
   "cell_type": "markdown",
   "metadata": {
    "slideshow": {
     "slide_type": "subslide"
    }
   },
   "source": [
    "$$\n",
    "P(болен|+) = \\frac{P(+|болен)}{P(+)}P(болен)\n",
    "$$"
   ]
  },
  {
   "cell_type": "markdown",
   "metadata": {
    "slideshow": {
     "slide_type": "slide"
    }
   },
   "source": [
    "## Наивный байесовский классификатор\n",
    "\n",
    "Вернемся к нашим данным по заболеваниям сердечно сосудистой системы. Для того, чтобы определить вероятность болен человек или нет, нам нужно найти следующую величину\n",
    "\n",
    "$$\n",
    "P(болен | \\vec{x})\n",
    "$$"
   ]
  },
  {
   "cell_type": "markdown",
   "metadata": {
    "slideshow": {
     "slide_type": "subslide"
    }
   },
   "source": [
    "Если использовать теорему Байеса\n",
    "\n",
    "$$\n",
    "P(болен|\\vec{x}) = \\frac{P(\\vec{x}|болен) P(болен)}{P(\\vec{x})}\n",
    "$$"
   ]
  },
  {
   "cell_type": "markdown",
   "metadata": {
    "slideshow": {
     "slide_type": "subslide"
    }
   },
   "source": [
    "## Что мы имеем?\n",
    "\n",
    "* $P(болен)$ - это априорная информация, мы должны её получить из дополнительных исследований или взять какую-то модель\n",
    "* $P(\\vec{x})$ - можно найти по формуле полной вероятности, фактически является нормирующим коэфициентом\n",
    "* $P(\\vec{x}|болен)$ - это мы должны найти из наблюдаемых признаков"
   ]
  },
  {
   "cell_type": "markdown",
   "metadata": {
    "slideshow": {
     "slide_type": "subslide"
    }
   },
   "source": [
    "Как же мы будем искать $P(\\vec{x}|болен)$?\n",
    "\n",
    "Мы можем посчитать это исходя из имеющихся данных. Можно отобрать все события \"болен\" и посмотреть какое распределение мы получим."
   ]
  },
  {
   "cell_type": "markdown",
   "metadata": {
    "slideshow": {
     "slide_type": "subslide"
    }
   },
   "source": [
    "Сделаем очень сильное заявление. Пусть все признаки являются **независимыми** случайными величинами. В этом случае, мы можем записать $P(\\vec{x}|болен)$ как \n",
    "\n",
    "$$\n",
    "P(\\vec{x}|болен) = \\prod_i P(x_i | болен)\n",
    "$$"
   ]
  },
  {
   "cell_type": "markdown",
   "metadata": {
    "slideshow": {
     "slide_type": "subslide"
    }
   },
   "source": [
    "$$\n",
    "P(болен|\\vec{x}) = \\frac{ P(болен)}{ P(\\vec{x}) }  \\prod_i P(x_i | болен) \n",
    "$$"
   ]
  },
  {
   "cell_type": "markdown",
   "metadata": {
    "slideshow": {
     "slide_type": "subslide"
    }
   },
   "source": [
    "$$\n",
    "P(болен|\\vec{x}) \\propto P(болен) \\prod_i P(x_i | болен) \n",
    "$$\n",
    "\n",
    "$$\n",
    "\\ln P(болен|\\vec{x}) \\propto \\ln P(болен) + \\sum_i \\ln P(x_i | болен) \n",
    "$$"
   ]
  },
  {
   "cell_type": "markdown",
   "metadata": {
    "slideshow": {
     "slide_type": "subslide"
    }
   },
   "source": [
    "## Итого\n",
    "\n",
    "Чтобы определить болен человек или нет, нам достаточно посчитать два выражения\n",
    "\n",
    "$$\n",
    "\\ln P(болен|\\vec{x}) \\propto \\ln P(болен) + \\sum_i \\ln P(x_i | болен) \\\\\n",
    "\\ln P(здоров|\\vec{x}) \\propto \\ln P(здоров) + \\sum_i \\ln P(x_i | здоров) \n",
    "$$"
   ]
  },
  {
   "cell_type": "markdown",
   "metadata": {
    "slideshow": {
     "slide_type": "slide"
    }
   },
   "source": [
    "## Scikit-learn \n",
    "\n",
    "Мощная библиотека, включающая в себя огромное число современных алгоритмов инструментов для анализа данных.\n",
    "\n",
    "```\n",
    "python -m pip install sklearn\n",
    "```"
   ]
  },
  {
   "cell_type": "markdown",
   "metadata": {
    "slideshow": {
     "slide_type": "subslide"
    }
   },
   "source": [
    "## Простая реализация\n",
    "\n",
    "В **sklearn** уже реализована поддержка наивного байесовского классификатора."
   ]
  },
  {
   "cell_type": "code",
   "execution_count": 88,
   "metadata": {
    "slideshow": {
     "slide_type": "subslide"
    }
   },
   "outputs": [
    {
     "data": {
      "image/png": "[encoded data removed]",
      "text/plain": [
       "<Figure size 864x432 with 4 Axes>"
      ]
     },
     "metadata": {
      "needs_background": "light"
     },
     "output_type": "display_data"
    }
   ],
   "source": [
    "df[df[\"cardio\"] == 1][[\"age\", \"ap_hi\", \"ap_lo\"]].hist(bins=20)\n",
    "plt.tight_layout()"
   ]
  },
  {
   "cell_type": "code",
   "execution_count": 89,
   "metadata": {
    "slideshow": {
     "slide_type": "subslide"
    }
   },
   "outputs": [
    {
     "data": {
      "image/png": "[encoded data removed]",
      "text/plain": [
       "<Figure size 864x432 with 1 Axes>"
      ]
     },
     "metadata": {
      "needs_background": "light"
     },
     "output_type": "display_data"
    }
   ],
   "source": [
    "df[df[\"cardio\"] == 1][[\"ap_hi\"]].boxplot();"
   ]
  },
  {
   "cell_type": "code",
   "execution_count": 90,
   "metadata": {
    "slideshow": {
     "slide_type": "subslide"
    }
   },
   "outputs": [
    {
     "data": {
      "image/png": "[encoded data removed]",
      "text/plain": [
       "<Figure size 864x432 with 4 Axes>"
      ]
     },
     "metadata": {
      "needs_background": "light"
     },
     "output_type": "display_data"
    }
   ],
   "source": [
    "# уберем проблемы с давлением\n",
    "data = df[(df[\"ap_hi\"] >= 50) & (df[\"ap_hi\"] <= 200)]\n",
    "data[data[\"cardio\"] == 1][[\"age\", \"ap_hi\", \"ap_lo\"]].hist(bins=20)\n",
    "plt.tight_layout()"
   ]
  },
  {
   "cell_type": "code",
   "execution_count": 91,
   "metadata": {
    "slideshow": {
     "slide_type": "subslide"
    }
   },
   "outputs": [
    {
     "data": {
      "image/png": "[encoded data removed]",
      "text/plain": [
       "<Figure size 864x432 with 4 Axes>"
      ]
     },
     "metadata": {
      "needs_background": "light"
     },
     "output_type": "display_data"
    }
   ],
   "source": [
    "data = data[(data[\"ap_lo\"] >= 50) & (data[\"ap_lo\"] <= 200)]\n",
    "data[data[\"cardio\"] == 1][[\"age\", \"ap_hi\", \"ap_lo\"]].hist(bins=20)\n",
    "plt.tight_layout()"
   ]
  },
  {
   "cell_type": "code",
   "execution_count": 50,
   "metadata": {
    "slideshow": {
     "slide_type": "subslide"
    }
   },
   "outputs": [
    {
     "data": {
      "image/png": "[encoded data removed]",
      "text/plain": [
       "<Figure size 864x432 with 1 Axes>"
      ]
     },
     "metadata": {
      "needs_background": "light"
     },
     "output_type": "display_data"
    }
   ],
   "source": [
    "data[data[\"cardio\"] == 1][[\"ap_hi\"]].boxplot();"
   ]
  },
  {
   "cell_type": "markdown",
   "metadata": {
    "slideshow": {
     "slide_type": "subslide"
    }
   },
   "source": [
    "## Гауссов класификатор\n",
    "\n",
    "Для непрерывной случайной величины, мы нередко можем сделать предположение, что она распределена по гауссу, в этом случае \n",
    "\n",
    "$$\n",
    "P(x|C_k) = \\frac{1}{\\sqrt{2\\pi  \\sigma_k^2}} e^{-\\frac{(x-\\mu_k)^2}{2\\sigma^2_k}}\n",
    "$$"
   ]
  },
  {
   "cell_type": "code",
   "execution_count": 93,
   "metadata": {
    "slideshow": {
     "slide_type": "subslide"
    }
   },
   "outputs": [
    {
     "name": "stdout",
     "output_type": "stream",
     "text": [
      "68703 0.6206279201781582\n"
     ]
    },
    {
     "data": {
      "text/plain": [
       "array([0, 1, 0, ..., 1, 1, 1])"
      ]
     },
     "execution_count": 93,
     "metadata": {},
     "output_type": "execute_result"
    }
   ],
   "source": [
    "from sklearn.naive_bayes import GaussianNB\n",
    "gnb = GaussianNB()\n",
    "\n",
    "train = data[[\"age\", \"weight\", \"height\"]]\n",
    "target = data[\"cardio\"]\n",
    "\n",
    "model = gnb.fit(train, target)\n",
    "predict = model.predict(train)\n",
    "print(data.shape[0],\n",
    "     (target == predict).sum() / data.shape[0])\n",
    "\n",
    "predict"
   ]
  },
  {
   "cell_type": "code",
   "execution_count": 52,
   "metadata": {
    "slideshow": {
     "slide_type": "subslide"
    }
   },
   "outputs": [
    {
     "data": {
      "text/plain": [
       "(array([1]), array([[0.38787157, 0.61212843]]))"
      ]
     },
     "execution_count": 52,
     "metadata": {},
     "output_type": "execute_result"
    }
   ],
   "source": [
    "model.predict(train[1:2]), model.predict_proba(train[1:2])"
   ]
  },
  {
   "cell_type": "code",
   "execution_count": 78,
   "metadata": {
    "slideshow": {
     "slide_type": "subslide"
    }
   },
   "outputs": [
    {
     "data": {
      "image/png": "[encoded data removed]",
      "text/plain": [
       "<Figure size 864x432 with 1 Axes>"
      ]
     },
     "metadata": {
      "needs_background": "light"
     },
     "output_type": "display_data"
    }
   ],
   "source": [
    "prob = model.predict_proba(train)[:,1]\n",
    "plt.hist(prob[target == 1], bins=np.linspace(0, 1, 50), alpha=0.5, label=\"1\");\n",
    "plt.hist(prob[target == 0], bins=np.linspace(0, 1, 50), alpha=0.5, label=\"0\");\n",
    "plt.axvline(0.5)\n",
    "plt.legend();"
   ]
  },
  {
   "cell_type": "code",
   "execution_count": 68,
   "metadata": {
    "slideshow": {
     "slide_type": "subslide"
    }
   },
   "outputs": [],
   "source": [
    "from sklearn.metrics import confusion_matrix\n",
    "\n",
    "cnf_matrix = confusion_matrix(target, predict)"
   ]
  },
  {
   "cell_type": "code",
   "execution_count": 72,
   "metadata": {
    "slideshow": {
     "slide_type": "subslide"
    }
   },
   "outputs": [],
   "source": [
    "import itertools\n",
    "class_names = [\"Здоров\", \"Болен\"]\n",
    "def plot_confusion_matrix(cm, classes, normalize=False, title='Матрица неточностей', cmap=plt.cm.Blues):    \n",
    "    if normalize:\n",
    "        cm = cm.astype('float') / cm.sum(axis=1)[:, np.newaxis]\n",
    "    plt.imshow(cm, interpolation='nearest', cmap=cmap)\n",
    "    plt.title(title)\n",
    "    plt.colorbar()\n",
    "    tick_marks = np.arange(len(classes))\n",
    "    plt.xticks(tick_marks, classes, rotation=45)\n",
    "    plt.yticks(tick_marks, classes)\n",
    "    fmt = '.4f' if normalize else 'd'\n",
    "    thresh = cm.min() + (cm.max() - cm.min()) * 2 / 3.\n",
    "    for i, j in itertools.product(range(cm.shape[0]), range(cm.shape[1])):\n",
    "        plt.text(j, i, format(cm[i, j], fmt),\n",
    "                 horizontalalignment=\"center\",\n",
    "                 color=\"white\" if cm[i, j] > thresh else \"black\")\n",
    "    plt.ylabel('Истина')\n",
    "    plt.xlabel('Предсказание')\n",
    "    plt.tight_layout()"
   ]
  },
  {
   "cell_type": "code",
   "execution_count": 73,
   "metadata": {
    "slideshow": {
     "slide_type": "subslide"
    }
   },
   "outputs": [
    {
     "data": {
      "image/png": "[encoded data removed]",
      "text/plain": [
       "<Figure size 864x432 with 2 Axes>"
      ]
     },
     "metadata": {
      "needs_background": "light"
     },
     "output_type": "display_data"
    }
   ],
   "source": [
    "plt.figure()\n",
    "plot_confusion_matrix(cnf_matrix, classes=class_names, \n",
    "                      title='Матрица неточностей, без нормализации')\n",
    "plt.show()"
   ]
  },
  {
   "cell_type": "code",
   "execution_count": 74,
   "metadata": {
    "slideshow": {
     "slide_type": "subslide"
    }
   },
   "outputs": [
    {
     "data": {
      "image/png": "[encoded data removed]",
      "text/plain": [
       "<Figure size 864x432 with 2 Axes>"
      ]
     },
     "metadata": {
      "needs_background": "light"
     },
     "output_type": "display_data"
    }
   ],
   "source": [
    "plt.figure()\n",
    "plot_confusion_matrix(cnf_matrix, classes=class_names, normalize=True,                      \n",
    "                      title='Матрица неточностей, нормализована')\n",
    "plt.show()"
   ]
  },
  {
   "cell_type": "markdown",
   "metadata": {
    "slideshow": {
     "slide_type": "slide"
    }
   },
   "source": [
    "## Ещё немного наивного Байеса\n",
    "\n",
    "Пакет **sklearn** помимо гауссова класификатора содержит\n",
    "\n",
    " * мультиномиальный класификатор __MultinomialNB__ или его чуть более доработанная версия **ComplementNB** (особенно в случае несбалансированных данных). Использует аддитивное сглаживание (additive smoothing). Является расширением биномиального распределения. Подходит для анализа текстов.\n",
    " * классификатор на основе распределения Бернулли __BernoulliNB__. Подходит для бинарных признаков."
   ]
  },
  {
   "cell_type": "markdown",
   "metadata": {
    "slideshow": {
     "slide_type": "slide"
    }
   },
   "source": [
    "## Что почитать?\n",
    "\n",
    "* K.P. Murphy Machine Learning. A Probabilistic Perspective.\n",
    "* C.E. Rasmussen and C.K.I. Williams. Gaussian Processes for Machine Learning"
   ]
  }
 ],
 "metadata": {
  "celltoolbar": "Slideshow",
  "kernelspec": {
   "display_name": "Python 3",
   "language": "python",
   "name": "python3"
  },
  "language_info": {
   "codemirror_mode": {
    "name": "ipython",
    "version": 3
   },
   "file_extension": ".py",
   "mimetype": "text/x-python",
   "name": "python",
   "nbconvert_exporter": "python",
   "pygments_lexer": "ipython3",
   "version": "3.9.1"
  }
 },
 "nbformat": 4,
 "nbformat_minor": 4
}
