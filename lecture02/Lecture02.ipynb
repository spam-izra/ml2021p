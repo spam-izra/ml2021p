{
 "cells": [
  {
   "cell_type": "markdown",
   "metadata": {
    "slideshow": {
     "slide_type": "slide"
    }
   },
   "source": [
    "## Машинное обучение\n",
    "\n",
    "Пензин М.С.\n",
    "\n",
    "penzin.ml.tsu@gmail.com"
   ]
  },
  {
   "cell_type": "code",
   "execution_count": 24,
   "metadata": {
    "slideshow": {
     "slide_type": "skip"
    }
   },
   "outputs": [],
   "source": [
    "%matplotlib inline\n",
    "import numpy as np\n",
    "import pandas as pd\n",
    "import seaborn as sns\n",
    "from matplotlib import pyplot as plt\n",
    "import warnings\n",
    "warnings.filterwarnings('ignore')\n",
    "\n",
    "from pylab import rcParams\n",
    "rcParams['figure.figsize'] = 12, 6\n",
    "from matplotlib import pyplot as plt"
   ]
  },
  {
   "cell_type": "markdown",
   "metadata": {
    "slideshow": {
     "slide_type": "slide"
    }
   },
   "source": [
    "# Теория вероятности"
   ]
  },
  {
   "cell_type": "code",
   "execution_count": 25,
   "metadata": {
    "slideshow": {
     "slide_type": "subslide"
    }
   },
   "outputs": [
    {
     "data": {
      "text/html": [
       "<div>\n",
       "<style scoped>\n",
       "    .dataframe tbody tr th:only-of-type {\n",
       "        vertical-align: middle;\n",
       "    }\n",
       "\n",
       "    .dataframe tbody tr th {\n",
       "        vertical-align: top;\n",
       "    }\n",
       "\n",
       "    .dataframe thead th {\n",
       "        text-align: right;\n",
       "    }\n",
       "</style>\n",
       "<table border=\"1\" class=\"dataframe\">\n",
       "  <thead>\n",
       "    <tr style=\"text-align: right;\">\n",
       "      <th></th>\n",
       "      <th>age</th>\n",
       "      <th>gender</th>\n",
       "      <th>height</th>\n",
       "      <th>weight</th>\n",
       "      <th>ap_hi</th>\n",
       "      <th>ap_lo</th>\n",
       "      <th>cholesterol</th>\n",
       "      <th>gluc</th>\n",
       "      <th>smoke</th>\n",
       "      <th>alco</th>\n",
       "      <th>active</th>\n",
       "      <th>cardio</th>\n",
       "    </tr>\n",
       "    <tr>\n",
       "      <th>id</th>\n",
       "      <th></th>\n",
       "      <th></th>\n",
       "      <th></th>\n",
       "      <th></th>\n",
       "      <th></th>\n",
       "      <th></th>\n",
       "      <th></th>\n",
       "      <th></th>\n",
       "      <th></th>\n",
       "      <th></th>\n",
       "      <th></th>\n",
       "      <th></th>\n",
       "    </tr>\n",
       "  </thead>\n",
       "  <tbody>\n",
       "    <tr>\n",
       "      <th>0</th>\n",
       "      <td>18393</td>\n",
       "      <td>2</td>\n",
       "      <td>168</td>\n",
       "      <td>62.0</td>\n",
       "      <td>110</td>\n",
       "      <td>80</td>\n",
       "      <td>1</td>\n",
       "      <td>1</td>\n",
       "      <td>0</td>\n",
       "      <td>0</td>\n",
       "      <td>1</td>\n",
       "      <td>0</td>\n",
       "    </tr>\n",
       "    <tr>\n",
       "      <th>1</th>\n",
       "      <td>20228</td>\n",
       "      <td>1</td>\n",
       "      <td>156</td>\n",
       "      <td>85.0</td>\n",
       "      <td>140</td>\n",
       "      <td>90</td>\n",
       "      <td>3</td>\n",
       "      <td>1</td>\n",
       "      <td>0</td>\n",
       "      <td>0</td>\n",
       "      <td>1</td>\n",
       "      <td>1</td>\n",
       "    </tr>\n",
       "    <tr>\n",
       "      <th>2</th>\n",
       "      <td>18857</td>\n",
       "      <td>1</td>\n",
       "      <td>165</td>\n",
       "      <td>64.0</td>\n",
       "      <td>130</td>\n",
       "      <td>70</td>\n",
       "      <td>3</td>\n",
       "      <td>1</td>\n",
       "      <td>0</td>\n",
       "      <td>0</td>\n",
       "      <td>0</td>\n",
       "      <td>1</td>\n",
       "    </tr>\n",
       "    <tr>\n",
       "      <th>3</th>\n",
       "      <td>17623</td>\n",
       "      <td>2</td>\n",
       "      <td>169</td>\n",
       "      <td>82.0</td>\n",
       "      <td>150</td>\n",
       "      <td>100</td>\n",
       "      <td>1</td>\n",
       "      <td>1</td>\n",
       "      <td>0</td>\n",
       "      <td>0</td>\n",
       "      <td>1</td>\n",
       "      <td>1</td>\n",
       "    </tr>\n",
       "    <tr>\n",
       "      <th>4</th>\n",
       "      <td>17474</td>\n",
       "      <td>1</td>\n",
       "      <td>156</td>\n",
       "      <td>56.0</td>\n",
       "      <td>100</td>\n",
       "      <td>60</td>\n",
       "      <td>1</td>\n",
       "      <td>1</td>\n",
       "      <td>0</td>\n",
       "      <td>0</td>\n",
       "      <td>0</td>\n",
       "      <td>0</td>\n",
       "    </tr>\n",
       "  </tbody>\n",
       "</table>\n",
       "</div>"
      ],
      "text/plain": [
       "      age  gender  height  weight  ap_hi  ap_lo  cholesterol  gluc  smoke  \\\n",
       "id                                                                          \n",
       "0   18393       2     168    62.0    110     80            1     1      0   \n",
       "1   20228       1     156    85.0    140     90            3     1      0   \n",
       "2   18857       1     165    64.0    130     70            3     1      0   \n",
       "3   17623       2     169    82.0    150    100            1     1      0   \n",
       "4   17474       1     156    56.0    100     60            1     1      0   \n",
       "\n",
       "    alco  active  cardio  \n",
       "id                        \n",
       "0      0       1       0  \n",
       "1      0       1       1  \n",
       "2      0       0       1  \n",
       "3      0       1       1  \n",
       "4      0       0       0  "
      ]
     },
     "execution_count": 25,
     "metadata": {},
     "output_type": "execute_result"
    }
   ],
   "source": [
    "df = pd.read_csv(\"../data/mlbootcamp5_train.csv\", \n",
    "                 sep=\";\", \n",
    "                 index_col=\"id\")\n",
    "df.head()"
   ]
  },
  {
   "cell_type": "markdown",
   "metadata": {
    "slideshow": {
     "slide_type": "slide"
    }
   },
   "source": [
    "## Случайная величина\n",
    "\n",
    "Пусть $x$ - это некоторая случайная величина. Она может быть \n",
    "* дискретной\n",
    "* непрерывной"
   ]
  },
  {
   "cell_type": "markdown",
   "metadata": {
    "slideshow": {
     "slide_type": "slide"
    }
   },
   "source": [
    "## Дискретная случайная величина\n",
    "\n",
    "Вероятность дискретной случайной величины можно определить как\n",
    "$$\n",
    "P(x) = \\lim_{N \\rightarrow \\infty} \\frac{n_{x}}{N}\n",
    "$$"
   ]
  },
  {
   "cell_type": "code",
   "execution_count": 86,
   "metadata": {
    "slideshow": {
     "slide_type": "subslide"
    }
   },
   "outputs": [
    {
     "name": "stdout",
     "output_type": "stream",
     "text": [
      "[1 1 0 1 1 1 0 0 1 1]\n",
      "0.5029\n"
     ]
    }
   ],
   "source": [
    "x = np.random.randint(0, 2, 100)\n",
    "print(x[:10])\n",
    "print(x.sum() / x.shape[0])"
   ]
  },
  {
   "cell_type": "code",
   "execution_count": 27,
   "metadata": {
    "slideshow": {
     "slide_type": "subslide"
    }
   },
   "outputs": [
    {
     "data": {
      "text/plain": [
       "1    0.650429\n",
       "2    0.349571\n",
       "Name: gender, dtype: float64"
      ]
     },
     "execution_count": 27,
     "metadata": {},
     "output_type": "execute_result"
    }
   ],
   "source": [
    "df['gender'].value_counts() / df.shape[0]"
   ]
  },
  {
   "cell_type": "markdown",
   "metadata": {
    "slideshow": {
     "slide_type": "slide"
    }
   },
   "source": [
    "## Непрерывная случайная величина\n",
    "\n",
    "Вероятность непрерывной случайной величины всегда определяется в пределах какого-то интервала\n",
    "\n",
    "$$\n",
    "P(x \\le \\tilde{x} \\le x + dx) = \\lim_{N\\rightarrow\\infty} \\frac{n_x}{N}\n",
    "$$"
   ]
  },
  {
   "cell_type": "markdown",
   "metadata": {
    "slideshow": {
     "slide_type": "subslide"
    }
   },
   "source": [
    "Плотность вероятности:\n",
    "$$\n",
    "f(x)dx = P(x \\le \\tilde{x} \\le x +dx)\n",
    "$$\n",
    "\n",
    "Функция вероятности\n",
    "$$\n",
    "P(x_1 \\le \\tilde{x} \\le x_2) = \\int_{x_1}^{x_2} f(x) dx = F(x_2) - F(x_1) \\\\\n",
    "F(x) = P(\\tilde{x} \\le x) = \\int_{-\\infty}^x f(\\tilde{x}) d\\tilde{x}\n",
    "$$"
   ]
  },
  {
   "cell_type": "code",
   "execution_count": 28,
   "metadata": {
    "slideshow": {
     "slide_type": "subslide"
    }
   },
   "outputs": [
    {
     "data": {
      "text/plain": [
       "0.36428571428571427"
      ]
     },
     "execution_count": 28,
     "metadata": {},
     "output_type": "execute_result"
    }
   ],
   "source": [
    "df[(65 <= df['weight']) & (df['weight'] <= 75)].shape[0] / df.shape[0]"
   ]
  },
  {
   "cell_type": "code",
   "execution_count": 29,
   "metadata": {
    "slideshow": {
     "slide_type": "subslide"
    }
   },
   "outputs": [
    {
     "data": {
      "image/png": "[encoded data removed]",
      "text/plain": [
       "<Figure size 864x432 with 1 Axes>"
      ]
     },
     "metadata": {
      "needs_background": "light"
     },
     "output_type": "display_data"
    }
   ],
   "source": [
    "df['weight'].hist(bins=(40, 50, 65, 75, 85, 95, 110, 120), density=True);"
   ]
  },
  {
   "cell_type": "markdown",
   "metadata": {
    "slideshow": {
     "slide_type": "slide"
    }
   },
   "source": [
    "## Биномиальное распределение\n",
    "\n",
    "Пусть $p$ - вероятность выпадения орла, тогда вероятность того, что $r$ раз подряд выпадет орел и $N-r$ раз выпадет решка\n",
    "\n",
    "$$\n",
    "p^r (1 - p)^{N-r}\n",
    "$$\n",
    "\n",
    "Это всего лишь один из $C_N^r$ способов получить $r$ орлов при $N$ бросках монеты.\n",
    "\n",
    "$$\n",
    "P(r) = C_N^r p^r(1 - p)^{N-r} \\\\\n",
    "C_N^r = \\frac{N!}{r!(N-r)!}\n",
    "$$"
   ]
  },
  {
   "cell_type": "markdown",
   "metadata": {
    "slideshow": {
     "slide_type": "slide"
    }
   },
   "source": [
    "## Распределение Пуассона\n",
    "\n",
    "Показывается вероятность появления $r$ событий за фиксированный промежуток времени при средней интенсивности событий $\\lambda$\n",
    "\n",
    "$$\n",
    "P(r) = \\frac{\\lambda^r}{r!} e^{-\\lambda}\n",
    "$$"
   ]
  },
  {
   "cell_type": "markdown",
   "metadata": {
    "slideshow": {
     "slide_type": "slide"
    }
   },
   "source": [
    "## Равномерное распределение\n",
    "\n",
    "$$\n",
    "f(x) = \\left\\{  \n",
    "\\begin{matrix}\n",
    "\\frac{1}{a-b},& x \\in [a,b) \\\\\n",
    "0,& x \\notin [a,b)\n",
    "\\end{matrix}\n",
    "\\right.\n",
    "$$"
   ]
  },
  {
   "cell_type": "code",
   "execution_count": 30,
   "metadata": {
    "slideshow": {
     "slide_type": "subslide"
    }
   },
   "outputs": [],
   "source": [
    "from scipy.stats import uniform"
   ]
  },
  {
   "cell_type": "code",
   "execution_count": 31,
   "metadata": {
    "slideshow": {
     "slide_type": "subslide"
    }
   },
   "outputs": [
    {
     "data": {
      "image/png": "[encoded data removed]",
      "text/plain": [
       "<Figure size 864x432 with 1 Axes>"
      ]
     },
     "metadata": {
      "needs_background": "light"
     },
     "output_type": "display_data"
    }
   ],
   "source": [
    "x = np.linspace(-0.2, 1.2, 100)\n",
    "plt.plot(x, uniform.pdf(x));"
   ]
  },
  {
   "cell_type": "code",
   "execution_count": 32,
   "metadata": {
    "slideshow": {
     "slide_type": "subslide"
    }
   },
   "outputs": [
    {
     "data": {
      "image/png": "[encoded data removed]",
      "text/plain": [
       "<Figure size 864x432 with 1 Axes>"
      ]
     },
     "metadata": {
      "needs_background": "light"
     },
     "output_type": "display_data"
    }
   ],
   "source": [
    "plt.plot(x, uniform.ppf(x));"
   ]
  },
  {
   "cell_type": "code",
   "execution_count": 33,
   "metadata": {
    "slideshow": {
     "slide_type": "subslide"
    }
   },
   "outputs": [
    {
     "data": {
      "image/png": "[encoded data removed]",
      "text/plain": [
       "<Figure size 864x432 with 1 Axes>"
      ]
     },
     "metadata": {
      "needs_background": "light"
     },
     "output_type": "display_data"
    }
   ],
   "source": [
    "x = np.random.uniform(0, 1, 10000)\n",
    "xv = np.linspace(x.min(), x.max(), 100)\n",
    "plt.hist(x, density=True, bins=50)\n",
    "plt.plot(xv, uniform.pdf(xv), \"r\");"
   ]
  },
  {
   "cell_type": "code",
   "execution_count": 34,
   "metadata": {
    "slideshow": {
     "slide_type": "subslide"
    }
   },
   "outputs": [
    {
     "data": {
      "image/png": "[encoded data removed]",
      "text/plain": [
       "<Figure size 864x432 with 1 Axes>"
      ]
     },
     "metadata": {
      "needs_background": "light"
     },
     "output_type": "display_data"
    }
   ],
   "source": [
    "x = np.random.uniform(0, 1, 100)\n",
    "xv = np.linspace(x.min(), x.max(), 100)\n",
    "plt.hist(x, density=True, cumulative=True, bins=50)\n",
    "plt.plot(xv, uniform.cdf(xv), \"r\");"
   ]
  },
  {
   "cell_type": "markdown",
   "metadata": {
    "slideshow": {
     "slide_type": "slide"
    }
   },
   "source": [
    "## Нормальное распределение\n",
    "\n",
    "$$\n",
    "f(x) = \\frac{1}{ \\sqrt{2\\pi \\sigma^2}} e^{-\\frac{(x-\\mu)^2}{2\\sigma^2}}\n",
    "$$"
   ]
  },
  {
   "cell_type": "code",
   "execution_count": 35,
   "metadata": {
    "slideshow": {
     "slide_type": "subslide"
    }
   },
   "outputs": [],
   "source": [
    "from scipy.stats import norm"
   ]
  },
  {
   "cell_type": "code",
   "execution_count": 36,
   "metadata": {
    "slideshow": {
     "slide_type": "subslide"
    }
   },
   "outputs": [
    {
     "data": {
      "image/png": "[encoded data removed]",
      "text/plain": [
       "<Figure size 864x432 with 1 Axes>"
      ]
     },
     "metadata": {
      "needs_background": "light"
     },
     "output_type": "display_data"
    }
   ],
   "source": [
    "x = np.random.normal(0, 1, 10000)\n",
    "xv = np.linspace(x.min(), x.max(), 100)\n",
    "plt.hist(x, density=True, bins=50)\n",
    "plt.plot(xv, norm.pdf(xv), \"r\")\n",
    "plt.show()"
   ]
  },
  {
   "cell_type": "code",
   "execution_count": 37,
   "metadata": {
    "slideshow": {
     "slide_type": "subslide"
    }
   },
   "outputs": [
    {
     "data": {
      "image/png": "[encoded data removed]",
      "text/plain": [
       "<Figure size 864x432 with 1 Axes>"
      ]
     },
     "metadata": {
      "needs_background": "light"
     },
     "output_type": "display_data"
    }
   ],
   "source": [
    "x = np.random.normal(0, 1, 100)\n",
    "xv = np.linspace(x.min(), x.max(), 100)\n",
    "plt.hist(x, density=True, cumulative=True, bins=50)\n",
    "plt.plot(xv, norm.cdf(xv), \"r\")\n",
    "plt.show()"
   ]
  },
  {
   "cell_type": "markdown",
   "metadata": {
    "slideshow": {
     "slide_type": "slide"
    }
   },
   "source": [
    "## Математическое ожидание (среднее)\n",
    "\n",
    "Для дискретное случайной величины\n",
    "\n",
    "$$\n",
    "\\mu = E[x] = \\sum_r r P(x=r)\n",
    "$$\n",
    "\n",
    "Для непрерывной случайной величины\n",
    "\n",
    "$$\n",
    "\\mu = E[x] = \\int_{-\\infty}^{+\\infty} x f(x) dx\n",
    "$$"
   ]
  },
  {
   "cell_type": "markdown",
   "metadata": {
    "slideshow": {
     "slide_type": "subslide"
    }
   },
   "source": [
    "Можно определенить среднее значение функции от случайной величины $x$\n",
    "\n",
    "Для дискретной\n",
    "\n",
    "$$\n",
    "\\mu = E[g(x)] = \\sum_r g(r) P(x=r)\n",
    "$$\n",
    "\n",
    "Для непрерывной\n",
    "\n",
    "$$\n",
    "\\mu = E[g(x)] = \\int_{-\\infty}^{+\\infty} g(x) f(x) dx\n",
    "$$"
   ]
  },
  {
   "cell_type": "markdown",
   "metadata": {
    "slideshow": {
     "slide_type": "slide"
    }
   },
   "source": [
    "## Среднеквадратичное отклонение (дисперсия)\n",
    "\n",
    "Для дискретной\n",
    "\n",
    "$$\n",
    "\\sigma^2 = D[x] = \\sum_r (r-\\mu)^2 P(x=r)\n",
    "$$\n",
    "\n",
    "Для непрерывной\n",
    "$$\n",
    "\\sigma^2 = D[x] = \\int_{-\\infty}^{\\infty} (x-\\mu)^2 f(x) dx\n",
    "$$"
   ]
  },
  {
   "cell_type": "markdown",
   "metadata": {
    "slideshow": {
     "slide_type": "slide"
    }
   },
   "source": [
    "## Выборочное среднее и выборочная дисперсия\n",
    "\n",
    "$$\n",
    "    \\bar{\\mu} = \\frac{1}{N} \\sum_{i=0}^{N-1} x_i\n",
    "$$\n",
    "\n",
    "$$\n",
    "    \\bar{\\sigma}^2 = \\frac{\\sum_{i=0}^{N-1} \\left(x_i^2 - \\bar{x}^2 \\right) }{N-1}\n",
    "$$"
   ]
  },
  {
   "cell_type": "markdown",
   "metadata": {
    "slideshow": {
     "slide_type": "slide"
    }
   },
   "source": [
    "## Сложение вероятностей\n",
    "\n",
    "$$\n",
    "P(A+B) = P(A) + P(B) - P(AB)\n",
    "$$\n",
    "\n",
    "<center><img style=\"margin-left:auto; margin-right: auto\" src=\"AB.png\"/></center>"
   ]
  },
  {
   "cell_type": "markdown",
   "metadata": {
    "slideshow": {
     "slide_type": "slide"
    }
   },
   "source": [
    "## Условная вероятность\n",
    "\n",
    "Пусть\n",
    "\n",
    "$$\n",
    "P(A) = \\frac{n_A}{N}\\quad P(AB) = \\frac{n_{AB}}{N} \\\\\n",
    "P(AB) = \\frac{n_A}{N}\\frac{n_{AB}}{n_A} = P(A) \\frac{n_{AB}}{n_A}\n",
    "$$"
   ]
  },
  {
   "cell_type": "markdown",
   "metadata": {
    "slideshow": {
     "slide_type": "subslide"
    }
   },
   "source": [
    "**Условная вероятность** - это вероятность события __B__, при условии, что событие **A** уже произошло \n",
    "\n",
    "$$\n",
    "P(B|A) = \\frac{P(AB)}{P(A)}\n",
    "$$"
   ]
  },
  {
   "cell_type": "markdown",
   "metadata": {
    "slideshow": {
     "slide_type": "slide"
    }
   },
   "source": [
    "## Независимые события\n",
    "\n",
    "Если на появления события __B__ не влияет появление события **A**, то данные события считаются независимыми\n",
    "\n",
    "$$\n",
    "P(B|A) = P(B) \\\\\n",
    "P(AB) = P(A) P(B)\n",
    "$$"
   ]
  },
  {
   "cell_type": "markdown",
   "metadata": {
    "slideshow": {
     "slide_type": "slide"
    }
   },
   "source": [
    "## Ещё немного условной вероятности\n",
    "\n",
    "Если подумать, то мы можем записать $P(AB)$ двумя способами\n",
    "\n",
    "$$\n",
    "P(AB) = P(A) P(B|A) = P(B) P(A|B)\n",
    "$$"
   ]
  },
  {
   "cell_type": "markdown",
   "metadata": {
    "slideshow": {
     "slide_type": "subslide"
    }
   },
   "source": [
    "## Теорема Байеса\n",
    "\n",
    "$$\n",
    "P(A|B) = \\frac{P(B|A) P(A)}{P(B)}\n",
    "$$\n",
    "* __P(A)__ - априорная вероятность гипотезы A\n",
    "* __P(B)__ - полная вероятность события B\n",
    "* __P(A|B)__ - вероятность гипотезы A при наступлении события B (апостериорная вероятность)\n",
    "* __P(B|A)__ - вероятность наступления события B при истинности гипотезы A"
   ]
  },
  {
   "cell_type": "markdown",
   "metadata": {
    "slideshow": {
     "slide_type": "subslide"
    }
   },
   "source": [
    "## Формула полной вероятности\n",
    "\n",
    "Если считать, что множество событий $\\{A_i\\}_{i=1}^N$ несовместны\n",
    "\n",
    "$$\n",
    "P(B) = \\sum_i P(A_i) P(B|A_i)\n",
    "$$"
   ]
  },
  {
   "cell_type": "markdown",
   "metadata": {
    "slideshow": {
     "slide_type": "subslide"
    }
   },
   "source": [
    "## Пример\n",
    "\n",
    "Пусть имеется некое заболевание и имеется тест, которые позволяет его определить.\n",
    "\n",
    "$$\n",
    "P(+|болен) = 0.80 \\\\\n",
    "P(-|болен) = 0.20 \n",
    "$$\n",
    "\n",
    "**Какова вероятность, что человек болен, если тест дал положительный результат?**"
   ]
  },
  {
   "cell_type": "markdown",
   "metadata": {
    "slideshow": {
     "slide_type": "subslide"
    }
   },
   "source": [
    "## Дополнительная информация\n",
    "\n",
    "$$\n",
    "\\begin{matrix}\n",
    "P(+|болен) = 0.80, & P(+|здоров) = 0.096 \\\\\n",
    "P(-|болен) = 0.20, & P(-|здоров) = 0.904\n",
    "\\end{matrix}\n",
    "$$\n",
    "\n",
    "**Какова вероятность, что человек действительно болен, если тест дал положительный результат?**"
   ]
  },
  {
   "cell_type": "markdown",
   "metadata": {
    "slideshow": {
     "slide_type": "subslide"
    }
   },
   "source": [
    "## Дополнительная информация\n",
    "\n",
    "$$\n",
    "\\begin{matrix}\n",
    "P(+|болен) = 0.80, & P(+|здоров) = 0.096 \\\\\n",
    "P(-|болен) = 0.20, & P(-|здоров) = 0.904 \\\\\n",
    "P(болен) = 0.01,   & P(здоров) = 0.99\n",
    "\\end{matrix}\n",
    "$$"
   ]
  },
  {
   "cell_type": "markdown",
   "metadata": {
    "slideshow": {
     "slide_type": "subslide"
    }
   },
   "source": [
    "$$\n",
    "P(болен|+) = \\frac{P(+|болен)P(болен)}{P(болен)P(+|болен) + P(здоров)P(+|здоров)}\n",
    "$$"
   ]
  },
  {
   "cell_type": "code",
   "execution_count": 38,
   "metadata": {},
   "outputs": [
    {
     "data": {
      "text/plain": [
       "0.07763975155279504"
      ]
     },
     "execution_count": 38,
     "metadata": {},
     "output_type": "execute_result"
    }
   ],
   "source": [
    "pa = 0.01\n",
    "0.80 * pa / ( pa * 0.80 + (1 - pa) * 0.096 )\n",
    "# 0.096 * (1 - pa) / ( pa * 0.80 + (1 - pa) * 0.096 )"
   ]
  },
  {
   "cell_type": "markdown",
   "metadata": {
    "slideshow": {
     "slide_type": "subslide"
    }
   },
   "source": [
    "$$\n",
    "P(болен|+) = \\frac{P(+|болен)}{P(+)}P(болен)\n",
    "$$"
   ]
  },
  {
   "cell_type": "markdown",
   "metadata": {
    "slideshow": {
     "slide_type": "slide"
    }
   },
   "source": [
    "## Наивный байесовский классификатор\n",
    "\n",
    "Вернемся к нашим данным по заболеваниям сердечно сосудистой системы. Для того, чтобы определить вероятность болен человек или нет, нам нужно найти следующую величину\n",
    "\n",
    "$$\n",
    "P(болен | \\vec{x})\n",
    "$$"
   ]
  },
  {
   "cell_type": "markdown",
   "metadata": {
    "slideshow": {
     "slide_type": "subslide"
    }
   },
   "source": [
    "Если использовать теорему Байеса\n",
    "\n",
    "$$\n",
    "P(болен|\\vec{x}) = \\frac{P(\\vec{x}|болен) P(болен)}{P(\\vec{x})}\n",
    "$$"
   ]
  },
  {
   "cell_type": "markdown",
   "metadata": {
    "slideshow": {
     "slide_type": "subslide"
    }
   },
   "source": [
    "## Что мы имеем?\n",
    "\n",
    "* $P(болен)$ - это априорная информация, мы должны её получить из дополнительных исследований или взять какую-то модель\n",
    "* $P(\\vec{x})$ - можно найти по формуле полной вероятности, фактически является нормирующим коэфициентом\n",
    "* $P(\\vec{x}|болен)$ - это мы должны найти из наблюдаемых признаков"
   ]
  },
  {
   "cell_type": "markdown",
   "metadata": {
    "slideshow": {
     "slide_type": "subslide"
    }
   },
   "source": [
    "Как же мы будем искать $P(\\vec{x}|болен)$?\n",
    "\n",
    "Мы можем посчитать это исходя из имеющихся данных. Можно отобрать все события \"болен\" и посмотреть какое распределение мы получим."
   ]
  },
  {
   "cell_type": "markdown",
   "metadata": {
    "slideshow": {
     "slide_type": "subslide"
    }
   },
   "source": [
    "Сделаем очень сильное заявление. Пусть все признаки являются **независимыми** случайными величинами. В этом случае, мы можем записать $P(\\vec{x}|болен)$ как \n",
    "\n",
    "$$\n",
    "P(\\vec{x}|болен) = \\prod_i P(x_i | болен)\n",
    "$$"
   ]
  },
  {
   "cell_type": "markdown",
   "metadata": {
    "slideshow": {
     "slide_type": "subslide"
    }
   },
   "source": [
    "$$\n",
    "P(болен|\\vec{x}) = \\frac{ P(болен)}{ P(\\vec{x}) }  \\prod_i P(x_i | болен) \n",
    "$$"
   ]
  },
  {
   "cell_type": "markdown",
   "metadata": {
    "slideshow": {
     "slide_type": "subslide"
    }
   },
   "source": [
    "$$\n",
    "P(болен|\\vec{x}) \\propto P(болен) \\prod_i P(x_i | болен) \n",
    "$$\n",
    "\n",
    "$$\n",
    "\\ln P(болен|\\vec{x}) \\propto \\ln P(болен) + \\sum_i \\ln P(x_i | болен) \n",
    "$$"
   ]
  },
  {
   "cell_type": "markdown",
   "metadata": {
    "slideshow": {
     "slide_type": "subslide"
    }
   },
   "source": [
    "## Итого\n",
    "\n",
    "Чтобы определить болен человек или нет, нам достаточно посчитать два выражения\n",
    "\n",
    "$$\n",
    "\\ln P(болен|\\vec{x}) \\propto \\ln P(болен) + \\sum_i \\ln P(x_i | болен) \\\\\n",
    "\\ln P(здоров|\\vec{x}) \\propto \\ln P(здоров) + \\sum_i \\ln P(x_i | здоров) \n",
    "$$"
   ]
  },
  {
   "cell_type": "markdown",
   "metadata": {
    "slideshow": {
     "slide_type": "slide"
    }
   },
   "source": [
    "## Scikit-learn \n",
    "\n",
    "Мощная библиотека, включающая в себя огромное число современных алгоритмов инструментов для анализа данных.\n",
    "\n",
    "```\n",
    "python -m pip install sklearn\n",
    "```"
   ]
  },
  {
   "cell_type": "markdown",
   "metadata": {
    "slideshow": {
     "slide_type": "subslide"
    }
   },
   "source": [
    "## Простая реализация\n",
    "\n",
    "В **sklearn** уже реализована поддержка наивного байесовского классификатора."
   ]
  },
  {
   "cell_type": "code",
   "execution_count": 88,
   "metadata": {
    "slideshow": {
     "slide_type": "subslide"
    }
   },
   "outputs": [
    {
     "data": {
      "image/png": "[encoded data removed]",
      "text/plain": [
       "<Figure size 864x432 with 4 Axes>"
      ]
     },
     "metadata": {
      "needs_background": "light"
     },
     "output_type": "display_data"
    }
   ],
   "source": [
    "df[df[\"cardio\"] == 1][[\"age\", \"ap_hi\", \"ap_lo\"]].hist(bins=20)\n",
    "plt.tight_layout()"
   ]
  },
  {
   "cell_type": "code",
   "execution_count": 89,
   "metadata": {
    "slideshow": {
     "slide_type": "subslide"
    }
   },
   "outputs": [
    {
     "data": {
      "image/png": "[encoded data removed]",
      "text/plain": [
       "<Figure size 864x432 with 1 Axes>"
      ]
     },
     "metadata": {
      "needs_background": "light"
     },
     "output_type": "display_data"
    }
   ],
   "source": [
    "df[df[\"cardio\"] == 1][[\"ap_hi\"]].boxplot();"
   ]
  },
  {
   "cell_type": "code",
   "execution_count": 90,
   "metadata": {
    "slideshow": {
     "slide_type": "subslide"
    }
   },
   "outputs": [
    {
     "data": {
      "image/png": "[encoded data removed]",
      "text/plain": [
       "<Figure size 864x432 with 4 Axes>"
      ]
     },
     "metadata": {
      "needs_background": "light"
     },
     "output_type": "display_data"
    }
   ],
   "source": [
    "# уберем проблемы с давлением\n",
    "data = df[(df[\"ap_hi\"] >= 50) & (df[\"ap_hi\"] <= 200)]\n",
    "data[data[\"cardio\"] == 1][[\"age\", \"ap_hi\", \"ap_lo\"]].hist(bins=20)\n",
    "plt.tight_layout()"
   ]
  },
  {
   "cell_type": "code",
   "execution_count": 91,
   "metadata": {
    "slideshow": {
     "slide_type": "subslide"
    }
   },
   "outputs": [
    {
     "data": {
      "image/png": "[encoded data removed]",
      "text/plain": [
       "<Figure size 864x432 with 4 Axes>"
      ]
     },
     "metadata": {
      "needs_background": "light"
     },
     "output_type": "display_data"
    }
   ],
   "source": [
    "data = data[(data[\"ap_lo\"] >= 50) & (data[\"ap_lo\"] <= 200)]\n",
    "data[data[\"cardio\"] == 1][[\"age\", \"ap_hi\", \"ap_lo\"]].hist(bins=20)\n",
    "plt.tight_layout()"
   ]
  },
  {
   "cell_type": "code",
   "execution_count": 50,
   "metadata": {
    "slideshow": {
     "slide_type": "subslide"
    }
   },
   "outputs": [
    {
     "data": {
      "image/png": "[encoded data removed]",
      "text/plain": [
       "<Figure size 864x432 with 1 Axes>"
      ]
     },
     "metadata": {
      "needs_background": "light"
     },
     "output_type": "display_data"
    }
   ],
   "source": [
    "data[data[\"cardio\"] == 1][[\"ap_hi\"]].boxplot();"
   ]
  },
  {
   "cell_type": "markdown",
   "metadata": {
    "slideshow": {
     "slide_type": "subslide"
    }
   },
   "source": [
    "## Гауссов класификатор\n",
    "\n",
    "Для непрерывной случайной величины, мы нередко можем сделать предположение, что она распределена по гауссу, в этом случае \n",
    "\n",
    "$$\n",
    "P(x|C_k) = \\frac{1}{\\sqrt{2\\pi  \\sigma_k^2}} e^{-\\frac{(x-\\mu_k)^2}{2\\sigma^2_k}}\n",
    "$$"
   ]
  },
  {
   "cell_type": "code",
   "execution_count": 93,
   "metadata": {
    "slideshow": {
     "slide_type": "subslide"
    }
   },
   "outputs": [
    {
     "name": "stdout",
     "output_type": "stream",
     "text": [
      "68703 0.6206279201781582\n"
     ]
    },
    {
     "data": {
      "text/plain": [
       "array([0, 1, 0, ..., 1, 1, 1])"
      ]
     },
     "execution_count": 93,
     "metadata": {},
     "output_type": "execute_result"
    }
   ],
   "source": [
    "from sklearn.naive_bayes import GaussianNB\n",
    "gnb = GaussianNB()\n",
    "\n",
    "train = data[[\"age\", \"weight\", \"height\"]]\n",
    "target = data[\"cardio\"]\n",
    "\n",
    "model = gnb.fit(train, target)\n",
    "predict = model.predict(train)\n",
    "print(data.shape[0],\n",
    "     (target == predict).sum() / data.shape[0])\n",
    "\n",
    "predict"
   ]
  },
  {
   "cell_type": "code",
   "execution_count": 52,
   "metadata": {
    "slideshow": {
     "slide_type": "subslide"
    }
   },
   "outputs": [
    {
     "data": {
      "text/plain": [
       "(array([1]), array([[0.38787157, 0.61212843]]))"
      ]
     },
     "execution_count": 52,
     "metadata": {},
     "output_type": "execute_result"
    }
   ],
   "source": [
    "model.predict(train[1:2]), model.predict_proba(train[1:2])"
   ]
  },
  {
   "cell_type": "code",
   "execution_count": 78,
   "metadata": {
    "slideshow": {
     "slide_type": "subslide"
    }
   },
   "outputs": [
    {
     "data": {
      "image/png": "[encoded data removed]",
      "text/plain": [
       "<Figure size 864x432 with 1 Axes>"
      ]
     },
     "metadata": {
      "needs_background": "light"
     },
     "output_type": "display_data"
    }
   ],
   "source": [
    "prob = model.predict_proba(train)[:,1]\n",
    "plt.hist(prob[target == 1], bins=np.linspace(0, 1, 50), alpha=0.5, label=\"1\");\n",
    "plt.hist(prob[target == 0], bins=np.linspace(0, 1, 50), alpha=0.5, label=\"0\");\n",
    "plt.axvline(0.5)\n",
    "plt.legend();"
   ]
  },
  {
   "cell_type": "code",
   "execution_count": 68,
   "metadata": {
    "slideshow": {
     "slide_type": "subslide"
    }
   },
   "outputs": [],
   "source": [
    "from sklearn.metrics import confusion_matrix\n",
    "\n",
    "cnf_matrix = confusion_matrix(target, predict)"
   ]
  },
  {
   "cell_type": "code",
   "execution_count": 72,
   "metadata": {
    "slideshow": {
     "slide_type": "subslide"
    }
   },
   "outputs": [],
   "source": [
    "import itertools\n",
    "class_names = [\"Здоров\", \"Болен\"]\n",
    "def plot_confusion_matrix(cm, classes, normalize=False, title='Матрица неточностей', cmap=plt.cm.Blues):    \n",
    "    if normalize:\n",
    "        cm = cm.astype('float')/cm.sum(axis=0)\n",
    "    plt.imshow(cm, interpolation='nearest', cmap=cmap)\n",
    "    plt.title(title)\n",
    "    plt.colorbar()\n",
    "    tick_marks = np.arange(len(classes))\n",
    "    plt.xticks(tick_marks, classes, rotation=45)\n",
    "    plt.yticks(tick_marks, classes)\n",
    "    fmt = '.4f' if normalize else 'd'\n",
    "    thresh = cm.min() + (cm.max() - cm.min()) * 2 / 3.\n",
    "    for i, j in itertools.product(range(cm.shape[0]), range(cm.shape[1])):\n",
    "        plt.text(j, i, format(cm[i, j], fmt),\n",
    "                 horizontalalignment=\"center\",\n",
    "                 color=\"white\" if cm[i, j] > thresh else \"black\")\n",
    "    plt.ylabel('Истина')\n",
    "    plt.xlabel('Предсказание')\n",
    "    plt.tight_layout()"
   ]
  },
  {
   "cell_type": "code",
   "execution_count": 73,
   "metadata": {
    "slideshow": {
     "slide_type": "subslide"
    }
   },
   "outputs": [
    {
     "data": {
      "image/png": "[encoded data removed]",
      "text/plain": [
       "<Figure size 864x432 with 2 Axes>"
      ]
     },
     "metadata": {
      "needs_background": "light"
     },
     "output_type": "display_data"
    }
   ],
   "source": [
    "plt.figure()\n",
    "plot_confusion_matrix(cnf_matrix, classes=class_names, \n",
    "                      title='Матрица неточностей, без нормализации')\n",
    "plt.show()"
   ]
  },
  {
   "cell_type": "code",
   "execution_count": 74,
   "metadata": {
    "slideshow": {
     "slide_type": "subslide"
    }
   },
   "outputs": [
    {
     "data": {
      "image/png": "[encoded data removed]",
      "text/plain": [
       "<Figure size 864x432 with 2 Axes>"
      ]
     },
     "metadata": {
      "needs_background": "light"
     },
     "output_type": "display_data"
    }
   ],
   "source": [
    "plt.figure()\n",
    "plot_confusion_matrix(cnf_matrix, classes=class_names, normalize=True,                      \n",
    "                      title='Матрица неточностей, нормализована')\n",
    "plt.show()"
   ]
  },
  {
   "cell_type": "markdown",
   "metadata": {
    "slideshow": {
     "slide_type": "slide"
    }
   },
   "source": [
    "## Ещё немного наивного Байеса\n",
    "\n",
    "Пакет **sklearn** помимо гауссова класификатора содержит\n",
    "\n",
    " * мультиномиальный класификатор __MultinomialNB__ или его чуть более доработанная версия **ComplementNB** (особенно в случае несбалансированных данных). Использует аддитивное сглаживание (additive smoothing). Является расширением биномиального распределения. Подходит для анализа текстов.\n",
    " * классификатор на основе распределения Бернулли __BernoulliNB__. Подходит для бинарных признаков."
   ]
  },
  {
   "cell_type": "markdown",
   "metadata": {
    "slideshow": {
     "slide_type": "slide"
    }
   },
   "source": [
    "## Что почитать?\n",
    "\n",
    "* K.P. Murphy Machine Learning. A Probabilistic Perspective.\n",
    "* C.E. Rasmussen and C.K.I. Williams. Gaussian Processes for Machine Learning"
   ]
  },
  {
   "cell_type": "markdown",
   "metadata": {
    "slideshow": {
     "slide_type": "slide"
    }
   },
   "source": [
    "## Смеси\n",
    "\n",
    "Нередко, может получатся так, что распределение случайной величины не описывается стандартным распределением."
   ]
  },
  {
   "cell_type": "code",
   "execution_count": 76,
   "metadata": {
    "slideshow": {
     "slide_type": "subslide"
    }
   },
   "outputs": [
    {
     "data": {
      "image/png": "[encoded data removed]",
      "text/plain": [
       "<Figure size 864x432 with 1 Axes>"
      ]
     },
     "metadata": {
      "needs_background": "light"
     },
     "output_type": "display_data"
    }
   ],
   "source": [
    "from scipy.stats import norm \n",
    "N = 10000 # количество сэмплов\n",
    "C = 3 # число компонент\n",
    "weights = [0.4, 0.35, 0.25]\n",
    "rds = [norm(-4, 1.2), norm(-0, 1.8), norm(4, 1)]\n",
    "mixture_idx = np.random.choice(C, size=N, replace=True, p=weights)\n",
    "\n",
    "samples = np.fromiter( (rds[i].rvs() for i in mixture_idx), float)\n",
    "plt.hist(samples, density=True, bins=50);"
   ]
  },
  {
   "cell_type": "markdown",
   "metadata": {
    "slideshow": {
     "slide_type": "subslide"
    }
   },
   "source": [
    "Здесь можно увидеть, что итоговое распределение состоит из нескольких нормальных распределений.\n",
    "\n",
    "В этом случае обычно говорят о том, что мы имеем дело со смесью распределений случайных величин."
   ]
  },
  {
   "cell_type": "markdown",
   "metadata": {
    "slideshow": {
     "slide_type": "subslide"
    }
   },
   "source": [
    "$$\n",
    "f(\\vec{x}) = \\sum_i \\phi_i f_i(\\vec{x}|\\vec{\\theta}_i) \\\\\n",
    "\\sum_i \\phi_i = 1 \\\\\n",
    "0 \\le \\phi_i \\le 1\n",
    "$$\n",
    "  - $\\phi_i$ - априорная вероятность компоненты\n",
    "  - $f_i$ - плотность распределения компоненты\n",
    "  - $\\vec{\\theta_i}$ - набор параметров (скрытые), которые не могут быть получены явным образом из данных"
   ]
  },
  {
   "cell_type": "markdown",
   "metadata": {
    "slideshow": {
     "slide_type": "subslide"
    }
   },
   "source": [
    "## Gaussian mixture model\n",
    "\n",
    "Довольно часто на практике используются модели смесей гауссовых распределений\n",
    "\n",
    "$$\n",
    "P(\\vec{x} | \\vec{\\theta}) = \\sum_i \\phi_i \\mathcal{N} (\\vec{x} | \\vec{\\mu}_i, \\mathbf{\\Sigma}_i)\n",
    "\\\\\n",
    "\\mathcal{N} (\\vec{x} | \\vec{\\mu}, \\mathbf{\\Sigma}) = \\frac{1}{\\sqrt{(2\\pi)^d |\\mathbf{\\Sigma}|}}\n",
    "\\exp\\left[\n",
    "-\\frac{1}{2}\n",
    "(\\vec{x} - \\vec{\\mu})^T \n",
    "\\mathbf{\\Sigma}\n",
    "(\\vec{x} - \\vec{\\mu})\n",
    "\\right]\n",
    "$$"
   ]
  },
  {
   "cell_type": "markdown",
   "metadata": {
    "slideshow": {
     "slide_type": "slide"
    }
   },
   "source": [
    "Данная модель может быть использована для задач кластеризации или классификации данных."
   ]
  },
  {
   "cell_type": "markdown",
   "metadata": {
    "slideshow": {
     "slide_type": "slide"
    }
   },
   "source": [
    "## Поиск скрытых параметров\n",
    "\n",
    "Все отлично, мы знаем теперь, что мы работаем со смесью, но как при этом получить значения скрытых параметров из имеющихся данных?"
   ]
  },
  {
   "cell_type": "markdown",
   "metadata": {
    "slideshow": {
     "slide_type": "slide"
    }
   },
   "source": [
    "## Метод максимального правдоподобия\n",
    "\n",
    "На помощь снова приходит метод максимального правдаподобия, нам всего лишь нужно найти значения параметров распределений, которые максимизируют значение функционала\n",
    "\n",
    "$$\n",
    "P(x_{1:N}|\\vec{\\theta}) = \\prod_i P(\\vec{x}_i|\\vec{\\theta})\n",
    "\\\\\n",
    "x_{1:N} = x_1, x_2, \\ldots, x_N\n",
    "$$\n",
    "\n",
    "Здесь используется предположение о том, что каждое измерение $x$ является независимым.\n",
    "\n",
    "Максимум довольно легко ищется, если у нас небольшое число скрытых параметров, но с увеличением количества этих параметров, сложность значительно повышается."
   ]
  },
  {
   "cell_type": "markdown",
   "metadata": {
    "slideshow": {
     "slide_type": "subslide"
    }
   },
   "source": [
    "## EM-алгоритм\n",
    "\n",
    "EM(Expectation-Maximization) - алгоритм позволяет найти оценку скрытых параметров вероятностных моделей."
   ]
  },
  {
   "cell_type": "markdown",
   "metadata": {
    "slideshow": {
     "slide_type": "subslide"
    }
   },
   "source": [
    "Начнем с логарифмической функции правдоподобия\n",
    "\n",
    "$$\n",
    "\\mathcal{L}(\\vec{\\theta}|\\vec{x}_{1:N}) = \\ln P(\\vec{x}_{1:N}|\\vec{\\theta}) = \\sum_i \\ln P(\\vec{x}_i | \\vec{\\theta})\n",
    "$$\n",
    "\n",
    "Введем некий скрытый набор скрытых параметров $z$, который если бы существовал, то значительно облегчил нам жизнь, если бы был известен. В случае смесей, это может быть номер компоненты. \n",
    "\n",
    "$$\n",
    "\\mathcal{L}(\\vec{\\theta}) = \\sum_i \\ln \\sum_{\\vec{z}_i} P(\\vec{x}_i, \\vec{z}_i | \\vec{\\theta})\n",
    "$$\n",
    "\n",
    "Здесь я пользуюсь свойством:\n",
    "\n",
    "$$\n",
    "\\sum_B P(AB) = P(A)\n",
    "$$"
   ]
  },
  {
   "cell_type": "markdown",
   "metadata": {
    "slideshow": {
     "slide_type": "subslide"
    }
   },
   "source": [
    "## Неравенство Йенсена\n",
    "\n",
    "Приведем небольшую теорему, которая нам пригодится в дальнейшем.\n",
    "\n",
    "Если функция $f(x)$ - выпукла, $x$ - некая случайная величина, тогда имеет место следующее неравенство\n",
    "\n",
    "$$\n",
    "E[f(x)] \\ge f(E[x]) \n",
    "$$\n",
    "\n",
    "или для логарифма\n",
    "\n",
    "$$\n",
    "\\ln(E[x]) \\ge E[\\ln(x)] \n",
    "$$\n",
    "\n",
    "Или все тоже самое, но в случае явного задания дискретного распределения\n",
    " \n",
    "$$\n",
    "\\sum_i P(x_i) f(x_i) \\ge f\\left(\\sum_i P(x_i) x_i \\right)\n",
    "\\\\\n",
    "\\ln\\left(\\sum_i P(x_i) x_i\\right) \\ge \\sum_i P(x_i) \\ln(x_i) \n",
    "$$"
   ]
  },
  {
   "cell_type": "markdown",
   "metadata": {
    "slideshow": {
     "slide_type": "subslide"
    }
   },
   "source": [
    "## EM-алгоритм (продолжение)\n",
    " \n",
    "$$\n",
    "\\mathcal L(\\vec{\\theta}) = \\sum_i \\ln \\sum_{\\vec{z}_i} P(\\vec{x}_i, \\vec{z}_i | \\vec{\\theta})\n",
    "$$"
   ]
  },
  {
   "cell_type": "markdown",
   "metadata": {
    "slideshow": {
     "slide_type": "subslide"
    }
   },
   "source": [
    "Пусть у нас есть какая-то оценка параметров $\\vec{\\theta}^{(n)}$, то мы можем посчитать распределение \n",
    "\n",
    "$$\n",
    "P(\\vec{z}_i | \\vec{x}_i, \\vec{\\theta}^{(n)}) \n",
    "$$\n",
    "\n",
    "Домножим на него и разделим внутри суммы по $\\vec{z}_i$ в нашей функции правдоподобия\n",
    "\n",
    "$$\n",
    "\\mathcal L(\\vec{\\theta}) \n",
    "=\n",
    "\\sum_i \\ln \\sum_{\\vec{z}_i} P(\\vec{z}_i | \\vec{x}_i, \\vec{\\theta}^{(n)})   \\frac{P(\\vec{x}_i, \\vec{z}_i | \\vec{\\theta})}{P(\\vec{z}_i | \\vec{x}_i, \\vec{\\theta}^{(n)}) }\n",
    "$$"
   ]
  },
  {
   "cell_type": "markdown",
   "metadata": {
    "slideshow": {
     "slide_type": "subslide"
    }
   },
   "source": [
    "Раз у нас есть оценка параметров, то мы можем посчитать $\\mathcal L(\\vec{\\theta}^{(n)})$ и затем рассмотрим разность\n",
    "\n",
    "$$\n",
    "\\mathcal L(\\vec{\\theta}) - \\mathcal L(\\vec{\\theta}^{(n)}) = \n",
    "\\sum_i \\ln \\sum_{\\vec{z}_i} P(\\vec{z}_i | \\vec{x}_i, \\vec{\\theta}^{(n)})   \\frac{P(\\vec{x}_i, \\vec{z}_i | \\vec{\\theta})}{P(\\vec{z}_i | \\vec{x}_i, \\vec{\\theta}^{(n)}) } - \n",
    "\\sum_i \\ln P(\\vec{x}_i | \\vec{\\theta}^{(n)})  \n",
    "$$\n",
    "\n",
    "$$\n",
    "\\mathcal L(\\vec{\\theta}) - \\mathcal L(\\vec{\\theta}^{(n)}) = \n",
    "\\sum_i \\ln \\sum_{\\vec{z}_i} P(\\vec{z}_i | \\vec{x}_i, \\vec{\\theta}^{(n)})   \\frac{P(\\vec{x}_i, \\vec{z}_i | \\vec{\\theta})}{P(\\vec{z}_i | \\vec{x}_i, \\vec{\\theta}^{(n)}) P(\\vec{x}_i | \\vec{\\theta}^{(n)})   } \n",
    "$$\n",
    "\n",
    "Несложно заметить, что выражение внутри логарифма совпадает с определением среднего, а значит мы можем воспользоваться неравенством Йенсена"
   ]
  },
  {
   "cell_type": "markdown",
   "metadata": {
    "slideshow": {
     "slide_type": "subslide"
    }
   },
   "source": [
    "$$\n",
    "\\sum_i \\ln \\sum_{\\vec{z}_i} P(\\vec{z}_i | \\vec{x}_i, \\vec{\\theta}^{(n)})   \\frac{P(\\vec{x}_i, \\vec{z}_i | \\vec{\\theta})}{P(\\vec{z}_i | \\vec{x}_i, \\vec{\\theta}^{(n)}) P(\\vec{x}_i | \\vec{\\theta}^{(n)})   } \n",
    "\\ge \n",
    "\\sum_i \\sum_{\\vec{z}_i} P(\\vec{z}_i | \\vec{x}_i, \\vec{\\theta}^{(n)}) \\ln   \\frac{P(\\vec{x}_i, \\vec{z}_i | \\vec{\\theta})}{P(\\vec{z}_i | \\vec{x}_i, \\vec{\\theta}^{(n)}) P(\\vec{x}_i | \\vec{\\theta}^{(n)})   } \n",
    "$$"
   ]
  },
  {
   "cell_type": "markdown",
   "metadata": {
    "slideshow": {
     "slide_type": "subslide"
    }
   },
   "source": [
    "Введем обозначение\n",
    "\n",
    "$$\n",
    "\\mathcal l (\\vec{\\theta}|\\vec{\\theta}^{(n)}) = \\mathcal L(\\vec{\\theta}^{(n)}) + \\sum_i \\sum_{\\vec{z}_i} P(\\vec{z}_i | \\vec{x}_i, \\vec{\\theta}^{(n)}) \\ln   \\frac{P(\\vec{x}_i, \\vec{z}_i | \\vec{\\theta})}{P(\\vec{z}_i | \\vec{x}_i, \\vec{\\theta}^{(n)}) P(\\vec{x}_i | \\vec{\\theta}^{(n)})   } \n",
    "$$\n",
    "\n",
    "Тогда из неравенства выше\n",
    "\n",
    "$$\n",
    "\\mathcal L(\\vec{\\theta}) \n",
    "\\ge\n",
    "\\mathcal l (\\vec{\\theta}|\\vec{\\theta}^{(n)})\n",
    "$$\n",
    "\n",
    "При этом не сложно показать, что \n",
    "$$\n",
    "\\mathcal l (\\vec{\\theta}^{(n)}|\\vec{\\theta}^{(n)}) = \\mathcal L(\\vec{\\theta}^{(n)})\n",
    "$$"
   ]
  },
  {
   "cell_type": "markdown",
   "metadata": {
    "slideshow": {
     "slide_type": "subslide"
    }
   },
   "source": [
    "Таким образом улучшение $\\mathcal l (\\vec{\\theta}|\\vec{\\theta}^{(n)})$ будет улучшать $\\mathcal L(\\vec{\\theta})$, при этом самое лучшее можно получить так\n",
    "\n",
    "$$\n",
    "\\vec{\\theta}^{(n+1)} = \\arg \\max_\\theta \\mathcal l (\\vec{\\theta}|\\vec{\\theta}^{(n)})\n",
    "$$"
   ]
  },
  {
   "cell_type": "markdown",
   "metadata": {
    "slideshow": {
     "slide_type": "subslide"
    }
   },
   "source": [
    "<div><img style=\"margin-left:auto; margin-right: auto\" src=\"ltt.png\"/></div>"
   ]
  },
  {
   "cell_type": "markdown",
   "metadata": {
    "slideshow": {
     "slide_type": "subslide"
    }
   },
   "source": [
    "В итоге, мы можем записать выражение (попутно выкинув все, что не зависит от $\\vec{\\theta}$)\n",
    "\n",
    "$$\n",
    "\\vec{\\theta}^{(n+1)} = \\arg \\max_\\theta \\sum_i \\sum_{\\vec{z}_i} P(\\vec{z}_i | \\vec{x}_i, \\vec{\\theta}^{(n)}) \\ln   P(\\vec{x}_i, \\vec{z}_i | \\vec{\\theta})\n",
    "$$"
   ]
  },
  {
   "cell_type": "markdown",
   "metadata": {
    "slideshow": {
     "slide_type": "subslide"
    }
   },
   "source": [
    "# EM-алгоритм\n",
    "\n",
    "1) __Expectation.__ На данном шаге мы рассчитываем \n",
    "\n",
    "$$\n",
    "P(\\vec{z}_i | \\vec{x}_i, \\vec{\\theta}^{(n)}) \n",
    "$$\n",
    "\n",
    "2) __Maximization.__ После мы ищем следующую оценку\n",
    "\n",
    "$$\n",
    "\\vec{\\theta}^{(n+1)} = \\arg \\max_\\theta \\sum_i \\sum_{\\vec{z}_i} P(\\vec{z}_i | \\vec{x}_i, \\vec{\\theta}^{(n)}) \\ln   P(\\vec{x}_i, \\vec{z}_i | \\vec{\\theta})\n",
    "$$"
   ]
  },
  {
   "cell_type": "markdown",
   "metadata": {
    "slideshow": {
     "slide_type": "slide"
    }
   },
   "source": [
    "## Gaussian Mixture Model\n",
    "\n",
    "Все отлично, но как это работает в жизни\n",
    "\n",
    "Рассмотрим простейший случай. Пусть у нас есть смесь гауссиан с неизвестными средними значениями и дисперсиями\n",
    "\n",
    "$$\n",
    "P(x | \\vec{\\theta}) = \\sum_c \\phi_c \\mathcal N (x | \\mu_c, \\sigma_c)\n",
    "$$"
   ]
  },
  {
   "cell_type": "markdown",
   "metadata": {
    "slideshow": {
     "slide_type": "subslide"
    }
   },
   "source": [
    "Отсюда мы сразу можем записать несколько выражений\n",
    "\n",
    "$$\n",
    "P(x_i | z_i = c, \\vec{\\theta}) = \\mathcal N (x | \\mu_c, \\sigma_c)\n",
    "\\\\\n",
    "P(z_i = c | \\vec{\\theta}) = \\phi_c\n",
    "$$"
   ]
  },
  {
   "cell_type": "markdown",
   "metadata": {
    "slideshow": {
     "slide_type": "subslide"
    }
   },
   "source": [
    "Найдем для начала $P({z}_i | {x}_i, \\vec{\\theta}^{(n)})$\n",
    "\n",
    "$$\n",
    "P(z_i = c | x_i, \\vec{\\theta}^{(n)}) \n",
    "= \\frac{ P(x_i|z_i = c, \\vec{\\theta}^{(n)}) P(z_i = c | \\vec{\\theta}^{(n)}) } { P(x_i | \\vec{\\theta}^{(n)}) }\n",
    "= \\frac{ \\phi_c^{(n)} \\mathcal N (x_i | \\mu_c^{(n)}, \\sigma_c^{(n)}) } { \\sum_k \\phi_k^{(n)} \\mathcal N (x_i | \\mu_k^{(n)}, \\sigma_k^{(n)}) }\n",
    "$$\n",
    "\n",
    "Будем это обозначать как \n",
    "\n",
    "$$\n",
    "\\omega_{ic} = \\frac{ \\phi_c^{(n)} \\mathcal N (x_i | \\mu_c^{(n)}, \\sigma_c^{(n)}) } { \\sum_k \\phi_k^{(n)} \\mathcal N (x_i | \\mu_k^{(n)}, \\sigma_k^{(n)}) }\n",
    "$$"
   ]
  },
  {
   "cell_type": "markdown",
   "metadata": {
    "slideshow": {
     "slide_type": "subslide"
    }
   },
   "source": [
    "Для успешной максимизации немного перепишем выражение\n",
    "\n",
    "$$\n",
    "\\ln P(x_i, z_i = c | \\vec{\\theta}) \n",
    "= \\\\ =\n",
    "P(x_i|z_i = c, \\vec{\\theta}) P(z_i = c| \\vec{\\theta}) \n",
    "= \\\\ =\n",
    "\\ln \\phi_c \\mathcal N (x_i | \\mu_c, \\sigma_c) \n",
    "= \\\\ =\n",
    "\\ln\\phi_c - \\frac{1}{2}\\ln\\left[2\\pi\\right] - \\ln\\sigma_c - \\frac{1}{2} \\frac{(x_i-\\mu_c)^2}{\\sigma^2_c}\n",
    "$$"
   ]
  },
  {
   "cell_type": "markdown",
   "metadata": {
    "slideshow": {
     "slide_type": "subslide"
    }
   },
   "source": [
    "А теперь нам всего лишь нужно найти экстремум функции (константы можно выкинуть)\n",
    "\n",
    "$$\n",
    "\\sum_i \\sum_{\\vec{z}_i} P(\\vec{z}_i | \\vec{x}_i, \\vec{\\theta}^{(n)}) \\ln   P(\\vec{x}_i, \\vec{z}_i | \\vec{\\theta}) \\propto \\sum_i \\sum_c \\omega_{ic} \\left(\n",
    "    \\ln\\phi_c - \\ln\\sigma_c - \\frac{1}{2} \\frac{(x_i-\\mu_c)^2}{\\sigma_c^2}\n",
    "\\right)\n",
    "$$"
   ]
  },
  {
   "cell_type": "markdown",
   "metadata": {
    "slideshow": {
     "slide_type": "subslide"
    }
   },
   "source": [
    "Сделать это довольно просто, нам нужно взять первые производные и приравнять их к нулю.\n",
    "\n",
    "Производная по $\\mu_c$\n",
    "\n",
    "$$\n",
    "\\sum_i \\omega_{ic} \\left(\n",
    "   \\frac{x_i-\\mu_c}{\\sigma_c^2}\n",
    "\\right)\n",
    "=\n",
    "0\n",
    "$$\n",
    "\n",
    "Откуда\n",
    "\n",
    "$$\n",
    "\\mu_c = \\frac{ \\sum_i \\omega_{ic} x_i } { \\sum_i \\omega_{ic} }\n",
    "$$"
   ]
  },
  {
   "cell_type": "markdown",
   "metadata": {
    "slideshow": {
     "slide_type": "subslide"
    }
   },
   "source": [
    "Для $\\sigma_c$ предлагаю проделать самостоятельно, результат будет\n",
    "\n",
    "\n",
    "$$\n",
    "\\sigma_c^2 =  \\frac{ \\sum_i \\omega_{ic} (x_i - \\mu_c)^2 } { \\sum_i \\omega_{ic} }\n",
    "$$"
   ]
  },
  {
   "cell_type": "markdown",
   "metadata": {
    "slideshow": {
     "slide_type": "subslide"
    }
   },
   "source": [
    "А вот для того, чтобы найти $\\phi_c$ нужно вспомнить, что у нас есть требование\n",
    "\n",
    "$$\n",
    "\\sum_c \\phi_c = 1\n",
    "$$\n",
    "\n",
    "А значит, нам требуется искать условный экстремум. Для этого, нужно всего лишь добавить слагаемое $\\beta (\\sum_c \\phi_c - 1)$ и найти производную от выражения (слагаемые, что не зависят от $\\phi_c$ опущены)\n",
    "\n",
    "$$\n",
    "\\sum_i \\sum_c \\omega_{ic} \\ln\\phi_c + \\beta (\\sum_c \\phi_c - 1)\n",
    "$$\n",
    "\n",
    "В результате получим\n",
    "\n",
    "$$\n",
    "\\phi_c = \\frac{1}{N} { \\sum_i \\omega_{ic} }\n",
    "$$"
   ]
  },
  {
   "cell_type": "markdown",
   "metadata": {
    "slideshow": {
     "slide_type": "slide"
    }
   },
   "source": [
    "## Результат\n",
    "\n",
    "Выберем некое начальное приближение для $\\phi_c$, $\\mu_c$, $\\sigma_c$. Далее наш алгоритм теперь выглядит так\n",
    "\n",
    "1) Посчитать для текущих значений $\\phi_c$, $\\mu_c$, $\\sigma_c$\n",
    "$$\n",
    "\\omega_{ic} = \\frac{ \\phi_c^{(n)} \\mathcal N (x_i | \\mu_c^{(n)}, \\sigma_c^{(n)}) } { \\sum_k \\phi_k^{(n)} \\mathcal N (x_i | \\mu_k^{(n)}, \\sigma_k^{(n)}) }\n",
    "$$\n",
    "\n",
    "2) Обновить значение параметров по порядку\n",
    "$$\n",
    "\\phi_c = \\frac{1}{N} { \\sum_i \\omega_{ic} }\n",
    "\\\\\n",
    "\\mu_c = \\frac{ \\sum_i \\omega_{ic} x_i } { \\sum_i \\omega_{ic} }\n",
    "\\\\\n",
    "\\sigma_c^2 =  \\frac{ \\sum_i \\omega_{ic} (x_i - \\mu_c)^2 } { \\sum_i \\omega_{ic} }\n",
    "$$"
   ]
  },
  {
   "cell_type": "markdown",
   "metadata": {
    "slideshow": {
     "slide_type": "slide"
    }
   },
   "source": [
    "# Пример"
   ]
  },
  {
   "cell_type": "code",
   "execution_count": 5,
   "metadata": {
    "slideshow": {
     "slide_type": "subslide"
    }
   },
   "outputs": [
    {
     "name": "stdout",
     "output_type": "stream",
     "text": [
      "phi =  [0.25829611 0.33303984 0.40866404]\n",
      "mu =  [ 3.97459791 -0.00844798 -3.98376485]\n",
      "sigma =  [1.01395947 1.68394846 1.20949911]\n"
     ]
    },
    {
     "data": {
      "image/png": "[encoded data removed]",
      "text/plain": [
       "<Figure size 864x576 with 1 Axes>"
      ]
     },
     "metadata": {
      "needs_background": "light"
     },
     "output_type": "display_data"
    }
   ],
   "source": [
    "# Задаем начальную оценку\n",
    "\n",
    "phi = np.array([1/3, 1/3, 1/3]).reshape(-1, 1)\n",
    "mu = np.array([-1, -2, -3]).reshape(-1, 1)\n",
    "sigma = np.array([1, 1, 1]).reshape(-1, 1)\n",
    "ss = samples[:].reshape(1, -1)\n",
    "N = ss.shape[1]\n",
    "\n",
    "# Поиск истинных значений\n",
    "\n",
    "for _ in range(100):\n",
    "    # E - шаг\n",
    "    omega = phi * norm.pdf(ss, loc=mu, scale=sigma)\n",
    "    tmp = np.sum(omega, axis=0, keepdims=True)\n",
    "    omega = omega / tmp\n",
    "    \n",
    "    s_omega = np.sum(omega, axis=1, keepdims=True)\n",
    "    \n",
    "    # M -  шаг\n",
    "    phi = s_omega / N \n",
    "    mu = np.sum(omega * ss, axis=1, keepdims=True) / s_omega\n",
    "    sigma = np.sqrt(np.sum(omega * (ss - mu)**2, axis=1, keepdims=True) / s_omega)\n",
    "\n",
    "# Вывод результата\n",
    "print( \"phi = \", phi.ravel() )\n",
    "print( \"mu = \", mu.ravel() )\n",
    "print( \"sigma = \", sigma.ravel() )\n",
    "    \n",
    "x = np.linspace(-7.5, 7.5, 1000)\n",
    "y1 = 0.4*norm.pdf(x, loc=-4, scale=1.2) + 0.35*norm.pdf(x, loc=0, scale=1.8) + 0.25*norm.pdf(x, loc=4, scale=1.0)\n",
    "y2 = np.sum(phi*norm.pdf(x, loc=mu, scale=sigma), axis=0)\n",
    "\n",
    "plt.figure(figsize=(12, 8))\n",
    "plt.plot(x, y1, label=\"Original\")\n",
    "plt.plot(x, y2, label=\"Restored\")\n",
    "plt.legend()\n",
    "plt.show()\n",
    "\n",
    "# phi [0.4, 0.35, 0.25]\n",
    "# mu = [-4, 0, 4]\n",
    "# sigma = [1.2, 1.8, 1.0] "
   ]
  },
  {
   "cell_type": "markdown",
   "metadata": {
    "slideshow": {
     "slide_type": "slide"
    }
   },
   "source": [
    "# GaussianMixture в SKLearn"
   ]
  },
  {
   "cell_type": "code",
   "execution_count": 82,
   "metadata": {
    "slideshow": {
     "slide_type": "subslide"
    }
   },
   "outputs": [],
   "source": [
    "import matplotlib.pyplot as plt\n",
    "import numpy as np\n",
    "\n",
    "from sklearn.mixture import GaussianMixture\n",
    "\n",
    "def scatter(data, target, components, outer=0.1):\n",
    "    x_min, x_max = data[:, 0].min(), data[:, 0].max()\n",
    "    x_w = x_max - x_min\n",
    "    y_min, y_max = data[:, 1].min(), data[:, 1].max()\n",
    "    y_w = y_max - y_min\n",
    "    xx, yy = np.meshgrid(\n",
    "        np.arange(x_min - x_w * outer, x_max + x_w * outer, 0.05),\n",
    "        np.arange(y_min - y_w * outer, x_max + y_w * outer, 0.05),\n",
    "    )\n",
    "\n",
    "    model = GaussianMixture(n_components=components)\n",
    "    model.fit(data)\n",
    "        \n",
    "    predict = model.predict(np.stack([xx.ravel(), yy.ravel()], axis=1))\n",
    "    plt.pcolormesh(xx, yy, predict.reshape(xx.shape), cmap=plt.get_cmap(\"Wistia\"))\n",
    "    plt.scatter(data[:, 0], data[:, 1], c=target/np.max(target), \n",
    "                cmap=plt.get_cmap(\"Wistia\"),\n",
    "                edgecolors='k', s=50, vmin=0, vmax=1);\n",
    "    plt.show()"
   ]
  },
  {
   "cell_type": "code",
   "execution_count": 83,
   "metadata": {
    "slideshow": {
     "slide_type": "subslide"
    }
   },
   "outputs": [
    {
     "data": {
      "text/plain": [
       "array([2., 2., 2.])"
      ]
     },
     "execution_count": 83,
     "metadata": {},
     "output_type": "execute_result"
    }
   ],
   "source": [
    "train1 = np.random.normal(size=(100, 2))\n",
    "train2 = np.random.normal(2, size=(100, 2))\n",
    "train3 = np.random.normal((-1, 3), size=(100, 2))\n",
    "data = np.vstack([train1, train2, train3])\n",
    "target = np.hstack([np.zeros(train1.shape[0]), np.ones(train2.shape[0]), np.full(train3.shape[0], 2)])\n",
    "target[-3:]"
   ]
  },
  {
   "cell_type": "code",
   "execution_count": 84,
   "metadata": {
    "slideshow": {
     "slide_type": "subslide"
    }
   },
   "outputs": [
    {
     "data": {
      "image/png": "[encoded data removed]",
      "text/plain": [
       "<Figure size 864x432 with 1 Axes>"
      ]
     },
     "metadata": {
      "needs_background": "light"
     },
     "output_type": "display_data"
    }
   ],
   "source": [
    "scatter(data, target, 3)"
   ]
  },
  {
   "cell_type": "markdown",
   "metadata": {
    "slideshow": {
     "slide_type": "slide"
    }
   },
   "source": [
    "# Анализ текстов\n",
    "\n",
    "Пусть у нас есть \n",
    "* $D$ - множество документов\n",
    "* $W$ - множество слов (токенов), образующих словарь\n",
    "\n",
    "Каждый документ $d \\in D$ состоит из последовательности слов $w_1, w_2, \\ldots$\n",
    "\n",
    "# Гипотеза о существование тем\n",
    "\n",
    "Предположим, что появление слова в документе связано с некой темой $t$ из наперед заданного множества тем $T$. Темы ненаблюдаемы."
   ]
  },
  {
   "cell_type": "markdown",
   "metadata": {
    "slideshow": {
     "slide_type": "slide"
    }
   },
   "source": [
    "# Bag of Words\n",
    "\n",
    "Сделаем очень сильное заявление - __порядок слов в документе не важен__. Это явно не так, но с этим заявлением с документами становится работать на много проще.\n",
    "\n",
    "Документ $d$ в этом случае представлен числом вхождений $n_{wd}$ слов $w$ "
   ]
  },
  {
   "cell_type": "markdown",
   "metadata": {
    "slideshow": {
     "slide_type": "slide"
    }
   },
   "source": [
    "# Модель\n",
    "\n",
    "В итоге мы можем получить распределение (если бы нам были известны темы)\n",
    "\n",
    "$$\n",
    "P(d, w, t) = \\frac{1}{N} \\sum_n [d_n = d][w_n = w][t_n = t]\n",
    "$$\n",
    "\n",
    "Предположим, что появление слов в документе не зависит от самого документа, а зависит только от темы\n",
    "\n",
    "$$\n",
    "P(w | d, t) = P(w | t)\n",
    "$$\n",
    "\n",
    "В итоге модель описывающая появление слов в документе\n",
    "\n",
    "$$\n",
    "P(w | d) = \\sum_t P(w | t, d) P(t | d) = \\sum_t P(w | t) P(t | d)\n",
    "$$\n",
    "\n",
    "где обычно вводят обозначения (по факту это матрицы)\n",
    "\n",
    "$$\n",
    "\\phi_{wt} = P(w | t)\n",
    "\\\\\n",
    "\\theta_{td} = P(t | d)\n",
    "\\\\\n",
    "P(w | d) = \\sum_t \\phi_{wt} \\theta_{td}\n",
    "$$\n",
    "\n",
    "Обычно стоит задача найти $\\phi_{wt}$ и $\\theta_{td}$ по заданному набору $D$, тогда отсюда можно будет найти распределения $P(t | w)$, $P(t | d)$ и $P(t | w, d)$"
   ]
  },
  {
   "cell_type": "markdown",
   "metadata": {
    "slideshow": {
     "slide_type": "slide"
    }
   },
   "source": [
    "## Решение через EM\n",
    "\n",
    "Оценки вероятностей мы можем найти достаточно просто, мы их просто можем посчитать на основе $D$\n",
    "\n",
    "$$\n",
    "P(d, w) = \\frac{N_{dw}}{N}\n",
    "\\\\\n",
    "P(d) = \\frac{N_d}{N}\n",
    "\\\\\n",
    "P(w) = \\frac{N_w}{N}\n",
    "\\\\\n",
    "P(w|d) = \\frac{N_{dw}}{N_d}\n",
    "$$\n",
    "\n",
    "Оценки вероятностей связанных с темами выражаются не сложнее, но при этом явно посчитать их нельзя в силу ненаблюдаемости темы\n",
    "$$\n",
    "P(t) = \\frac{N_{t}}{N}\n",
    "\\\\\n",
    "P(w | t) = \\frac{N_{wt}}{N_t}\n",
    "\\\\\n",
    "P(t | d ) = \\frac{N_{td}}{N_d}\n",
    "\\\\\n",
    "P(t|d ,w) = \\frac{N_{tdw}}{N_{dw}}\n",
    "$$"
   ]
  },
  {
   "cell_type": "markdown",
   "metadata": {
    "slideshow": {
     "slide_type": "subslide"
    }
   },
   "source": [
    "Если бы нам было известно $N_{tdw}$, то мы могли бы расчитать все остальные распределения. Если бы нам были известны все параметры, то найти это несложно\n",
    "\n",
    "$$\n",
    "P(t|d, w) = \\frac{ P(t, w | d) } {P(w|d)} = \\frac{ P(w|t) P(t|d) } {P(w|d)} \n",
    "= \\frac{ \\phi_{wt} \\theta_{td} }{\\sum_{t'} \\phi_{wt'} \\theta_{t'd}  }\n",
    "$$"
   ]
  },
  {
   "cell_type": "markdown",
   "metadata": {
    "slideshow": {
     "slide_type": "subslide"
    }
   },
   "source": [
    "Выразим все остальное\n",
    "\n",
    "$$\n",
    "\\phi_{wt} = \\frac{ P(w, t) } { P(t) } = \\frac{ \\sum_d P(t | d, w) P(d, w) }{ \\sum_w \\sum_d  P(t | d, w) P(d, w) }\n",
    "= \\frac{ \\sum_d P(t | d, w) N_{dw} }{ \\sum_w \\sum_d  P(t | d, w) N_{dw} }\n",
    "$$\n",
    "\n",
    "$$\n",
    "\\theta_{td} = \\frac{ P(t, d) } {P(d)} = \\frac{ \\sum_w P(t | d, w) P(d,w) } {\\sum_t \\sum_w P(t | d, w) P(d, w) } \n",
    "= \\frac{ \\sum_w P(t | d, w) N_{dw} } {\\sum_t \\sum_w P(t | d, w) N_{dw} } \n",
    "$$"
   ]
  },
  {
   "cell_type": "markdown",
   "metadata": {
    "slideshow": {
     "slide_type": "subslide"
    }
   },
   "source": [
    "Фактически оценка $P(t|d,w)$ на основе фиксированных параметров и набора документов - это E-шаг.\n",
    "Обновление параметров модели на основе вычисленной оценки $P(t|d,w)$ - это M-шаг.\n",
    "\n",
    "Фактически, мы получили pLSA (Probabilistic latent semantic analysis). Из минусов - довольно большое число параметров и при добавлении нового документа нужно перестраивать модель."
   ]
  },
  {
   "cell_type": "markdown",
   "metadata": {
    "slideshow": {
     "slide_type": "subslide"
    }
   },
   "source": [
    "# Latent Dirichlet allocation\n",
    "\n",
    "Улучшенной версией pLSA является латентное размещение Дирихле. В данном подходе предпологается, что априорное распределение тем подчиняется распределению Дирихле\n",
    "\n",
    "$$\n",
    "Dir(\\vec{\\theta_d}, \\vec{\\alpha}) = \\frac{ \\Gamma\\left(\\sum_t \\alpha_t\\right) } { \\prod_t \\Gamma(\\alpha_t) } \\prod_t \\theta_{td}^{\\alpha_t - 1} \n",
    "\\\\ \n",
    "Dir(\\vec{\\phi_t}, \\vec{\\beta}) = \\frac{ \\Gamma\\left(\\sum_w \\beta_w \\right) } { \\prod_w \\Gamma(\\beta_w) } \\prod_w \\phi_{wt}^{\\beta_w - 1} \n",
    "$$\n",
    "\n",
    "Искать параметры модели можно через EM или сэмплирование по Гиббсу."
   ]
  },
  {
   "cell_type": "markdown",
   "metadata": {
    "slideshow": {
     "slide_type": "subslide"
    }
   },
   "source": [
    "## Пример"
   ]
  },
  {
   "cell_type": "code",
   "execution_count": 53,
   "metadata": {
    "slideshow": {
     "slide_type": "subslide"
    }
   },
   "outputs": [],
   "source": [
    "from sklearn.feature_extraction.text import TfidfVectorizer, CountVectorizer\n",
    "from sklearn.datasets import fetch_20newsgroups\n",
    "\n",
    "dataset = fetch_20newsgroups(shuffle=True, random_state=1, remove=('headers', 'footers', 'quotes'))"
   ]
  },
  {
   "cell_type": "code",
   "execution_count": 175,
   "metadata": {
    "slideshow": {
     "slide_type": "subslide"
    }
   },
   "outputs": [
    {
     "name": "stdout",
     "output_type": "stream",
     "text": [
      "[('sure', 881), ('story', 867), ('did', 286), ('statement', 862), ('media', 587), ('pro', 717), ('israeli', 488), ('world', 988), ('having', 432), ('letter', 527)]\n",
      "[[0 0 0 0 0 0 0 0 0 0 0 0 0 0 0 0 0 0 0 0 0 0 0 0 0 0 0 0 0 0 0 0 0 0 0 0\n",
      "  0 0 0 0 0 0 0 0 0 0 0 0 0 0 0 0 0 0 0 0 0 0 0 0 0 0 0 0 0 0 0 0 0 0 0 0\n",
      "  0 0 0 0 0 0 0 0 0 0 0 0 0 0 0 0 0 0 0 0 0 0 0 0 0 0 0 0 0 0 0 0 0 0 0 0\n",
      "  0 0 0 0 0 0 0 0 0 0 0 0 0 0 0 0 0 0 0 0 0 0 1 0 0 0 0 0 0 0 0 0 0 0 0 0\n",
      "  0 0 0 0 0 0 0 0 0 0 0 0 0 0 0 0 0 0 0 0 0 0 0 0 0 0 0 0 0 0 0 0 0 0 0 0\n",
      "  0 0 0 0 0 0 0 0 0 0 0 0 0 0 0 0 0 0 0 0 0 0 0 0 0 0 1 0 0 0 0 0 0 0 0 0\n",
      "  0 0 0 0 0 0 0 0 0 0 0 0 0 0 0 0 0 0 0 0 0 0 0 0 0 0 0 0 0 0 0 0 0 0 0 0\n",
      "  0 0 0 0 0 0 0 0 0 0 0 0 0 0 0 0 0 0 0 0 0 0 0 0 0 0 0 0 0 0 0 0 0 0 1 0\n",
      "  0 0 0 0 0 0 0 0 0 0 0 0 0 0 0 0 0 0 0 0 0 0 0 0 0 0 0 0 0 0 0 0 0 0 0 0\n",
      "  0 0 0 0 0 0 0 0 0 0 0 0 0 0 0 0 0 0 0 0 0 0 0 0 0 0 0 0 0 0 0 0 0 0 0 0\n",
      "  0 0 0 0 0 0 0 0 0 0 0 0 0 0 0 0 0 0 0 0 0 0 0 0 0 0 0 0 0 0 0 0 0 0 0 0\n",
      "  0 0 0 0 0 0 0 0 0 0 0 0 0 0 1 0 1 0 0 0 0 0 0 0 0 0 0 0 0 0 0 0 0 0 0 0\n",
      "  1 0 0 0 0 0 0 0 0 0 0 0 0 0 0 0 0 0 0 0 0 0 0 0 0 0 0 0 0 0 0 0 0 0 0 0\n",
      "  0 0 0 0 0 0 0 0 0 0 0 0 0 0 0 0 0 0 0 0 2 0 0 0 0 1 0 0 0 0 0 0 0 0 0 0\n",
      "  0 0 0 0 0 0 0 0 0 0 0 0 0 0 0 0 0 0 0 0 0 0 0 1 0 0 0 0 0 0 0 0 0 0 0 0\n",
      "  0 0 0 0 0 0 0 0 1 0 0 0 0 0 0 0 0 0 0 0 0 0 0 0 0 0 0 1 0 0 0 0 0 0 0 0\n",
      "  0 0 0 0 0 0 0 0 0 0 0 4 0 0 0 0 0 0 0 0 0 0 0 0 0 0 0 0 0 0 0 0 0 0 0 0\n",
      "  0 0 0 0 0 0 0 0 0 0 0 0 0 0 0 0 0 0 0 0 0 0 0 0 0 0 0 0 0 0 0 0 0 0 0 0\n",
      "  0 0 0 0 0 0 0 0 0 0 0 0 0 0 0 0 0 0 0 0 0 0 0 0 0 0 0 0 0 0 0 0 0 0 0 0\n",
      "  0 0 0 0 0 0 0 0 0 0 0 0 0 0 0 0 0 0 0 0 0 0 0 0 1 0 0 0 0 0 0 0 0 1 0 0\n",
      "  0 0 0 0 0 0 0 0 0 0 0 0 0 0 0 0 0 0 0 0 0 0 0 0 0 0 0 0 1 0 1 0 0 0 0 0\n",
      "  0 0 0 0 0 0 0 0 1 0 0 0 0 0 0 0 0 0 0 0 0 0 0 0 0 0 0 0 0 0 0 0 0 0 0 0\n",
      "  0 0 0 0 0 0 0 0 0 0 0 0 0 0 0 0 0 0 0 0 0 0 0 0 0 0 0 0 0 0 0 0 0 0 0 0\n",
      "  0 0 0 0 0 0 0 0 0 0 0 0 0 1 0 0 0 0 0 0 0 0 0 0 0 0 0 0 0 0 0 0 0 0 1 0\n",
      "  0 0 0 1 0 0 0 0 0 0 0 0 0 0 0 0 0 1 0 0 0 0 0 0 0 0 0 0 0 0 0 0 0 0 0 0\n",
      "  0 0 0 0 1 0 0 0 0 0 0 0 0 0 0 0 0 0 0 0 0 0 0 1 0 0 0 0 0 0 0 0 0 0 0 0\n",
      "  0 0 0 0 0 0 0 0 0 0 0 0 0 0 0 0 0 0 0 0 0 0 0 0 0 0 0 0 0 0 0 0 0 0 0 0\n",
      "  0 0 0 0 0 0 0 0 0 0 0 0 0 0 0 0 1 0 0 0 0 0 0 0 0 0 0 0]]\n"
     ]
    }
   ],
   "source": [
    "n_features = 1000\n",
    "ND = 2000\n",
    "T = 10\n",
    "samples = dataset.data[:ND]\n",
    "\n",
    "vectorizer = CountVectorizer(max_df=0.95, min_df=2,\n",
    "                             max_features=n_features,\n",
    "                             stop_words='english')\n",
    "\n",
    "tf = vectorizer.fit_transform(samples)\n",
    "print(list(vectorizer.vocabulary_.items())[:10])\n",
    "print(tf[0].toarray())"
   ]
  },
  {
   "cell_type": "code",
   "execution_count": 176,
   "metadata": {
    "slideshow": {
     "slide_type": "subslide"
    }
   },
   "outputs": [
    {
     "data": {
      "text/plain": [
       "LatentDirichletAllocation(batch_size=128, doc_topic_prior=None,\n",
       "                          evaluate_every=-1, learning_decay=0.7,\n",
       "                          learning_method='online', learning_offset=50.0,\n",
       "                          max_doc_update_iter=100, max_iter=10,\n",
       "                          mean_change_tol=0.001, n_components=10, n_jobs=None,\n",
       "                          perp_tol=0.1, random_state=0, topic_word_prior=None,\n",
       "                          total_samples=1000000.0, verbose=0)"
      ]
     },
     "execution_count": 176,
     "metadata": {},
     "output_type": "execute_result"
    }
   ],
   "source": [
    "from sklearn.decomposition import LatentDirichletAllocation\n",
    "\n",
    "lda = LatentDirichletAllocation(n_components=T, max_iter=10,\n",
    "                                learning_method='online',\n",
    "                                learning_offset=50.,\n",
    "                                random_state=0)\n",
    "lda.fit(tf)"
   ]
  },
  {
   "cell_type": "code",
   "execution_count": 177,
   "metadata": {
    "slideshow": {
     "slide_type": "subslide"
    }
   },
   "outputs": [
    {
     "name": "stdout",
     "output_type": "stream",
     "text": [
      "Topic #0: edu com mail send graphics ftp pub available contact university\n",
      "Topic #1: don like just know think ve way good right use\n",
      "Topic #2: think christian atheism book pittsburgh faith new just radio like\n",
      "Topic #3: drive windows disk thanks use card drives hard using software\n",
      "Topic #4: hiv health aids april disease care medical research information 1993\n",
      "Topic #5: god people does just jesus good say don law life\n",
      "Topic #6: 55 10 11 game 15 18 team 12 19 period\n",
      "Topic #7: car year new cars bike just good engine like oil\n",
      "Topic #8: people said didn did know just went time like came\n",
      "Topic #9: key space government public law use encryption section earth security\n",
      "\n"
     ]
    }
   ],
   "source": [
    "feature_names = vectorizer.get_feature_names()\n",
    "\n",
    "def print_top_words(model, feature_names, n_top_words):\n",
    "    for topic_idx, topic in enumerate(model.components_):\n",
    "        message = \"Topic #%d: \" % topic_idx\n",
    "        message += \" \".join([feature_names[i]\n",
    "                             for i in topic.argsort()[:-n_top_words - 1:-1]])\n",
    "        print(message)\n",
    "    print()\n",
    "    \n",
    "print_top_words(lda, feature_names, 10)"
   ]
  },
  {
   "cell_type": "markdown",
   "metadata": {
    "slideshow": {
     "slide_type": "slide"
    }
   },
   "source": [
    "# Марковские модели\n",
    "\n",
    "Пусть у нас есть система с конечным числом исходов. При этом вероятность перехода из текущего состояния в следующее зависит только от текущего состояния и не зависит от прошлого.\n",
    "\n",
    "То есть фактически\n",
    "\n",
    "$$\n",
    "P(x_{n+1} = i_{n+1} | x_{n} = i_{n}, x_{n-1} = i_{n-1}, \\ldots, x_{0} = i_{0}) = P(x_{n+1} = i_{n+1} |  x_{n} = i_{n})\n",
    "$$"
   ]
  },
  {
   "cell_type": "markdown",
   "metadata": {
    "slideshow": {
     "slide_type": "subslide"
    }
   },
   "source": [
    "<img src=\"https://www.kdnuggets.com/wp-content/uploads/strika-martin-2.png\">"
   ]
  },
  {
   "cell_type": "markdown",
   "metadata": {
    "slideshow": {
     "slide_type": "slide"
    }
   },
   "source": [
    "# Скрытые марковские модели\n",
    "\n",
    "Представим, что мы наблюдаем какую-то случайную величину. Мы можем сделать предположение, что вероятность наблюдения тех или иных ее значений может зависить от какого-то неизвестного внутреннего состояния. Пусть это внутреннее состояние будет марковским процессом. При этом, если бы знали это внутреннее состояние, то наша жизнь стала бы значительно проще.\n",
    "\n",
    "Такие модели называют скрытыми марковскими моделями (Hidden Markov Model или HMM)"
   ]
  },
  {
   "cell_type": "markdown",
   "metadata": {
    "slideshow": {
     "slide_type": "subslide"
    }
   },
   "source": [
    "<div style=\"background:white\">\n",
    "<img src=\"https://upload.wikimedia.org/wikipedia/commons/8/83/Hmm_temporal_bayesian_net.svg\">\n",
    "    </div>"
   ]
  },
  {
   "cell_type": "markdown",
   "metadata": {
    "slideshow": {
     "slide_type": "subslide"
    }
   },
   "source": [
    "Чем же характеризуется скрытая марковская модель\n",
    "\n",
    "* $x_t$ - случайная величина в момент времени $t$, может принимать $\\Omega$ возможных значений\n",
    "* $z_t$ - внутреннее состояние системы в момент времени $t$, может находится в $K$ состояниях\n",
    "* $\\vec{\\pi} = P(z_0)$ - вектор вероятностей начальных состояний ($K \\times 1$)\n",
    "* $A_{ij} = P(z_{t+1} = j | z_{t} = i)$ - матрица вероятностей перехода ($K \\times K$)\n",
    "* $B_{kj} = B_j(x_t) = P(x_t = k | z_t = j)$ - матрица вероятностей наблюдений ($\\Omega \\times K$)\n",
    "\n",
    "или кратко\n",
    "\n",
    "$$\n",
    "\\lambda = (\\mathbf A, \\mathbf B, \\vec{\\pi})\n",
    "$$"
   ]
  },
  {
   "cell_type": "markdown",
   "metadata": {
    "slideshow": {
     "slide_type": "slide"
    }
   },
   "source": [
    "# Задачи скрытых марковских моделей\n",
    "\n",
    "Для успешного применения HMM требуется для начала решить три проблемы\n",
    "\n",
    "1. Найти вероятность последовательности измерений при известной модели\n",
    "2. Найти самое вероятную последовательность внутренних состояний при известной модели\n",
    "3. Найти параметры модели по последовательности наблюдений"
   ]
  },
  {
   "cell_type": "markdown",
   "metadata": {
    "slideshow": {
     "slide_type": "slide"
    }
   },
   "source": [
    "## Задача 1 (Forward-Backward)\n",
    "\n",
    "> Пусть у нас есть последовательность измерений $x_1, x_2, \\ldots, x_T$. Какова вероятность получить данную последовательность при известной модели $\\lambda = (\\mathbf A, \\mathbf B, \\vec{\\pi})$?"
   ]
  },
  {
   "cell_type": "markdown",
   "metadata": {
    "slideshow": {
     "slide_type": "subslide"
    }
   },
   "source": [
    "Чтобы решить данную задачу нам нужно посчитать $P(x_{1:T})$\n",
    "\n",
    "$$\n",
    "P(x_{1:T}) = \\sum_{z_{1:T}} P(x_{1:T}, z_{1:T})\n",
    "$$\n",
    "\n",
    "Но это довольно трудоемкая операция, которую значительно можно упростить с помощью динамического программирования. Для этого рассмотрим следующую величину:\n",
    "$$\n",
    "P(x_{1:t}, z_t = j) = \\alpha_t(j)\n",
    "$$\n",
    "\n",
    "Достаточно очевидно, что \n",
    "$$\n",
    "\\sum_j P(x_{1:t}, z_t = j) = P(x_{1:t})\n",
    "$$\n"
   ]
  },
  {
   "cell_type": "markdown",
   "metadata": {
    "slideshow": {
     "slide_type": "subslide"
    }
   },
   "source": [
    "Попробуем её рассчитать для $t=1$:\n",
    "$$\n",
    "P(x_1, z_t = j) = P(x_1| z_1 = j) P(z_1 = j) = \\pi_j B_j(x_1) \n",
    "$$"
   ]
  },
  {
   "cell_type": "markdown",
   "metadata": {
    "slideshow": {
     "slide_type": "subslide"
    }
   },
   "source": [
    "Далее рассмотрим $t=2$\n",
    "\n",
    "$$\n",
    "P(x_1, x_2, z_2 = j) = \\sum_i P(x_1, z_1 = i) P(x_2 | z_2) P(z_1 = i | z_2 = j)\n",
    "=\\\\= \n",
    "B_j(x_2) \\sum_i A_{ij} \\alpha_1(i)\n",
    "$$"
   ]
  },
  {
   "cell_type": "markdown",
   "metadata": {
    "slideshow": {
     "slide_type": "subslide"
    }
   },
   "source": [
    "И мы можем это сделать для любого $t$\n",
    "$$\n",
    "\\alpha_t(j) =  \\sum_i \\alpha_{t-1}(i) A_{ij}  B_j(x_t) \n",
    "$$"
   ]
  },
  {
   "cell_type": "markdown",
   "metadata": {
    "slideshow": {
     "slide_type": "subslide"
    }
   },
   "source": [
    "## Резюме алгоритма Forward\n",
    "\n",
    "В итоге получаем довольно простой алгоритм\n",
    "\n",
    "1) Расчитываем первое значение\n",
    "$$\n",
    "\\alpha_1(j) = \\pi_j B_{j}(x_1) \n",
    "$$\n",
    "\n",
    "2) Расчитываем каждое последующее\n",
    "$$\n",
    "\\alpha_t(j) = B_j(x_t) \\sum_i \\alpha_{t-1}(i) A_{ij} \n",
    "$$\n",
    "\n",
    "3) Расчитываем вероятность всей последовательности\n",
    "$$\n",
    "P(x_1, \\ldots, x_T) = \\sum_i \\alpha_T(i)\n",
    "$$"
   ]
  },
  {
   "cell_type": "markdown",
   "metadata": {
    "slideshow": {
     "slide_type": "slide"
    }
   },
   "source": [
    "## Backward\n",
    "\n",
    "Мы можем проделать тоже самое, но с конца последовательности, для этого нужно рассмотреть лишь\n",
    "\n",
    "$$\n",
    "\\beta_t(j) = P(x_{t+1:T}, z_t = j)\n",
    "$$\n",
    "\n",
    "При этом\n",
    "$$\n",
    "\\beta_T(j) = 1\n",
    "\\\\\n",
    "P(x_{1:T}) = \\sum_j P(x_{1:T}, z_t = j) = \\sum_j P(x_{1:t}, z_t = j) P(x_{t+1:T}, z_t = j)\n",
    "= \\\\ =\\sum_j \\alpha_t(j) \\beta_t(j)\n",
    "$$"
   ]
  },
  {
   "cell_type": "markdown",
   "metadata": {
    "slideshow": {
     "slide_type": "subslide"
    }
   },
   "source": [
    "## Резюме алгоритма Backward\n",
    "\n",
    "1) Расчитываем первое значение\n",
    "$$\n",
    "\\beta_T(i) = 1\n",
    "$$\n",
    "\n",
    "2) Расчитываем каждое последующее\n",
    "$$\n",
    "\\beta_t(j) =  \\sum_j A_{ij}  B_j(x_{t+1}) \\beta_{t+1}(j) \n",
    "$$\n",
    "\n",
    "3) Расчитываем вероятность всей последовательности\n",
    "$$\n",
    "P(x_1, \\ldots, x_T) = \\sum_i \\pi_i B_i(x_1) \\beta_1(i)\n",
    "$$"
   ]
  },
  {
   "cell_type": "markdown",
   "metadata": {
    "slideshow": {
     "slide_type": "slide"
    }
   },
   "source": [
    "## Задача 2 (Витерби алгоритм)\n",
    "\n",
    ">Пусть у нас есть последовательность измерений $x_1, x_2, \\ldots, x_T$. Какая наиболее вероятная последовательность $z_1, z_2, \\ldots, z_T$ при известной модели $\\lambda = (\\mathbf A, \\mathbf B, \\vec{\\pi})$?"
   ]
  },
  {
   "cell_type": "markdown",
   "metadata": {
    "slideshow": {
     "slide_type": "subslide"
    }
   },
   "source": [
    "То есть нам нужно найти\n",
    "\n",
    "$$\n",
    "Z^* = \\arg\\max_Z P(x_{1:T}, z_{1:T}|\\lambda)\n",
    "$$"
   ]
  },
  {
   "cell_type": "markdown",
   "metadata": {
    "slideshow": {
     "slide_type": "subslide"
    }
   },
   "source": [
    "Ее также можно решить с помощью методов динамического программирования. Формально, вероятность нахождения в состояние $z_t = j$ можно представить как\n",
    "\n",
    "$$\n",
    "\\nu_t(j) = \\max_{z_{t:t-1}} P(x_{1:t}, z_{1:t-1}, z_t = j)\n",
    "$$"
   ]
  },
  {
   "cell_type": "markdown",
   "metadata": {
    "slideshow": {
     "slide_type": "subslide"
    }
   },
   "source": [
    "как и все хорошее в динамическом программированиы, мы можем выразить рекурсивно это выражение через предыдущее значение \n",
    "\n",
    "$$\n",
    "v_t(j) = \\max_i \\nu_{t-1}(i) A_{ij} b_j(x_t)\n",
    "$$"
   ]
  },
  {
   "cell_type": "markdown",
   "metadata": {
    "slideshow": {
     "slide_type": "subslide"
    }
   },
   "source": [
    "Если попутно сохранять пути, то можно восстановить путь (последовательность) по которой мы пришли к максимальному значению, по сути мы должны просто дополнительно хранить\n",
    "\n",
    "$$\n",
    "ptr_t(j) = \\arg \\max_i \\nu_{t-1}(i) A_{ij} b_j(x_t)\n",
    "$$"
   ]
  },
  {
   "cell_type": "markdown",
   "metadata": {
    "slideshow": {
     "slide_type": "slide"
    }
   },
   "source": [
    "## Резюме алгоритма Витерби\n",
    "\n",
    "1) Инициализация\n",
    "$$\n",
    "\\nu_1(j) = \\pi_j B_j(x_1)\\\\\n",
    "ptr_1(j) = 0\n",
    "$$\n",
    "\n",
    "2) Расчет\n",
    "$$\n",
    "\\nu_t(j) = \\max_i \\nu_{t-1}(i) A_{ij} B_j(x_t)\\\\\n",
    "ptr_t(j) = \\arg\\max_i \\nu_{t-1}(i) A_{ij} B_j(x_t)\n",
    "$$\n",
    "\n",
    "3) Финал\n",
    "$$\n",
    "P(x_{1:T}, z_{1:T} | \\lambda) = \\max_i \\nu_T(i) \\\\\n",
    "z_T = \\arg\\max_i \\nu_T(i)\n",
    "$$"
   ]
  },
  {
   "cell_type": "markdown",
   "metadata": {
    "slideshow": {
     "slide_type": "subslide"
    }
   },
   "source": [
    "## Задача 3 (Баума Велша алгоритм)"
   ]
  },
  {
   "cell_type": "markdown",
   "metadata": {
    "slideshow": {
     "slide_type": "-"
    }
   },
   "source": [
    ">Пусть у нас есть последовательность измерений $x_1, x_2, \\ldots, x_T$. Необходимо подобрать параметры $A_{ij}$ и $B_j(x_t)$."
   ]
  },
  {
   "cell_type": "markdown",
   "metadata": {
    "slideshow": {
     "slide_type": "subslide"
    }
   },
   "source": [
    "Чтобы решить данную задачу, нам нужно найти максимально возможную функцию правдоподобия от параметров $A$ и $B$\n",
    "$$\n",
    "\\vec{\\pi}^*, \\mathbf{A}^*, \\mathbf{B}^* = \\arg\\max_{\\vec{\\pi}, \\mathbf{A},\\mathbf{B}} P(x_{1:T}|\\vec{\\pi}, \\mathbf{A},\\mathbf{B})\n",
    "$$\n",
    "\n",
    "А вот данную задачу мы будем решать уже известным нам методом Expectation-Maximization."
   ]
  },
  {
   "cell_type": "markdown",
   "metadata": {
    "slideshow": {
     "slide_type": "subslide"
    }
   },
   "source": [
    "Для расчета $A_{ij}$ мы могли бы посчитать количество переходов $(i \\to j)$. Так что в качестве первого шага рассмотрим вероятность перехода в момент времени $t$\n",
    "\n",
    "$$\n",
    "\\xi_t(i,j) = P(z_t = i, z_{t+1} = j | x_{1:T}, \\lambda)\n",
    "$$"
   ]
  },
  {
   "cell_type": "markdown",
   "metadata": {
    "slideshow": {
     "slide_type": "subslide"
    }
   },
   "source": [
    "Но для начала посчитаем \n",
    "$$\n",
    "\\xi^*(i, j) \n",
    "= \\\\ = \n",
    "P(z_t = i, z_{t+1} = j, x_{1:T} | \\lambda) \n",
    "= \\\\ =\n",
    "P(x_{1:t}, z_t = i) P(z_t = i, z_{t+1} = j) P(x_{t+1}|z_{t+1} = j) P(x_{t+1:T}, z_{t+1} = j)\n",
    "$$"
   ]
  },
  {
   "cell_type": "markdown",
   "metadata": {
    "slideshow": {
     "slide_type": "subslide"
    }
   },
   "source": [
    "Или в наших обозначениях\n",
    "\n",
    "$$\n",
    "\\xi^*(i, j) = \\alpha_t(i) A_{ij} B_j(x_{t+1})\\beta_{t+1}(j)\n",
    "$$"
   ]
  },
  {
   "cell_type": "markdown",
   "metadata": {
    "slideshow": {
     "slide_type": "subslide"
    }
   },
   "source": [
    "А теперь по определению условной вероятности мы можем просто получить\n",
    "\n",
    "$$\n",
    "\\xi_t(i,j) \n",
    "= \\\\ = \n",
    "P(z_t = i, z_{t+1} = j | x_{1:T}, \\lambda) \n",
    "= \\\\ = \n",
    "\\frac{P(z_t = i, z_{t+1} = j, x_{1:T} | \\lambda)} {P(x_{1:T}|\\lambda)}\n",
    "$$"
   ]
  },
  {
   "cell_type": "markdown",
   "metadata": {
    "slideshow": {
     "slide_type": "subslide"
    }
   },
   "source": [
    "При этом легко посчитать\n",
    "$$\n",
    "P(x_{1:T}|\\lambda) = \\sum_j \\alpha_t(j) \\beta_t(j)\n",
    "$$"
   ]
  },
  {
   "cell_type": "markdown",
   "metadata": {
    "slideshow": {
     "slide_type": "subslide"
    }
   },
   "source": [
    "$$\n",
    "\\xi_t(i,j)  = \\frac{\\alpha_t(i) A_{ij} B_j(x_{t+1})\\beta_{t+1}(j)} {\\sum_j \\alpha_t(j) \\beta_t(j)}\n",
    "$$"
   ]
  },
  {
   "cell_type": "markdown",
   "metadata": {
    "slideshow": {
     "slide_type": "subslide"
    }
   },
   "source": [
    "Теперь можем оценить вероятность переход (фактически делим число переходов $i \\to j$ на число всех переходов из $i$)\n",
    "\n",
    "$$\n",
    "\\hat{A}_{ij} = \\frac{ \\sum_t \\xi_t(i,j) }{  \\sum_k \\sum_t \\xi_t(i, k) }\n",
    "$$"
   ]
  },
  {
   "cell_type": "markdown",
   "metadata": {
    "slideshow": {
     "slide_type": "subslide"
    }
   },
   "source": [
    "Превратим все множество значений $x$ в некий словарь и будем сопоставлять его значения с неким значением $\\nu_k$. Следовательно по определению\n",
    "\n",
    "$$\n",
    "\\hat{B}_j(\\nu_k) = \\frac{\\text{количество } \\nu\\,\\, { в состоянии } \\,\\,j}{\\text{количество в состоянии } \\,\\,j}\n",
    "$$"
   ]
  },
  {
   "cell_type": "markdown",
   "metadata": {
    "slideshow": {
     "slide_type": "subslide"
    }
   },
   "source": [
    "Для этого нам нужно знать вероятность нахождения в состоянии $z_t = j$ \n",
    "\n",
    "$$\n",
    "\\gamma_t(j) = P(z_t = j|x_{1:T}, \\lambda) = \\frac{ P(z_t = j, x_{1:T} | \\lambda) } { P(x_{1:T}|\\lambda) }\n",
    "$$\n",
    "\n",
    "$$\n",
    "\\gamma_t(j) = \\frac{\\alpha_t(j) \\beta_t(j)} {\\sum_j \\alpha_t(j) \\beta_t(j)}\n",
    "$$"
   ]
  },
  {
   "cell_type": "markdown",
   "metadata": {
    "slideshow": {
     "slide_type": "subslide"
    }
   },
   "source": [
    "В итоге\n",
    "$$\n",
    "\\hat{B}_j(\\nu_k) = \\frac{\n",
    "\\sum_t \\delta_{\\nu_k, x_t} \\gamma_t(j)\n",
    "}{\n",
    "\\sum_t \\gamma_t(j)\n",
    "}\n",
    "$$\n",
    "$$\n",
    "\\delta_{\\nu_k, x_t} =\n",
    "\\begin{cases}\n",
    "1 & , x_t \\in \\nu_k,\\\\\n",
    "0 & , x_t \\notin \\nu_k,\\\\\n",
    "\\end{cases}\n",
    "$$"
   ]
  },
  {
   "cell_type": "markdown",
   "metadata": {
    "slideshow": {
     "slide_type": "slide"
    }
   },
   "source": [
    "# Алгоритм Баума Велша\n",
    "\n",
    "1. Инициализация $\\mathbf{A}$, $\\mathbf{B}$, $\\vec{\\pi}$\n",
    "2. Расчитываем $\\alpha_t$ и $\\beta_t$\n",
    "3. Расчитываем вспомогательные значения\n",
    "$$\n",
    "\\gamma_t(j) = \\frac{\\alpha_t(j) \\beta_t(j)} {\\sum_j \\alpha_t(j) \\beta_t(j)}\n",
    "\\\\\n",
    "\\xi_t(i,j)  = \\frac{\\alpha_t(i) A_{ij} B_j(x_{t+1})\\beta_{t+1}(j)} {\\sum_j \\alpha_t(j) \\beta_t(j)}\n",
    "$$\n",
    "4. Обновляем оценки наших параметров\n",
    "$$\n",
    "\\pi_i = \\gamma_t(i)\n",
    "\\\\\n",
    "\\hat{A}_{ij} = \\frac{ \\sum_t \\xi_t(i,j) }{  \\sum_k \\sum_t \\xi_t(i, k) }\n",
    "\\\\\n",
    "\\hat{B}_j(\\nu_k) = \\frac{\n",
    "\\sum_t \\delta_{\\nu_k, x_t} \\gamma_t(j)\n",
    "}{\n",
    "\\sum_t \\gamma_t(j)\n",
    "}\n",
    "$$"
   ]
  },
  {
   "cell_type": "markdown",
   "metadata": {
    "slideshow": {
     "slide_type": "slide"
    }
   },
   "source": [
    "# Пример\n",
    "\n",
    "Давайте сгенерируем какой-нибудь простенький марковский процесс, обучим на нем нашу модель и попробуем восстановить внутреннее состояние этого процесса."
   ]
  },
  {
   "cell_type": "code",
   "execution_count": 220,
   "metadata": {
    "slideshow": {
     "slide_type": "subslide"
    }
   },
   "outputs": [],
   "source": [
    "import numpy as np\n",
    "from scipy.stats import norm\n",
    "\n",
    "# дискретизация непрерывного распределения на указанных бинах\n",
    "# возвращает размерность len(bins) + 2\n",
    "# при этом [0] соответствует x < bins[0]\n",
    "# при этом [len(bins)] соответствует x >= bins[-1]\n",
    "def HistDistr(bins, distr):\n",
    "    hist = np.zeros(len(bins) + 1, dtype=np.double)\n",
    "    hist[0] = distr.cdf(bins[0])\n",
    "    hist[-1] = distr.cdf(1 - bins[-1])\n",
    "    for idx, (a, b) in enumerate(zip(bins[:-1], bins[1:])):\n",
    "        hist[idx + 1] = distr.cdf(b) - distr.cdf(a)\n",
    "    return hist / np.sum(hist)\n",
    "\n",
    "# создание центральных значений бинов \n",
    "# края 0 и len(bins) устанавливаются NaN (там и правда нельзя найти середину)\n",
    "def BinToX(bins):\n",
    "    x = np.zeros(len(bins) + 1)\n",
    "    x[0] = np.nan\n",
    "    x[-1] = np.nan\n",
    "    for idx, (a, b) in enumerate(zip(bins[:-1], bins[1:])):\n",
    "        x[idx + 1] = (b + a) * 0.5 \n",
    "    return x\n",
    "\n",
    "# Создать последовательность внутренних состояний\n",
    "def GenerateZ(T, P, A):\n",
    "    N = P.ravel().shape[0]\n",
    "    Z = np.zeros(T, dtype=np.int)\n",
    "    \n",
    "    Z[0] = np.random.choice(N, p=P)\n",
    "    for t in range(1, T):\n",
    "        Z[t] = np.random.choice(N, p=A[Z[t-1]].ravel())\n",
    "    return Z\n",
    "   \n",
    "# Создать последовательность наблюдений из внутренних состояний\n",
    "def GenerateX(Z, B):\n",
    "    N = B.shape[0]\n",
    "    K = B.shape[1]\n",
    "    Z = Z.ravel()\n",
    "    T = Z.shape[0]\n",
    "    \n",
    "    X = np.zeros(T, dtype=np.int)\n",
    "    \n",
    "    for t in range(T):\n",
    "        X[t] = np.random.choice(K, p=B[Z[t]].ravel())\n",
    "    return X"
   ]
  },
  {
   "cell_type": "code",
   "execution_count": 221,
   "metadata": {
    "slideshow": {
     "slide_type": "subslide"
    }
   },
   "outputs": [],
   "source": [
    "# бины наших распределений \n",
    "bins = np.linspace(-8, 8, 15)\n",
    "\n",
    "A = np.array([\n",
    "    [0.99, 0.009, 0.001],\n",
    "    [0.005, 0.99, 0.005],\n",
    "    [0.001, 0.009, 0.99]\n",
    "])\n",
    "\n",
    "P = np.array([\n",
    "    1/3,\n",
    "    1/3,\n",
    "    1/3,\n",
    "])\n",
    "\n",
    "B = np.array([\n",
    "    HistDistr(bins, norm(-2, 2)),\n",
    "    HistDistr(bins, norm(0, 1.5)),\n",
    "    HistDistr(bins, norm(1, 0.2)),\n",
    "])"
   ]
  },
  {
   "cell_type": "code",
   "execution_count": 222,
   "metadata": {
    "slideshow": {
     "slide_type": "subslide"
    }
   },
   "outputs": [
    {
     "name": "stdout",
     "output_type": "stream",
     "text": [
      "(1000,) [2 2 2 2 2 2 2 2 2 2]\n",
      "(1000,) [8 8 8 8 8 8 8 9 8 8]\n"
     ]
    },
    {
     "data": {
      "image/png": "[encoded data removed]",
      "text/plain": [
       "<Figure size 1152x864 with 3 Axes>"
      ]
     },
     "metadata": {
      "needs_background": "light"
     },
     "output_type": "display_data"
    }
   ],
   "source": [
    "%matplotlib inline\n",
    "import matplotlib.pyplot as plt\n",
    "\n",
    "# Число отсчетов по времени\n",
    "T = 1000\n",
    "# Число состояний\n",
    "N = P.shape[0]\n",
    "\n",
    "Z = GenerateZ(T, P, A)\n",
    "print(Z.shape, Z[:10])\n",
    "\n",
    "X = GenerateX(Z, B)\n",
    "print(X.shape, X[:10])\n",
    "    \n",
    "plt.figure(figsize=(16,12))\n",
    "plt.subplot(311)\n",
    "w = (bins[1] - bins[0])/3\n",
    "x = BinToX(bins)[1:-1]\n",
    "plt.plot(x + w, B[0][1:-1], label=\"$B_1$\")\n",
    "plt.plot(x - w, B[1][1:-1], label=\"$B_2$\")\n",
    "plt.plot(x + 0, B[2][1:-1], label=\"$B_3$\")\n",
    "plt.legend()\n",
    "\n",
    "plt.subplot(312)\n",
    "plt.plot(Z + 1)\n",
    "\n",
    "plt.subplot(313)\n",
    "plt.plot(X)\n",
    "plt.show()"
   ]
  },
  {
   "cell_type": "markdown",
   "metadata": {
    "slideshow": {
     "slide_type": "subslide"
    }
   },
   "source": [
    "# Forward-Backward\n",
    "\n",
    "Если мы попытаемся воспользоваться данным алгоритмом в лоб, то получим численонеустойчивую реализацию. Вместо этого, мы будет везде считать логарифмы интересующих нас величин. Дополнительно воспользуемся формулой суммирования\n",
    "\n",
    "$$\n",
    "\\ln\\left(e^{x} + e^{y}\\right) = \n",
    "x + \\ln(1 + e^{y - x})\n",
    "$$\n",
    "\n",
    "Она доступна в Numpy\n",
    "```python\n",
    "np.logaddexp(a, b)\n",
    "```"
   ]
  },
  {
   "cell_type": "code",
   "execution_count": 223,
   "metadata": {
    "slideshow": {
     "slide_type": "subslide"
    }
   },
   "outputs": [
    {
     "name": "stdout",
     "output_type": "stream",
     "text": [
      "-1664.541563671346\n",
      "-1664.5415636713476\n",
      "[-1664.54156367 -1664.54156367 -1664.54156367 -1664.54156367\n",
      " -1664.54156367 -1664.54156367 -1664.54156367 -1664.54156367\n",
      " -1664.54156367 -1664.54156367]\n",
      "[-1664.54156367 -1664.54156367 -1664.54156367 -1664.54156367\n",
      " -1664.54156367 -1664.54156367 -1664.54156367 -1664.54156367\n",
      " -1664.54156367 -1664.54156367]\n"
     ]
    }
   ],
   "source": [
    "def calc_beta(X, P, A, B):\n",
    "    N = P.shape[0]\n",
    "    T = X.shape[0]\n",
    "    \n",
    "    beta = np.full((T, N), -np.inf)\n",
    "    beta[T - 1] = 0\n",
    "    \n",
    "    logA = np.log(A)\n",
    "    logB = np.log(B)\n",
    "    \n",
    "    for t in range(T - 2, -1, -1):\n",
    "        tmp = logA + beta[t + 1] + logB[:, X[t + 1]]\n",
    "        for j in range(N):\n",
    "            beta[t] = np.logaddexp(beta[t], tmp[:, j].ravel())\n",
    "    \n",
    "    prob = -np.inf\n",
    "    for i in range(N):\n",
    "        prob = np.logaddexp(prob, beta[0][i] + logB[i, X[0]] + np.log(P[i]))\n",
    "    return beta, prob\n",
    "    \n",
    "\n",
    "def calc_alpha(X, P, A, B):\n",
    "    N = P.shape[0]\n",
    "    T = X.shape[0]\n",
    "    \n",
    "    alpha = np.full((T, N), -np.inf)\n",
    "    alpha[0] = np.log(P * B[:, X[0]].ravel())\n",
    "    \n",
    "    logA = np.log(A)\n",
    "    logB = np.log(B)\n",
    "\n",
    "    for t in range(1, T):\n",
    "        tmp = logA + alpha[t-1].reshape(-1, 1)\n",
    "        for i in range(N):\n",
    "            alpha[t] = np.logaddexp(alpha[t], tmp[i, :].ravel())\n",
    "        alpha[t] += logB[:, X[t]].ravel()\n",
    "    \n",
    "    prob = -np.inf\n",
    "    for i in range(N):\n",
    "        prob = np.logaddexp(prob, alpha[-1][i])\n",
    "        \n",
    "    return alpha, prob\n",
    "\n",
    "alpha, lnP = calc_alpha(X, P, A, B)\n",
    "print(lnP)\n",
    "beta, lnP = calc_beta(X, P, A, B)\n",
    "print(lnP)\n",
    "\n",
    "prob = np.full(alpha.shape[0], -np.inf)\n",
    "for i in range(alpha.shape[1]):\n",
    "    prob = np.logaddexp(prob, alpha[:, i] + beta[:, i])\n",
    "print(prob[:10])\n",
    "print(prob[-10:])"
   ]
  },
  {
   "cell_type": "markdown",
   "metadata": {
    "slideshow": {
     "slide_type": "slide"
    }
   },
   "source": [
    "# Viterbi\n",
    "\n",
    "Здесь мы точно также рассматриваем значения логарифмом вместо самих величин"
   ]
  },
  {
   "cell_type": "code",
   "execution_count": 224,
   "metadata": {
    "slideshow": {
     "slide_type": "subslide"
    }
   },
   "outputs": [
    {
     "name": "stdout",
     "output_type": "stream",
     "text": [
      "0.024\n"
     ]
    },
    {
     "data": {
      "image/png": "[encoded data removed]",
      "text/plain": [
       "<Figure size 864x864 with 3 Axes>"
      ]
     },
     "metadata": {
      "needs_background": "light"
     },
     "output_type": "display_data"
    }
   ],
   "source": [
    "def Viterbi(X, P, A, B):\n",
    "    N = P.shape[0]\n",
    "    T = X.shape[0]\n",
    "    \n",
    "    v = np.zeros(shape=(T, N))\n",
    "    ptr = np.zeros(shape=(T, N))\n",
    "    \n",
    "    v[0] = np.log(P * B[:,X[0]])\n",
    "    \n",
    "    for t in range(1, T):\n",
    "        tmp = v[t - 1].reshape(-1, 1) + np.log(A * B[:, X[t]].reshape(1, -1))\n",
    "        ptr[t] = np.argmax(tmp, axis=0)\n",
    "        v[t] = np.max(tmp, axis=0)\n",
    "\n",
    "    z = np.zeros(T, dtype=np.int)\n",
    "    z[-1] = np.argmax(v[T - 1].ravel())\n",
    "    \n",
    "    for t in range(T - 2, -1, -1):\n",
    "        z[t] = ptr[t+1][z[t+1]]\n",
    "\n",
    "    return z\n",
    "    \n",
    "Zs = Viterbi(X, P, A, B)\n",
    "\n",
    "print(np.sum(np.abs(Zs - Z))/ T)\n",
    "\n",
    "plt.figure(figsize=(12,12))\n",
    "plt.subplot(311)\n",
    "plt.plot(Z + 1)\n",
    "plt.subplot(312)\n",
    "plt.plot(Zs + 1)\n",
    "plt.subplot(313)\n",
    "plt.plot(np.abs(Zs-Z))\n",
    "plt.show()"
   ]
  },
  {
   "cell_type": "markdown",
   "metadata": {
    "slideshow": {
     "slide_type": "slide"
    }
   },
   "source": [
    "# Baum Welche\n",
    "\n",
    "Все вычисления также проводим в логарифмическом масштабе"
   ]
  },
  {
   "cell_type": "code",
   "execution_count": 234,
   "metadata": {
    "slideshow": {
     "slide_type": "subslide"
    }
   },
   "outputs": [
    {
     "name": "stdout",
     "output_type": "stream",
     "text": [
      "   0      -2815.3396 -inf\n",
      "  25      -1732.5853 -0.00231168653627912\n",
      "  50      -1651.4481 -1.721913574936446e-08\n",
      "DONE\n"
     ]
    }
   ],
   "source": [
    "def BaumWelche(X, N):\n",
    "    # Инициализируем нашу модель\n",
    "    As = np.random.rand(N, N) \n",
    "    As = As/np.sum(As, axis=1, keepdims=True) # нормировка\n",
    "    As = As.astype(dtype=np.double)\n",
    "\n",
    "    Bs = np.random.rand(N, np.max(X) + 1)\n",
    "    Bs = Bs/np.sum(Bs, axis=1, keepdims=True) # нормировка\n",
    "    Bs = Bs.astype(dtype=np.double)\n",
    "\n",
    "    Ps = np.random.rand(N)\n",
    "    Ps = Ps / np.sum(Ps)\n",
    "    Ps = Ps.astype(dtype=np.double)\n",
    "    \n",
    "    T = X.shape[0]\n",
    "    \n",
    "    last = -np.inf\n",
    "    counter = -1\n",
    "    while True:\n",
    "        counter += 1\n",
    "        \n",
    "        alpha, lnPa = calc_alpha(X, Ps, As, Bs)\n",
    "        beta, lnPb = calc_beta(X, Ps, As, Bs)\n",
    "        \n",
    "        lnPavg = (lnPa + lnPb) * 0.5\n",
    "        \n",
    "        gamma = []\n",
    "        for a, b in zip(alpha, beta):\n",
    "            gamma.append(a + b - lnPavg)\n",
    "                \n",
    "        xi = []\n",
    "        \n",
    "        for t in range(0, T - 1):\n",
    "            xi.append(np.zeros((N, N)))\n",
    "            \n",
    "            for i in range(N):\n",
    "                for j in range(N):\n",
    "                    xi[-1][i,j] = alpha[t][i] + np.log(As[i, j]) + beta[t+1][j] + np.log(Bs[j, X[t+1]]) - lnPavg\n",
    "        \n",
    "        Ps = np.exp(gamma[0])\n",
    "        As = np.zeros( (N, N), dtype=np.double)\n",
    "        for i in range(N):\n",
    "            for j in range(N):\n",
    "                top = -np.inf\n",
    "                bottom = -np.inf\n",
    "                for t in range(T - 1):\n",
    "                    top = np.logaddexp(top, xi[t][i, j])\n",
    "\n",
    "                    for k in range(N):\n",
    "                        bottom = np.logaddexp(bottom, xi[t][i, k])\n",
    "                As[i,j] = np.exp(top - bottom)\n",
    "                \n",
    "        for j in range(N):\n",
    "            Sgamma = -np.inf\n",
    "            for t in range(T):\n",
    "                Sgamma = np.logaddexp(Sgamma, gamma[t][j])\n",
    "\n",
    "            for k in range(Bs.shape[1]):\n",
    "                Bs[j][k] = -np.inf\n",
    "            \n",
    "            for t in range(T):\n",
    "                Bs[j][X[t]] = np.logaddexp(Bs[j][X[t]], gamma[t][j])\n",
    "            for k in range(Bs.shape[1]):\n",
    "                Bs[j][k] = np.exp(Bs[j][k] - Sgamma)\n",
    "        \n",
    "        eps = (lnPavg - last) / lnPavg\n",
    "        last = lnPavg\n",
    "        if counter % 25 == 0:\n",
    "            print(\"%4d\" % counter, \"%15.4f\" % lnPavg, eps)\n",
    "        if np.abs(eps) < 0.00000001:\n",
    "            break\n",
    "    return Ps, As, Bs\n",
    "        \n",
    "Ps, As, Bs = BaumWelche(X, 3)\n",
    "Zs = Viterbi(X, Ps, As, Bs)\n",
    "print(\"DONE\")"
   ]
  },
  {
   "cell_type": "code",
   "execution_count": 235,
   "metadata": {
    "slideshow": {
     "slide_type": "subslide"
    }
   },
   "outputs": [
    {
     "name": "stdout",
     "output_type": "stream",
     "text": [
      "0.006\n"
     ]
    },
    {
     "data": {
      "image/png": "[encoded data removed]",
      "text/plain": [
       "<Figure size 864x864 with 3 Axes>"
      ]
     },
     "metadata": {
      "needs_background": "light"
     },
     "output_type": "display_data"
    }
   ],
   "source": [
    "Zs0 = Zs == 0\n",
    "Zs1 = Zs == 1\n",
    "Zs2 = Zs == 2\n",
    "Zss = np.copy(Z)\n",
    "Zss[Zs0] = 2\n",
    "Zss[Zs2] = 0\n",
    "\n",
    "print(np.sum(np.abs(Zss-Z)) / T)\n",
    "plt.figure(figsize=(12,12))\n",
    "plt.subplot(311)\n",
    "plt.plot(Z)\n",
    "plt.subplot(312)\n",
    "plt.plot(Zss)\n",
    "plt.subplot(313)\n",
    "plt.plot(np.abs(Zss-Z))\n",
    "plt.show()"
   ]
  },
  {
   "cell_type": "code",
   "execution_count": 236,
   "metadata": {
    "slideshow": {
     "slide_type": "subslide"
    }
   },
   "outputs": [
    {
     "data": {
      "image/png": "[encoded data removed]",
      "text/plain": [
       "<Figure size 432x288 with 1 Axes>"
      ]
     },
     "metadata": {
      "needs_background": "light"
     },
     "output_type": "display_data"
    },
    {
     "data": {
      "image/png": "[encoded data removed]",
      "text/plain": [
       "<Figure size 432x288 with 1 Axes>"
      ]
     },
     "metadata": {
      "needs_background": "light"
     },
     "output_type": "display_data"
    },
    {
     "data": {
      "image/png": "[encoded data removed]",
      "text/plain": [
       "<Figure size 432x288 with 1 Axes>"
      ]
     },
     "metadata": {
      "needs_background": "light"
     },
     "output_type": "display_data"
    }
   ],
   "source": [
    "plt.plot(Bs[0,:])\n",
    "plt.plot(B[2,:])\n",
    "plt.show()\n",
    "plt.plot(Bs[1,:])\n",
    "plt.plot(B[1,:])\n",
    "plt.show()\n",
    "plt.plot(Bs[2,:])\n",
    "plt.plot(B[0,:])\n",
    "plt.show()"
   ]
  },
  {
   "cell_type": "code",
   "execution_count": 237,
   "metadata": {
    "slideshow": {
     "slide_type": "subslide"
    }
   },
   "outputs": [
    {
     "data": {
      "text/plain": [
       "array([1.00000000e+000, 2.14857372e-089, 3.14266570e-131])"
      ]
     },
     "execution_count": 237,
     "metadata": {},
     "output_type": "execute_result"
    }
   ],
   "source": [
    "Ps"
   ]
  }
 ],
 "metadata": {
  "celltoolbar": "Slideshow",
  "kernelspec": {
   "display_name": "Python 3",
   "language": "python",
   "name": "python3"
  },
  "language_info": {
   "codemirror_mode": {
    "name": "ipython",
    "version": 3
   },
   "file_extension": ".py",
   "mimetype": "text/x-python",
   "name": "python",
   "nbconvert_exporter": "python",
   "pygments_lexer": "ipython3",
   "version": "3.9.1"
  }
 },
 "nbformat": 4,
 "nbformat_minor": 4
}
