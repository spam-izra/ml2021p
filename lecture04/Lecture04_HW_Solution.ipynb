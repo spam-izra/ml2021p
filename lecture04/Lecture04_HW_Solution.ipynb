{
 "cells": [
  {
   "cell_type": "markdown",
   "metadata": {},
   "source": [
    "### Задачи к Лекции 4\n",
    "\n",
    "__Исходные данные__ \n",
    "\n",
    "Дан файл **\"mlbootcamp5_train.csv\"**. В нем содержатся данные об опросе 70000 пациентов с целью определения наличия заболеваний сердечно-сосудистой системы (ССЗ). Данные в файле промаркированы и если у человека имееются ССЗ, то значение **cardio** будет равно 1, в противном случае - 0. Описание и значения полей представлены во второй лекции.\n",
    "\n",
    "__Загрузка файла__"
   ]
  },
  {
   "cell_type": "code",
   "execution_count": 22,
   "metadata": {},
   "outputs": [
    {
     "data": {
      "text/html": [
       "<div>\n",
       "<style scoped>\n",
       "    .dataframe tbody tr th:only-of-type {\n",
       "        vertical-align: middle;\n",
       "    }\n",
       "\n",
       "    .dataframe tbody tr th {\n",
       "        vertical-align: top;\n",
       "    }\n",
       "\n",
       "    .dataframe thead th {\n",
       "        text-align: right;\n",
       "    }\n",
       "</style>\n",
       "<table border=\"1\" class=\"dataframe\">\n",
       "  <thead>\n",
       "    <tr style=\"text-align: right;\">\n",
       "      <th></th>\n",
       "      <th>age</th>\n",
       "      <th>gender</th>\n",
       "      <th>height</th>\n",
       "      <th>weight</th>\n",
       "      <th>ap_hi</th>\n",
       "      <th>ap_lo</th>\n",
       "      <th>cholesterol</th>\n",
       "      <th>gluc</th>\n",
       "      <th>smoke</th>\n",
       "      <th>alco</th>\n",
       "      <th>active</th>\n",
       "      <th>cardio</th>\n",
       "      <th>chol_1</th>\n",
       "      <th>chol_2</th>\n",
       "      <th>chol_3</th>\n",
       "      <th>gluc_1</th>\n",
       "      <th>gluc_2</th>\n",
       "      <th>gluc_3</th>\n",
       "      <th>gender_bin</th>\n",
       "    </tr>\n",
       "    <tr>\n",
       "      <th>id</th>\n",
       "      <th></th>\n",
       "      <th></th>\n",
       "      <th></th>\n",
       "      <th></th>\n",
       "      <th></th>\n",
       "      <th></th>\n",
       "      <th></th>\n",
       "      <th></th>\n",
       "      <th></th>\n",
       "      <th></th>\n",
       "      <th></th>\n",
       "      <th></th>\n",
       "      <th></th>\n",
       "      <th></th>\n",
       "      <th></th>\n",
       "      <th></th>\n",
       "      <th></th>\n",
       "      <th></th>\n",
       "      <th></th>\n",
       "    </tr>\n",
       "  </thead>\n",
       "  <tbody>\n",
       "    <tr>\n",
       "      <th>0</th>\n",
       "      <td>18393</td>\n",
       "      <td>2</td>\n",
       "      <td>168</td>\n",
       "      <td>62.0</td>\n",
       "      <td>110</td>\n",
       "      <td>80</td>\n",
       "      <td>1</td>\n",
       "      <td>1</td>\n",
       "      <td>0</td>\n",
       "      <td>0</td>\n",
       "      <td>1</td>\n",
       "      <td>0</td>\n",
       "      <td>1</td>\n",
       "      <td>0</td>\n",
       "      <td>0</td>\n",
       "      <td>1</td>\n",
       "      <td>0</td>\n",
       "      <td>0</td>\n",
       "      <td>1</td>\n",
       "    </tr>\n",
       "    <tr>\n",
       "      <th>1</th>\n",
       "      <td>20228</td>\n",
       "      <td>1</td>\n",
       "      <td>156</td>\n",
       "      <td>85.0</td>\n",
       "      <td>140</td>\n",
       "      <td>90</td>\n",
       "      <td>3</td>\n",
       "      <td>1</td>\n",
       "      <td>0</td>\n",
       "      <td>0</td>\n",
       "      <td>1</td>\n",
       "      <td>1</td>\n",
       "      <td>0</td>\n",
       "      <td>0</td>\n",
       "      <td>1</td>\n",
       "      <td>1</td>\n",
       "      <td>0</td>\n",
       "      <td>0</td>\n",
       "      <td>0</td>\n",
       "    </tr>\n",
       "    <tr>\n",
       "      <th>2</th>\n",
       "      <td>18857</td>\n",
       "      <td>1</td>\n",
       "      <td>165</td>\n",
       "      <td>64.0</td>\n",
       "      <td>130</td>\n",
       "      <td>70</td>\n",
       "      <td>3</td>\n",
       "      <td>1</td>\n",
       "      <td>0</td>\n",
       "      <td>0</td>\n",
       "      <td>0</td>\n",
       "      <td>1</td>\n",
       "      <td>0</td>\n",
       "      <td>0</td>\n",
       "      <td>1</td>\n",
       "      <td>1</td>\n",
       "      <td>0</td>\n",
       "      <td>0</td>\n",
       "      <td>0</td>\n",
       "    </tr>\n",
       "    <tr>\n",
       "      <th>3</th>\n",
       "      <td>17623</td>\n",
       "      <td>2</td>\n",
       "      <td>169</td>\n",
       "      <td>82.0</td>\n",
       "      <td>150</td>\n",
       "      <td>100</td>\n",
       "      <td>1</td>\n",
       "      <td>1</td>\n",
       "      <td>0</td>\n",
       "      <td>0</td>\n",
       "      <td>1</td>\n",
       "      <td>1</td>\n",
       "      <td>1</td>\n",
       "      <td>0</td>\n",
       "      <td>0</td>\n",
       "      <td>1</td>\n",
       "      <td>0</td>\n",
       "      <td>0</td>\n",
       "      <td>1</td>\n",
       "    </tr>\n",
       "    <tr>\n",
       "      <th>4</th>\n",
       "      <td>17474</td>\n",
       "      <td>1</td>\n",
       "      <td>156</td>\n",
       "      <td>56.0</td>\n",
       "      <td>100</td>\n",
       "      <td>60</td>\n",
       "      <td>1</td>\n",
       "      <td>1</td>\n",
       "      <td>0</td>\n",
       "      <td>0</td>\n",
       "      <td>0</td>\n",
       "      <td>0</td>\n",
       "      <td>1</td>\n",
       "      <td>0</td>\n",
       "      <td>0</td>\n",
       "      <td>1</td>\n",
       "      <td>0</td>\n",
       "      <td>0</td>\n",
       "      <td>0</td>\n",
       "    </tr>\n",
       "  </tbody>\n",
       "</table>\n",
       "</div>"
      ],
      "text/plain": [
       "      age  gender  height  weight  ap_hi  ap_lo  cholesterol  gluc  smoke  \\\n",
       "id                                                                          \n",
       "0   18393       2     168    62.0    110     80            1     1      0   \n",
       "1   20228       1     156    85.0    140     90            3     1      0   \n",
       "2   18857       1     165    64.0    130     70            3     1      0   \n",
       "3   17623       2     169    82.0    150    100            1     1      0   \n",
       "4   17474       1     156    56.0    100     60            1     1      0   \n",
       "\n",
       "    alco  active  cardio  chol_1  chol_2  chol_3  gluc_1  gluc_2  gluc_3  \\\n",
       "id                                                                         \n",
       "0      0       1       0       1       0       0       1       0       0   \n",
       "1      0       1       1       0       0       1       1       0       0   \n",
       "2      0       0       1       0       0       1       1       0       0   \n",
       "3      0       1       1       1       0       0       1       0       0   \n",
       "4      0       0       0       1       0       0       1       0       0   \n",
       "\n",
       "    gender_bin  \n",
       "id              \n",
       "0            1  \n",
       "1            0  \n",
       "2            0  \n",
       "3            1  \n",
       "4            0  "
      ]
     },
     "execution_count": 22,
     "metadata": {},
     "output_type": "execute_result"
    }
   ],
   "source": [
    "%matplotlib inline\n",
    "import numpy as np\n",
    "import pandas as pd\n",
    "import seaborn as sns\n",
    "import sklearn\n",
    "from matplotlib import pyplot as plt\n",
    "import warnings\n",
    "warnings.filterwarnings('ignore')\n",
    "import matplotlib.pyplot as plt\n",
    "plt.rcParams['figure.figsize'] = [10, 5]\n",
    "\n",
    "\n",
    "df = pd.read_csv(\"../data/mlbootcamp5_train.csv\", \n",
    "                 sep=\";\", \n",
    "                 index_col=\"id\")\n",
    "# Делаем one-hot кодирование\n",
    "chol = pd.get_dummies(df[\"cholesterol\"], prefix=\"chol\")\n",
    "gluc = pd.get_dummies(df[\"gluc\"], prefix=\"gluc\")\n",
    "df = pd.concat([df, chol, gluc], axis=1)\n",
    "\n",
    "# Делаем пол бинарным признаком\n",
    "df[\"gender_bin\"] = df[\"gender\"].map({1: 0, 2: 1})\n",
    "df.head()"
   ]
  },
  {
   "cell_type": "markdown",
   "metadata": {},
   "source": [
    "## Задачи"
   ]
  },
  {
   "cell_type": "markdown",
   "metadata": {},
   "source": [
    "__1. Хоть в sklearn и присутствует реализация метода k-ближайших соседей, я же предлагаю попробовать вам написать его самостоятельно.__\n",
    "\n",
    "* __создать классификатор используя только pandas, numpy и scipy. Гиперпараметром данного классификатора должно быть число ближайших соседей. (Необязательно) можно добавить метрику расстояния и выбор весов.__\n",
    "* __С помощью кросс-валидации найти оптимальное количество ближайших соседей и (необязательно) набор признаков.__\n",
    "\n",
    "Алгоритм работы классификатора:\n",
    " 1. Для заданного прецедент  $\\vec{x}$ мы считаем расстояние до всех прецедентов в обучающей выборке.\n",
    " 2. Сортируем прецеденты по расстоянию до $\\vec{x}$.\n",
    " 3. Отбираем $k$ минимальных значений\n",
    " 4. Устраиваем голосование между отобранными прецедент."
   ]
  },
  {
   "cell_type": "code",
   "execution_count": 23,
   "metadata": {},
   "outputs": [],
   "source": [
    "class SimpleKnn:\n",
    "    \"\"\"\n",
    "        Простейшая реализация kNN. Довольно медленно работает на больших объемах данных.\n",
    "    \"\"\"\n",
    "    def __init__(self, k): \n",
    "        self.k = k\n",
    "        self.data = None\n",
    "        \n",
    "        # Это нам понадобиться для масштабирования новых данных\n",
    "        self.means = None\n",
    "        self.stds = None\n",
    "        \n",
    "        self.target = None\n",
    "        \n",
    "    def set_k(self, k):\n",
    "        self.k = k\n",
    "    \n",
    "    def fit(self, X, Y):\n",
    "        \"\"\"\n",
    "            Принимаем только массивы от numpy\n",
    "        \"\"\"\n",
    "        if not isinstance(X, np.ndarray) or not isinstance(Y, np.ndarray):\n",
    "            raise Exception(\"Invalid array\")\n",
    "        \n",
    "        if X.shape[0] != Y.shape[0]:\n",
    "            raise Exception(\"Invalid shapes\")\n",
    "        \n",
    "        if len(Y.shape) > 1:\n",
    "            raise Exception(\"Invalid target shape\")\n",
    "            \n",
    "        # Нормализуем данные\n",
    "        self.means = X.mean(axis=0)\n",
    "        self.stds = X.std(axis=0)   \n",
    "        \n",
    "        self.data = (X - self.means) / self.stds\n",
    "        self.target = Y\n",
    "    \n",
    "    def _predict(self, row):\n",
    "        # считаем обычное расстояние \n",
    "        distances = np.sum((self.data - row)**2, axis=1)  \n",
    "        \n",
    "        # Находим индексы отсортированного массива\n",
    "        idx = np.argsort(distances)\n",
    "        \n",
    "        # и смотрим k первых                \n",
    "        vote = 0\n",
    "        for i in idx[:self.k]:\n",
    "            vote += 1 if self.target[i] else -1\n",
    "        if vote >= 0:\n",
    "            return 1\n",
    "        else:\n",
    "            return 0\n",
    "        \n",
    "    \n",
    "    def predict(self, X):\n",
    "        # Сразу же нормируем\n",
    "        X = (X - self.means) / self.stds\n",
    "        \n",
    "        results = np.zeros(X.shape[0])\n",
    "        for i, row in enumerate(X):\n",
    "            results[i] = self._predict(row)\n",
    "            \n",
    "        return results"
   ]
  },
  {
   "cell_type": "code",
   "execution_count": 24,
   "metadata": {},
   "outputs": [],
   "source": [
    "from sklearn.model_selection import train_test_split\n",
    "\n",
    "# Убираем последний столбец в данных для анализа\n",
    "data = df.drop('cardio', axis=1).values\n",
    "\n",
    "# Наши исходы\n",
    "target = df['cardio'].values\n",
    "\n",
    "data_train, data_test, target_train, target_test = train_test_split(   \n",
    "    data, target, \n",
    "    test_size=0.3,\n",
    ")"
   ]
  },
  {
   "cell_type": "markdown",
   "metadata": {},
   "source": [
    "Проверим, что он работает"
   ]
  },
  {
   "cell_type": "code",
   "execution_count": 4,
   "metadata": {},
   "outputs": [
    {
     "name": "stdout",
     "output_type": "stream",
     "text": [
      "Predict = 0\n",
      "Target = 0\n"
     ]
    }
   ],
   "source": [
    "knn = SimpleKnn(5)\n",
    "knn.fit(data_train, target_train)\n",
    "print(\"Predict = %d\\nTarget = %d\" % (knn._predict(data_test[0]), target_test[0]))"
   ]
  },
  {
   "cell_type": "code",
   "execution_count": 5,
   "metadata": {},
   "outputs": [
    {
     "name": "stdout",
     "output_type": "stream",
     "text": [
      "Accuracy = 0.642000\n",
      "CPU times: user 12.9 s, sys: 2.01 s, total: 14.9 s\n",
      "Wall time: 15.3 s\n"
     ]
    }
   ],
   "source": [
    "%%time\n",
    "\n",
    "from sklearn.metrics import accuracy_score\n",
    "\n",
    "knn = SimpleKnn(5)\n",
    "knn.fit(data_train, target_train)\n",
    "\n",
    "# Ограничиваем выборку, т.к. наивная реализация будет работать крайне медленно\n",
    "N = 2000\n",
    "print(\"Accuracy = %f\" % (accuracy_score(target_test[:N], knn.predict(data_test[:N]))))"
   ]
  },
  {
   "cell_type": "markdown",
   "metadata": {},
   "source": [
    "Возьмем за эталон оптимизированный класс из sklearn"
   ]
  },
  {
   "cell_type": "code",
   "execution_count": 6,
   "metadata": {},
   "outputs": [
    {
     "name": "stdout",
     "output_type": "stream",
     "text": [
      "CPU times: user 20.9 s, sys: 7.77 s, total: 28.7 s\n",
      "Wall time: 26.1 s\n"
     ]
    },
    {
     "data": {
      "text/plain": [
       "0.653"
      ]
     },
     "execution_count": 6,
     "metadata": {},
     "output_type": "execute_result"
    }
   ],
   "source": [
    "%%time\n",
    "\n",
    "from sklearn.neighbors import KNeighborsClassifier\n",
    "from sklearn.pipeline import make_pipeline\n",
    "from sklearn.preprocessing import StandardScaler\n",
    "\n",
    "pipe = make_pipeline(StandardScaler(), KNeighborsClassifier(5))\n",
    "pipe.fit(data_train, target_train)\n",
    "cv = pipe.predict(data_test)\n",
    "accuracy_score(target_test, cv)"
   ]
  },
  {
   "cell_type": "markdown",
   "metadata": {},
   "source": [
    "А теперь найдем оптимальное количество соседей."
   ]
  },
  {
   "cell_type": "code",
   "execution_count": 9,
   "metadata": {},
   "outputs": [
    {
     "name": "stdout",
     "output_type": "stream",
     "text": [
      "CPU times: user 2min 17s, sys: 1.17 s, total: 2min 18s\n",
      "Wall time: 2min 21s\n"
     ]
    }
   ],
   "source": [
    "%%time\n",
    "\n",
    "from sklearn.model_selection import StratifiedKFold, KFold\n",
    "from sklearn.metrics import accuracy_score, roc_auc_score, f1_score\n",
    "\n",
    "knn = SimpleKnn(1)\n",
    "\n",
    "# Просто создаю генератор фолдов\n",
    "kf = KFold(n_splits=2, shuffle=True, random_state=13)\n",
    "#kf = StratifiedKFold(n_splits=2, random_state=13)\n",
    "\n",
    "K = np.arange(1, 100, 1)\n",
    "acc = np.zeros(K.shape)\n",
    "f1 = np.zeros(K.shape)\n",
    "\n",
    "for train_index, test_index in kf.split(data[:5000], target[:5000]):\n",
    "    data_train, data_test = data[train_index], data[test_index]\n",
    "    target_train, target_test = target[train_index], target[test_index]\n",
    "\n",
    "    knn.fit(data_train, target_train)\n",
    "    \n",
    "    for i, k in enumerate(K):\n",
    "        knn.set_k(k)\n",
    "        cv = knn.predict(data_test)        \n",
    "        acc[i] += accuracy_score(target_test, cv)\n",
    "        f1[i] += f1_score(target_test, cv)\n",
    "\n",
    "acc = acc / kf.get_n_splits()\n",
    "f1 = f1 / kf.get_n_splits()"
   ]
  },
  {
   "cell_type": "code",
   "execution_count": 10,
   "metadata": {},
   "outputs": [
    {
     "data": {
      "image/png": "[encoded data removed]",
      "text/plain": [
       "<Figure size 720x360 with 1 Axes>"
      ]
     },
     "metadata": {
      "needs_background": "light"
     },
     "output_type": "display_data"
    }
   ],
   "source": [
    "plt.figure(figsize=(10, 5))\n",
    "plt.xlabel(\"K\")\n",
    "plt.ylabel(\"Score\")\n",
    "plt.plot(K, acc, label=\"Accuracy\")\n",
    "plt.plot(K, f1, label=\"F1\")\n",
    "plt.legend()\n",
    "plt.grid()\n",
    "plt.show()"
   ]
  },
  {
   "cell_type": "markdown",
   "metadata": {},
   "source": [
    "**2. Нужно с помощью кросс-валидации найти оптимальный набор признаков для обычного дерева и метода k-ближайших соседей. Показать и объяснить, как данный набор был получен.**"
   ]
  },
  {
   "cell_type": "markdown",
   "metadata": {},
   "source": [
    "**3. Для набора признаков полученных в предыдущей задаче, с помощью кросс-валидации найти оптимальный набор гиперпараметров.**"
   ]
  },
  {
   "cell_type": "code",
   "execution_count": 25,
   "metadata": {},
   "outputs": [],
   "source": [
    "# Решаем обе задачи за раз\n",
    "from sklearn.tree import DecisionTreeClassifier\n",
    "from sklearn.neighbors import KNeighborsClassifier\n",
    "from sklearn.model_selection import GridSearchCV\n",
    "\n",
    "# пул признаков\n",
    "features = [\n",
    "    'age', 'height', 'weight', 'ap_hi', 'ap_lo', \n",
    "    'smoke', 'alco', 'active',\n",
    "    'chol_1', 'chol_2', 'chol_3',\n",
    "    'gluc_1', 'gluc_2', 'gluc_3', \n",
    "    'gender_bin'\n",
    "]\n",
    "\n",
    "\n",
    "\n",
    "\n",
    "\n",
    "knn_grid = GridSearchCV(\n",
    "    knn, knn_params, scoring='accuracy',\n",
    "    cv=3, refit=False,\n",
    ")\n",
    "\n",
    "\n",
    "def Greed(df, clf, params, pool):\n",
    "    \n",
    "    grid = GridSearchCV(\n",
    "        clf, params, scoring='accuracy',\n",
    "        cv=3, refit=False,\n",
    "    )\n",
    "    \n",
    "    # Последнее лучшая подсчитанная метрика\n",
    "    last_score = 0\n",
    "    best_features = []\n",
    "    best_params = None\n",
    "    while True:\n",
    "        next_feature = None\n",
    "        for feature in pool:\n",
    "            current_features = best_features + [feature,]\n",
    "            result = grid.fit(df[current_features].values, df['cardio'].values)\n",
    "\n",
    "            # Сохраням, если результат лучше, чем был\n",
    "            if last_score < grid.best_score_:\n",
    "                print(\"=>\", \"%s = (%s | %s)\\t\" % (current_features, grid.best_score_, grid.best_params_))\n",
    "                next_feature = feature \n",
    "                last_score = grid.best_score_\n",
    "                best_params = grid.best_params_\n",
    "\n",
    "        if next_feature is None:\n",
    "            break\n",
    "        i = features.index(next_feature)\n",
    "        best_features.append(features[i])\n",
    "        del features[i]\n",
    "    \n",
    "    return last_score, best_features, best_params"
   ]
  },
  {
   "cell_type": "code",
   "execution_count": 13,
   "metadata": {},
   "outputs": [
    {
     "name": "stdout",
     "output_type": "stream",
     "text": [
      "=> ['age'] = (0.5974713994279557 | {'max_depth': 7, 'min_samples_split': 0.06444444444444444})\t\n",
      "=> ['ap_hi'] = (0.7138428527404068 | {'max_depth': 1, 'min_samples_split': 0.01})\t\n",
      "=> ['ap_hi', 'age'] = (0.7215285892738383 | {'max_depth': 4, 'min_samples_split': 0.06444444444444444})\t\n",
      "=> ['ap_hi', 'chol_3'] = (0.7257428494800046 | {'max_depth': 2, 'min_samples_split': 0.01})\t\n",
      "=> ['ap_hi', 'chol_3', 'age'] = (0.7289714480523631 | {'max_depth': 5, 'min_samples_split': 0.06444444444444444})\t\n",
      "=> ['ap_hi', 'chol_3', 'age', 'height'] = (0.7289857174403572 | {'max_depth': 6, 'min_samples_split': 0.01})\t\n",
      "=> ['ap_hi', 'chol_3', 'age', 'weight'] = (0.7298714480527305 | {'max_depth': 5, 'min_samples_split': 0.01})\t\n",
      "=> ['ap_hi', 'chol_3', 'age', 'ap_lo'] = (0.730371416624812 | {'max_depth': 5, 'min_samples_split': 0.01})\t\n",
      "=> ['ap_hi', 'chol_3', 'age', 'ap_lo', 'weight'] = (0.7310714290738995 | {'max_depth': 5, 'min_samples_split': 0.01})\t\n",
      "=> ['ap_hi', 'chol_3', 'age', 'ap_lo', 'gender_bin'] = (0.7318571233602201 | {'max_depth': 9, 'min_samples_split': 0.01})\t\n",
      "=> ['ap_hi', 'chol_3', 'age', 'ap_lo', 'gender_bin', 'active'] = (0.7321999854011065 | {'max_depth': 9, 'min_samples_split': 0.01})\t\n",
      "=> ['ap_hi', 'chol_3', 'age', 'ap_lo', 'gender_bin', 'gluc_2'] = (0.7322571296868237 | {'max_depth': 9, 'min_samples_split': 0.01})\t\n",
      "=> ['ap_hi', 'chol_3', 'age', 'ap_lo', 'gender_bin', 'gluc_3'] = (0.7323999888705264 | {'max_depth': 9, 'min_samples_split': 0.01})\t\n",
      "=> ['ap_hi', 'chol_3', 'age', 'ap_lo', 'gender_bin', 'gluc_3', 'active'] = (0.7327428509114126 | {'max_depth': 9, 'min_samples_split': 0.01})\t\n",
      "=> ['ap_hi', 'chol_3', 'age', 'ap_lo', 'gender_bin', 'gluc_3', 'active', 'gluc_2'] = (0.7327857092787595 | {'max_depth': 9, 'min_samples_split': 0.01})\t\n"
     ]
    },
    {
     "data": {
      "text/plain": [
       "(0.7327857092787595,\n",
       " ['ap_hi',\n",
       "  'chol_3',\n",
       "  'age',\n",
       "  'ap_lo',\n",
       "  'gender_bin',\n",
       "  'gluc_3',\n",
       "  'active',\n",
       "  'gluc_2'],\n",
       " {'max_depth': 9, 'min_samples_split': 0.01})"
      ]
     },
     "execution_count": 13,
     "metadata": {},
     "output_type": "execute_result"
    }
   ],
   "source": [
    "tree = DecisionTreeClassifier(random_state=13)\n",
    "tree_params = {\n",
    "    'max_depth': np.arange(1, 15, 1),\n",
    "    'min_samples_split': np.linspace(0.01, 0.5, 10),\n",
    "}\n",
    "Greed(df, tree, tree_params, features)"
   ]
  },
  {
   "cell_type": "code",
   "execution_count": null,
   "metadata": {},
   "outputs": [
    {
     "name": "stdout",
     "output_type": "stream",
     "text": [
      "=> ['age'] = (0.5660571277822795 | {'n_neighbors': 14, 'p': 1})\t\n",
      "=> ['ap_hi'] = (0.7138857031486839 | {'n_neighbors': 11, 'p': 1})\t\n"
     ]
    }
   ],
   "source": [
    "# Без нормализации\n",
    "knn = KNeighborsClassifier()\n",
    "knn_params = {\n",
    "    'p': [1, 2],\n",
    "    'n_neighbors': np.arange(1, 15, 1),\n",
    "}\n",
    "Greed(df, knn, knn_params, features)"
   ]
  },
  {
   "cell_type": "code",
   "execution_count": null,
   "metadata": {},
   "outputs": [],
   "source": [
    "from sklearn.pipeline import make_pipeline\n",
    "# С нормализацией (не оптимально)\n",
    "knn = make_pipeline(\n",
    "    StandardScaler(), \n",
    "    KNeighborsClassifier(),\n",
    ")\n",
    "knn_params = {\n",
    "    'kneighborsclassifier__p': [1, 2],\n",
    "    'kneighborsclassifier__n_neighbors': np.arange(1, 15, 1),\n",
    "}\n",
    "Greed(df, knn, knn_params, features)"
   ]
  },
  {
   "cell_type": "markdown",
   "metadata": {},
   "source": [
    "**3. Определить какой из трех классификаторов (kNN, наивный Байес, решающее дерево) лучший в каждой метрике по отдельности: accuracy, F1-мера, ROC AUC, Logloss. Использовать набор признаков: 'age', 'weight', 'height', 'ap_lo', 'ap_hi'.**\n",
    "\n",
    "**(Необязательно) Найти оптимальный набор признаков.**"
   ]
  },
  {
   "cell_type": "code",
   "execution_count": null,
   "metadata": {},
   "outputs": [],
   "source": [
    "from sklearn.naive_bayes import GaussianNB\n",
    "from sklearn.neighbors import KNeighborsClassifier\n",
    "from sklearn.tree import DecisionTreeClassifier\n",
    "from sklearn.model_selection import cross_validate, GridSearchCV\n",
    "from sklearn.pipeline import make_pipeline\n",
    "from sklearn.preprocessing import StandardScaler\n",
    "\n",
    "\n",
    "features = ['age', 'weight', 'height', 'ap_lo', 'ap_hi']\n",
    "\n",
    "data= df[features].values\n",
    "target = df['cardio'].values\n",
    "\n",
    "classifiers = [\n",
    "    (\"NB\", GaussianNB(), {}),\n",
    "    (\"Knn\", make_pipeline(\n",
    "        StandardScaler(), \n",
    "        KNeighborsClassifier()),  {\"kneighborsclassifier__n_neighbors\": np.arange(7, 30, 2)}),\n",
    "    (\"Tree\", DecisionTreeClassifier(), {\"max_depth\": np.arange(2, 10)}),\n",
    "]\n",
    "\n",
    "results = []\n",
    "for name, classifier, params in classifiers:    \n",
    "    print(name)\n",
    "    grid_acc = GridSearchCV(\n",
    "        classifier, params, scoring='accuracy',\n",
    "        cv=3, refit=False,        \n",
    "    )\n",
    "    grid_acc.fit(data, target)\n",
    "    print(\"\\tAcc =\", grid_acc.best_score_, grid_acc.best_params_)\n",
    "    \n",
    "    grid_f1 = GridSearchCV(\n",
    "        classifier, params, scoring='f1',\n",
    "        cv=3, refit=False,        \n",
    "    )\n",
    "    grid_f1.fit(data, target)\n",
    "    print(\"\\tF1 =\", grid_f1.best_score_, grid_f1.best_params_)\n",
    "    \n",
    "    grid_roc = GridSearchCV(\n",
    "        classifier, params, scoring='roc_auc',\n",
    "        cv=3, refit=False,        \n",
    "    )\n",
    "    grid_roc.fit(data, target)\n",
    "    print(\"\\tROC AUC =\", grid_roc.best_score_, grid_roc.best_params_)\n",
    "    \n",
    "    grid_logloss = GridSearchCV(\n",
    "        classifier, params, scoring='neg_log_loss',\n",
    "        cv=3, refit=False,        \n",
    "    )\n",
    "    grid_logloss.fit(data, target)\n",
    "    print(\"\\tLogloss =\", grid_logloss.best_score_, grid_logloss.best_params_)\n",
    "    \n",
    "    results.append((\n",
    "        name, \n",
    "        grid_f1.best_score_, grid_acc.best_score_, grid_roc.best_score_, grid_logloss.best_score_,\n",
    "    ))\n",
    "\n",
    "\n",
    "print()    \n",
    "\n",
    "dr = pd.DataFrame(results, columns=[\"Name\", \"F1\", \"Accuracy\", \"ROC AUC\", \"Logloss\"])\n",
    "print(\"Accuracy\\n\", dr.sort_values(by=\"Accuracy\")[-1:])\n",
    "print()\n",
    "print(\"F1\\n\", dr.sort_values(by=\"F1\")[-1:])\n",
    "print()\n",
    "print(\"ROC AUC\\n\", dr.sort_values(by=\"ROC AUC\")[-1:])\n",
    "print()\n",
    "print(\"Logloss\\n\", dr.sort_values(by=\"Logloss\")[-1:])\n",
    "print()\n",
    "\n",
    "dr"
   ]
  }
 ],
 "metadata": {
  "kernelspec": {
   "display_name": "Python 3",
   "language": "python",
   "name": "python3"
  },
  "language_info": {
   "codemirror_mode": {
    "name": "ipython",
    "version": 3
   },
   "file_extension": ".py",
   "mimetype": "text/x-python",
   "name": "python",
   "nbconvert_exporter": "python",
   "pygments_lexer": "ipython3",
   "version": "3.9.2"
  }
 },
 "nbformat": 4,
 "nbformat_minor": 4
}
