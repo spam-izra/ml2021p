{
 "cells": [
  {
   "cell_type": "markdown",
   "metadata": {},
   "source": [
    "# Задачи к Лекции 6\n",
    "\n",
    "Дан файл \"Anuran_Calls_(MFCCs).zip\", в котором содержится обработка звуков издаваемых различными видами лягушек. В качестве признаков выступают мел-кепстральные коэффициенты __[MFCC](https://en.wikipedia.org/wiki/Mel-frequency_cepstrum)__"
   ]
  },
  {
   "cell_type": "markdown",
   "metadata": {},
   "source": [
    "**Чтение данных**"
   ]
  },
  {
   "cell_type": "code",
   "execution_count": 1,
   "metadata": {},
   "outputs": [
    {
     "data": {
      "text/html": [
       "<div>\n",
       "<style scoped>\n",
       "    .dataframe tbody tr th:only-of-type {\n",
       "        vertical-align: middle;\n",
       "    }\n",
       "\n",
       "    .dataframe tbody tr th {\n",
       "        vertical-align: top;\n",
       "    }\n",
       "\n",
       "    .dataframe thead th {\n",
       "        text-align: right;\n",
       "    }\n",
       "</style>\n",
       "<table border=\"1\" class=\"dataframe\">\n",
       "  <thead>\n",
       "    <tr style=\"text-align: right;\">\n",
       "      <th></th>\n",
       "      <th>MFCCs_ 1</th>\n",
       "      <th>MFCCs_ 2</th>\n",
       "      <th>MFCCs_ 3</th>\n",
       "      <th>MFCCs_ 4</th>\n",
       "      <th>MFCCs_ 5</th>\n",
       "      <th>MFCCs_ 6</th>\n",
       "      <th>MFCCs_ 7</th>\n",
       "      <th>MFCCs_ 8</th>\n",
       "      <th>MFCCs_ 9</th>\n",
       "      <th>MFCCs_10</th>\n",
       "      <th>...</th>\n",
       "      <th>MFCCs_17</th>\n",
       "      <th>MFCCs_18</th>\n",
       "      <th>MFCCs_19</th>\n",
       "      <th>MFCCs_20</th>\n",
       "      <th>MFCCs_21</th>\n",
       "      <th>MFCCs_22</th>\n",
       "      <th>Family</th>\n",
       "      <th>Genus</th>\n",
       "      <th>Species</th>\n",
       "      <th>RecordID</th>\n",
       "    </tr>\n",
       "  </thead>\n",
       "  <tbody>\n",
       "    <tr>\n",
       "      <th>0</th>\n",
       "      <td>1.0</td>\n",
       "      <td>0.152936</td>\n",
       "      <td>-0.105586</td>\n",
       "      <td>0.200722</td>\n",
       "      <td>0.317201</td>\n",
       "      <td>0.260764</td>\n",
       "      <td>0.100945</td>\n",
       "      <td>-0.150063</td>\n",
       "      <td>-0.171128</td>\n",
       "      <td>0.124676</td>\n",
       "      <td>...</td>\n",
       "      <td>-0.108351</td>\n",
       "      <td>-0.077623</td>\n",
       "      <td>-0.009568</td>\n",
       "      <td>0.057684</td>\n",
       "      <td>0.118680</td>\n",
       "      <td>0.014038</td>\n",
       "      <td>Leptodactylidae</td>\n",
       "      <td>Adenomera</td>\n",
       "      <td>AdenomeraAndre</td>\n",
       "      <td>1</td>\n",
       "    </tr>\n",
       "    <tr>\n",
       "      <th>1</th>\n",
       "      <td>1.0</td>\n",
       "      <td>0.171534</td>\n",
       "      <td>-0.098975</td>\n",
       "      <td>0.268425</td>\n",
       "      <td>0.338672</td>\n",
       "      <td>0.268353</td>\n",
       "      <td>0.060835</td>\n",
       "      <td>-0.222475</td>\n",
       "      <td>-0.207693</td>\n",
       "      <td>0.170883</td>\n",
       "      <td>...</td>\n",
       "      <td>-0.090974</td>\n",
       "      <td>-0.056510</td>\n",
       "      <td>-0.035303</td>\n",
       "      <td>0.020140</td>\n",
       "      <td>0.082263</td>\n",
       "      <td>0.029056</td>\n",
       "      <td>Leptodactylidae</td>\n",
       "      <td>Adenomera</td>\n",
       "      <td>AdenomeraAndre</td>\n",
       "      <td>1</td>\n",
       "    </tr>\n",
       "    <tr>\n",
       "      <th>2</th>\n",
       "      <td>1.0</td>\n",
       "      <td>0.152317</td>\n",
       "      <td>-0.082973</td>\n",
       "      <td>0.287128</td>\n",
       "      <td>0.276014</td>\n",
       "      <td>0.189867</td>\n",
       "      <td>0.008714</td>\n",
       "      <td>-0.242234</td>\n",
       "      <td>-0.219153</td>\n",
       "      <td>0.232538</td>\n",
       "      <td>...</td>\n",
       "      <td>-0.050691</td>\n",
       "      <td>-0.023590</td>\n",
       "      <td>-0.066722</td>\n",
       "      <td>-0.025083</td>\n",
       "      <td>0.099108</td>\n",
       "      <td>0.077162</td>\n",
       "      <td>Leptodactylidae</td>\n",
       "      <td>Adenomera</td>\n",
       "      <td>AdenomeraAndre</td>\n",
       "      <td>1</td>\n",
       "    </tr>\n",
       "    <tr>\n",
       "      <th>3</th>\n",
       "      <td>1.0</td>\n",
       "      <td>0.224392</td>\n",
       "      <td>0.118985</td>\n",
       "      <td>0.329432</td>\n",
       "      <td>0.372088</td>\n",
       "      <td>0.361005</td>\n",
       "      <td>0.015501</td>\n",
       "      <td>-0.194347</td>\n",
       "      <td>-0.098181</td>\n",
       "      <td>0.270375</td>\n",
       "      <td>...</td>\n",
       "      <td>-0.136009</td>\n",
       "      <td>-0.177037</td>\n",
       "      <td>-0.130498</td>\n",
       "      <td>-0.054766</td>\n",
       "      <td>-0.018691</td>\n",
       "      <td>0.023954</td>\n",
       "      <td>Leptodactylidae</td>\n",
       "      <td>Adenomera</td>\n",
       "      <td>AdenomeraAndre</td>\n",
       "      <td>1</td>\n",
       "    </tr>\n",
       "    <tr>\n",
       "      <th>4</th>\n",
       "      <td>1.0</td>\n",
       "      <td>0.087817</td>\n",
       "      <td>-0.068345</td>\n",
       "      <td>0.306967</td>\n",
       "      <td>0.330923</td>\n",
       "      <td>0.249144</td>\n",
       "      <td>0.006884</td>\n",
       "      <td>-0.265423</td>\n",
       "      <td>-0.172700</td>\n",
       "      <td>0.266434</td>\n",
       "      <td>...</td>\n",
       "      <td>-0.048885</td>\n",
       "      <td>-0.053074</td>\n",
       "      <td>-0.088550</td>\n",
       "      <td>-0.031346</td>\n",
       "      <td>0.108610</td>\n",
       "      <td>0.079244</td>\n",
       "      <td>Leptodactylidae</td>\n",
       "      <td>Adenomera</td>\n",
       "      <td>AdenomeraAndre</td>\n",
       "      <td>1</td>\n",
       "    </tr>\n",
       "  </tbody>\n",
       "</table>\n",
       "<p>5 rows × 26 columns</p>\n",
       "</div>"
      ],
      "text/plain": [
       "   MFCCs_ 1  MFCCs_ 2  MFCCs_ 3  MFCCs_ 4  MFCCs_ 5  MFCCs_ 6  MFCCs_ 7  \\\n",
       "0       1.0  0.152936 -0.105586  0.200722  0.317201  0.260764  0.100945   \n",
       "1       1.0  0.171534 -0.098975  0.268425  0.338672  0.268353  0.060835   \n",
       "2       1.0  0.152317 -0.082973  0.287128  0.276014  0.189867  0.008714   \n",
       "3       1.0  0.224392  0.118985  0.329432  0.372088  0.361005  0.015501   \n",
       "4       1.0  0.087817 -0.068345  0.306967  0.330923  0.249144  0.006884   \n",
       "\n",
       "   MFCCs_ 8  MFCCs_ 9  MFCCs_10  ...  MFCCs_17  MFCCs_18  MFCCs_19  MFCCs_20  \\\n",
       "0 -0.150063 -0.171128  0.124676  ... -0.108351 -0.077623 -0.009568  0.057684   \n",
       "1 -0.222475 -0.207693  0.170883  ... -0.090974 -0.056510 -0.035303  0.020140   \n",
       "2 -0.242234 -0.219153  0.232538  ... -0.050691 -0.023590 -0.066722 -0.025083   \n",
       "3 -0.194347 -0.098181  0.270375  ... -0.136009 -0.177037 -0.130498 -0.054766   \n",
       "4 -0.265423 -0.172700  0.266434  ... -0.048885 -0.053074 -0.088550 -0.031346   \n",
       "\n",
       "   MFCCs_21  MFCCs_22           Family      Genus         Species  RecordID  \n",
       "0  0.118680  0.014038  Leptodactylidae  Adenomera  AdenomeraAndre         1  \n",
       "1  0.082263  0.029056  Leptodactylidae  Adenomera  AdenomeraAndre         1  \n",
       "2  0.099108  0.077162  Leptodactylidae  Adenomera  AdenomeraAndre         1  \n",
       "3 -0.018691  0.023954  Leptodactylidae  Adenomera  AdenomeraAndre         1  \n",
       "4  0.108610  0.079244  Leptodactylidae  Adenomera  AdenomeraAndre         1  \n",
       "\n",
       "[5 rows x 26 columns]"
      ]
     },
     "execution_count": 1,
     "metadata": {},
     "output_type": "execute_result"
    }
   ],
   "source": [
    "%matplotlib inline\n",
    "import zipfile\n",
    "import numpy as np\n",
    "import pandas as pd\n",
    "import seaborn as sns\n",
    "import matplotlib.pyplot as plt\n",
    "\n",
    "z = zipfile.ZipFile(\"../data/Anuran_Calls_(MFCCs).zip\")\n",
    "df = pd.read_csv(z.open(\"Frogs_MFCCs.csv\"))\n",
    "\n",
    "df.head()"
   ]
  },
  {
   "cell_type": "markdown",
   "metadata": {},
   "source": [
    "**Получение различной информации**"
   ]
  },
  {
   "cell_type": "code",
   "execution_count": 2,
   "metadata": {},
   "outputs": [
    {
     "data": {
      "text/plain": [
       "(7195, 26)"
      ]
     },
     "execution_count": 2,
     "metadata": {},
     "output_type": "execute_result"
    }
   ],
   "source": [
    "df.shape"
   ]
  },
  {
   "cell_type": "code",
   "execution_count": 3,
   "metadata": {},
   "outputs": [
    {
     "name": "stdout",
     "output_type": "stream",
     "text": [
      "<class 'pandas.core.frame.DataFrame'>\n",
      "RangeIndex: 7195 entries, 0 to 7194\n",
      "Data columns (total 26 columns):\n",
      " #   Column    Non-Null Count  Dtype  \n",
      "---  ------    --------------  -----  \n",
      " 0   MFCCs_ 1  7195 non-null   float64\n",
      " 1   MFCCs_ 2  7195 non-null   float64\n",
      " 2   MFCCs_ 3  7195 non-null   float64\n",
      " 3   MFCCs_ 4  7195 non-null   float64\n",
      " 4   MFCCs_ 5  7195 non-null   float64\n",
      " 5   MFCCs_ 6  7195 non-null   float64\n",
      " 6   MFCCs_ 7  7195 non-null   float64\n",
      " 7   MFCCs_ 8  7195 non-null   float64\n",
      " 8   MFCCs_ 9  7195 non-null   float64\n",
      " 9   MFCCs_10  7195 non-null   float64\n",
      " 10  MFCCs_11  7195 non-null   float64\n",
      " 11  MFCCs_12  7195 non-null   float64\n",
      " 12  MFCCs_13  7195 non-null   float64\n",
      " 13  MFCCs_14  7195 non-null   float64\n",
      " 14  MFCCs_15  7195 non-null   float64\n",
      " 15  MFCCs_16  7195 non-null   float64\n",
      " 16  MFCCs_17  7195 non-null   float64\n",
      " 17  MFCCs_18  7195 non-null   float64\n",
      " 18  MFCCs_19  7195 non-null   float64\n",
      " 19  MFCCs_20  7195 non-null   float64\n",
      " 20  MFCCs_21  7195 non-null   float64\n",
      " 21  MFCCs_22  7195 non-null   float64\n",
      " 22  Family    7195 non-null   object \n",
      " 23  Genus     7195 non-null   object \n",
      " 24  Species   7195 non-null   object \n",
      " 25  RecordID  7195 non-null   int64  \n",
      "dtypes: float64(22), int64(1), object(3)\n",
      "memory usage: 1.4+ MB\n"
     ]
    }
   ],
   "source": [
    "df.info()"
   ]
  },
  {
   "cell_type": "code",
   "execution_count": 4,
   "metadata": {},
   "outputs": [
    {
     "data": {
      "text/html": [
       "<div>\n",
       "<style scoped>\n",
       "    .dataframe tbody tr th:only-of-type {\n",
       "        vertical-align: middle;\n",
       "    }\n",
       "\n",
       "    .dataframe tbody tr th {\n",
       "        vertical-align: top;\n",
       "    }\n",
       "\n",
       "    .dataframe thead th {\n",
       "        text-align: right;\n",
       "    }\n",
       "</style>\n",
       "<table border=\"1\" class=\"dataframe\">\n",
       "  <thead>\n",
       "    <tr style=\"text-align: right;\">\n",
       "      <th></th>\n",
       "      <th>MFCCs_ 1</th>\n",
       "      <th>MFCCs_ 2</th>\n",
       "      <th>MFCCs_ 3</th>\n",
       "      <th>MFCCs_ 4</th>\n",
       "      <th>MFCCs_ 5</th>\n",
       "      <th>MFCCs_ 6</th>\n",
       "      <th>MFCCs_ 7</th>\n",
       "      <th>MFCCs_ 8</th>\n",
       "      <th>MFCCs_ 9</th>\n",
       "      <th>MFCCs_10</th>\n",
       "      <th>...</th>\n",
       "      <th>MFCCs_14</th>\n",
       "      <th>MFCCs_15</th>\n",
       "      <th>MFCCs_16</th>\n",
       "      <th>MFCCs_17</th>\n",
       "      <th>MFCCs_18</th>\n",
       "      <th>MFCCs_19</th>\n",
       "      <th>MFCCs_20</th>\n",
       "      <th>MFCCs_21</th>\n",
       "      <th>MFCCs_22</th>\n",
       "      <th>RecordID</th>\n",
       "    </tr>\n",
       "  </thead>\n",
       "  <tbody>\n",
       "    <tr>\n",
       "      <th>count</th>\n",
       "      <td>7195.000000</td>\n",
       "      <td>7195.000000</td>\n",
       "      <td>7195.000000</td>\n",
       "      <td>7195.000000</td>\n",
       "      <td>7195.000000</td>\n",
       "      <td>7195.000000</td>\n",
       "      <td>7195.000000</td>\n",
       "      <td>7195.000000</td>\n",
       "      <td>7195.000000</td>\n",
       "      <td>7195.000000</td>\n",
       "      <td>...</td>\n",
       "      <td>7195.000000</td>\n",
       "      <td>7195.000000</td>\n",
       "      <td>7195.000000</td>\n",
       "      <td>7195.000000</td>\n",
       "      <td>7195.000000</td>\n",
       "      <td>7195.000000</td>\n",
       "      <td>7195.000000</td>\n",
       "      <td>7195.000000</td>\n",
       "      <td>7195.000000</td>\n",
       "      <td>7195.000000</td>\n",
       "    </tr>\n",
       "    <tr>\n",
       "      <th>mean</th>\n",
       "      <td>0.989885</td>\n",
       "      <td>0.323584</td>\n",
       "      <td>0.311224</td>\n",
       "      <td>0.445997</td>\n",
       "      <td>0.127046</td>\n",
       "      <td>0.097939</td>\n",
       "      <td>-0.001397</td>\n",
       "      <td>-0.000370</td>\n",
       "      <td>0.128213</td>\n",
       "      <td>0.055998</td>\n",
       "      <td>...</td>\n",
       "      <td>-0.039244</td>\n",
       "      <td>-0.101748</td>\n",
       "      <td>0.042062</td>\n",
       "      <td>0.088680</td>\n",
       "      <td>0.007755</td>\n",
       "      <td>-0.049474</td>\n",
       "      <td>-0.053244</td>\n",
       "      <td>0.037313</td>\n",
       "      <td>0.087567</td>\n",
       "      <td>25.220014</td>\n",
       "    </tr>\n",
       "    <tr>\n",
       "      <th>std</th>\n",
       "      <td>0.069016</td>\n",
       "      <td>0.218653</td>\n",
       "      <td>0.263527</td>\n",
       "      <td>0.160328</td>\n",
       "      <td>0.162722</td>\n",
       "      <td>0.120412</td>\n",
       "      <td>0.171404</td>\n",
       "      <td>0.116302</td>\n",
       "      <td>0.179008</td>\n",
       "      <td>0.127099</td>\n",
       "      <td>...</td>\n",
       "      <td>0.152515</td>\n",
       "      <td>0.187618</td>\n",
       "      <td>0.119915</td>\n",
       "      <td>0.138055</td>\n",
       "      <td>0.084733</td>\n",
       "      <td>0.082546</td>\n",
       "      <td>0.094181</td>\n",
       "      <td>0.079470</td>\n",
       "      <td>0.123442</td>\n",
       "      <td>13.214399</td>\n",
       "    </tr>\n",
       "    <tr>\n",
       "      <th>min</th>\n",
       "      <td>-0.251179</td>\n",
       "      <td>-0.673025</td>\n",
       "      <td>-0.436028</td>\n",
       "      <td>-0.472676</td>\n",
       "      <td>-0.636012</td>\n",
       "      <td>-0.410417</td>\n",
       "      <td>-0.538982</td>\n",
       "      <td>-0.576506</td>\n",
       "      <td>-0.587313</td>\n",
       "      <td>-0.952266</td>\n",
       "      <td>...</td>\n",
       "      <td>-0.590380</td>\n",
       "      <td>-0.717156</td>\n",
       "      <td>-0.498675</td>\n",
       "      <td>-0.421480</td>\n",
       "      <td>-0.759322</td>\n",
       "      <td>-0.680745</td>\n",
       "      <td>-0.361649</td>\n",
       "      <td>-0.430812</td>\n",
       "      <td>-0.379304</td>\n",
       "      <td>1.000000</td>\n",
       "    </tr>\n",
       "    <tr>\n",
       "      <th>25%</th>\n",
       "      <td>1.000000</td>\n",
       "      <td>0.165945</td>\n",
       "      <td>0.138445</td>\n",
       "      <td>0.336737</td>\n",
       "      <td>0.051717</td>\n",
       "      <td>0.012581</td>\n",
       "      <td>-0.125737</td>\n",
       "      <td>-0.063109</td>\n",
       "      <td>0.004648</td>\n",
       "      <td>-0.001132</td>\n",
       "      <td>...</td>\n",
       "      <td>-0.132980</td>\n",
       "      <td>-0.255929</td>\n",
       "      <td>-0.019549</td>\n",
       "      <td>-0.001764</td>\n",
       "      <td>-0.042122</td>\n",
       "      <td>-0.106079</td>\n",
       "      <td>-0.120971</td>\n",
       "      <td>-0.017620</td>\n",
       "      <td>0.000533</td>\n",
       "      <td>15.000000</td>\n",
       "    </tr>\n",
       "    <tr>\n",
       "      <th>50%</th>\n",
       "      <td>1.000000</td>\n",
       "      <td>0.302184</td>\n",
       "      <td>0.274626</td>\n",
       "      <td>0.481463</td>\n",
       "      <td>0.161361</td>\n",
       "      <td>0.072079</td>\n",
       "      <td>-0.052630</td>\n",
       "      <td>0.013265</td>\n",
       "      <td>0.189317</td>\n",
       "      <td>0.063478</td>\n",
       "      <td>...</td>\n",
       "      <td>-0.050715</td>\n",
       "      <td>-0.143259</td>\n",
       "      <td>0.041081</td>\n",
       "      <td>0.112769</td>\n",
       "      <td>0.011820</td>\n",
       "      <td>-0.052626</td>\n",
       "      <td>-0.055180</td>\n",
       "      <td>0.031274</td>\n",
       "      <td>0.105373</td>\n",
       "      <td>22.000000</td>\n",
       "    </tr>\n",
       "    <tr>\n",
       "      <th>75%</th>\n",
       "      <td>1.000000</td>\n",
       "      <td>0.466566</td>\n",
       "      <td>0.430695</td>\n",
       "      <td>0.559861</td>\n",
       "      <td>0.222592</td>\n",
       "      <td>0.175957</td>\n",
       "      <td>0.085580</td>\n",
       "      <td>0.075108</td>\n",
       "      <td>0.265395</td>\n",
       "      <td>0.117725</td>\n",
       "      <td>...</td>\n",
       "      <td>0.039157</td>\n",
       "      <td>0.017348</td>\n",
       "      <td>0.107046</td>\n",
       "      <td>0.201932</td>\n",
       "      <td>0.061889</td>\n",
       "      <td>0.006321</td>\n",
       "      <td>0.001342</td>\n",
       "      <td>0.089619</td>\n",
       "      <td>0.194819</td>\n",
       "      <td>37.000000</td>\n",
       "    </tr>\n",
       "    <tr>\n",
       "      <th>max</th>\n",
       "      <td>1.000000</td>\n",
       "      <td>1.000000</td>\n",
       "      <td>1.000000</td>\n",
       "      <td>1.000000</td>\n",
       "      <td>0.752246</td>\n",
       "      <td>0.964240</td>\n",
       "      <td>1.000000</td>\n",
       "      <td>0.551762</td>\n",
       "      <td>0.738033</td>\n",
       "      <td>0.522768</td>\n",
       "      <td>...</td>\n",
       "      <td>0.575749</td>\n",
       "      <td>0.668924</td>\n",
       "      <td>0.670700</td>\n",
       "      <td>0.681157</td>\n",
       "      <td>0.614064</td>\n",
       "      <td>0.574209</td>\n",
       "      <td>0.467831</td>\n",
       "      <td>0.389797</td>\n",
       "      <td>0.432207</td>\n",
       "      <td>60.000000</td>\n",
       "    </tr>\n",
       "  </tbody>\n",
       "</table>\n",
       "<p>8 rows × 23 columns</p>\n",
       "</div>"
      ],
      "text/plain": [
       "          MFCCs_ 1     MFCCs_ 2     MFCCs_ 3     MFCCs_ 4     MFCCs_ 5  \\\n",
       "count  7195.000000  7195.000000  7195.000000  7195.000000  7195.000000   \n",
       "mean      0.989885     0.323584     0.311224     0.445997     0.127046   \n",
       "std       0.069016     0.218653     0.263527     0.160328     0.162722   \n",
       "min      -0.251179    -0.673025    -0.436028    -0.472676    -0.636012   \n",
       "25%       1.000000     0.165945     0.138445     0.336737     0.051717   \n",
       "50%       1.000000     0.302184     0.274626     0.481463     0.161361   \n",
       "75%       1.000000     0.466566     0.430695     0.559861     0.222592   \n",
       "max       1.000000     1.000000     1.000000     1.000000     0.752246   \n",
       "\n",
       "          MFCCs_ 6     MFCCs_ 7     MFCCs_ 8     MFCCs_ 9     MFCCs_10  ...  \\\n",
       "count  7195.000000  7195.000000  7195.000000  7195.000000  7195.000000  ...   \n",
       "mean      0.097939    -0.001397    -0.000370     0.128213     0.055998  ...   \n",
       "std       0.120412     0.171404     0.116302     0.179008     0.127099  ...   \n",
       "min      -0.410417    -0.538982    -0.576506    -0.587313    -0.952266  ...   \n",
       "25%       0.012581    -0.125737    -0.063109     0.004648    -0.001132  ...   \n",
       "50%       0.072079    -0.052630     0.013265     0.189317     0.063478  ...   \n",
       "75%       0.175957     0.085580     0.075108     0.265395     0.117725  ...   \n",
       "max       0.964240     1.000000     0.551762     0.738033     0.522768  ...   \n",
       "\n",
       "          MFCCs_14     MFCCs_15     MFCCs_16     MFCCs_17     MFCCs_18  \\\n",
       "count  7195.000000  7195.000000  7195.000000  7195.000000  7195.000000   \n",
       "mean     -0.039244    -0.101748     0.042062     0.088680     0.007755   \n",
       "std       0.152515     0.187618     0.119915     0.138055     0.084733   \n",
       "min      -0.590380    -0.717156    -0.498675    -0.421480    -0.759322   \n",
       "25%      -0.132980    -0.255929    -0.019549    -0.001764    -0.042122   \n",
       "50%      -0.050715    -0.143259     0.041081     0.112769     0.011820   \n",
       "75%       0.039157     0.017348     0.107046     0.201932     0.061889   \n",
       "max       0.575749     0.668924     0.670700     0.681157     0.614064   \n",
       "\n",
       "          MFCCs_19     MFCCs_20     MFCCs_21     MFCCs_22     RecordID  \n",
       "count  7195.000000  7195.000000  7195.000000  7195.000000  7195.000000  \n",
       "mean     -0.049474    -0.053244     0.037313     0.087567    25.220014  \n",
       "std       0.082546     0.094181     0.079470     0.123442    13.214399  \n",
       "min      -0.680745    -0.361649    -0.430812    -0.379304     1.000000  \n",
       "25%      -0.106079    -0.120971    -0.017620     0.000533    15.000000  \n",
       "50%      -0.052626    -0.055180     0.031274     0.105373    22.000000  \n",
       "75%       0.006321     0.001342     0.089619     0.194819    37.000000  \n",
       "max       0.574209     0.467831     0.389797     0.432207    60.000000  \n",
       "\n",
       "[8 rows x 23 columns]"
      ]
     },
     "execution_count": 4,
     "metadata": {},
     "output_type": "execute_result"
    }
   ],
   "source": [
    "df.describe()"
   ]
  },
  {
   "cell_type": "code",
   "execution_count": 5,
   "metadata": {},
   "outputs": [
    {
     "data": {
      "text/plain": [
       "Leptodactylidae    4420\n",
       "Hylidae            2165\n",
       "Dendrobatidae       542\n",
       "Bufonidae            68\n",
       "Name: Family, dtype: int64"
      ]
     },
     "execution_count": 5,
     "metadata": {},
     "output_type": "execute_result"
    }
   ],
   "source": [
    "df[\"Family\"].value_counts()"
   ]
  },
  {
   "cell_type": "markdown",
   "metadata": {},
   "source": [
    "**1. Провести интервальную оценку среднего значения признака \"MFCCs_ 2\" с помощью бутстрапа с точностью 95%.**"
   ]
  },
  {
   "cell_type": "code",
   "execution_count": 6,
   "metadata": {},
   "outputs": [
    {
     "name": "stdout",
     "output_type": "stream",
     "text": [
      "[0.31857492 0.32936333]\n"
     ]
    }
   ],
   "source": [
    "def bootstrap(data):\n",
    "    idx = np.random.randint(0, len(data), len(data))\n",
    "    return data[idx]\n",
    "\n",
    "N = 100\n",
    "mfccs_2 = []\n",
    "data = df[\"MFCCs_ 2\"].values\n",
    "\n",
    "for _ in range(N):\n",
    "    tmp = bootstrap(data)\n",
    "    mfccs_2.append(tmp.mean())\n",
    "\n",
    "print(np.percentile(mfccs_2, [2.5, 97.5]))"
   ]
  },
  {
   "cell_type": "markdown",
   "metadata": {},
   "source": [
    "**2. Построить лес случайных деревьев, для определения семейства Dendrobatidae. Вывести 5 самых важных признаков. Сравнить результат с логистической регрессией.**"
   ]
  },
  {
   "cell_type": "markdown",
   "metadata": {},
   "source": [
    "Подготавливаем данные"
   ]
  },
  {
   "cell_type": "code",
   "execution_count": 7,
   "metadata": {},
   "outputs": [],
   "source": [
    "from sklearn.ensemble import RandomForestClassifier\n",
    "from sklearn.model_selection import train_test_split\n",
    "\n",
    "data = df.drop(['Family', 'Genus', 'Species', 'RecordID'], axis=1).values\n",
    "target = (df['Family'] == 'Dendrobatidae').values\n",
    "\n",
    "X_train, X_test, Y_train, Y_test = train_test_split(data, target, test_size=0.33, random_state=13)"
   ]
  },
  {
   "cell_type": "code",
   "execution_count": 8,
   "metadata": {},
   "outputs": [
    {
     "data": {
      "text/plain": [
       "RandomForestClassifier(n_estimators=10)"
      ]
     },
     "execution_count": 8,
     "metadata": {},
     "output_type": "execute_result"
    }
   ],
   "source": [
    "clf = RandomForestClassifier(10)\n",
    "clf.fit(X_train, Y_train)"
   ]
  },
  {
   "cell_type": "markdown",
   "metadata": {},
   "source": [
    "Извлекаем информацию об важных признаках"
   ]
  },
  {
   "cell_type": "code",
   "execution_count": 9,
   "metadata": {},
   "outputs": [
    {
     "name": "stdout",
     "output_type": "stream",
     "text": [
      "  MFCCs_ 3 = 0.147\n",
      "  MFCCs_17 = 0.116\n",
      "  MFCCs_ 5 = 0.090\n",
      "  MFCCs_ 2 = 0.082\n",
      "  MFCCs_16 = 0.064\n"
     ]
    }
   ],
   "source": [
    "importance = clf.feature_importances_\n",
    "idx = np.argsort(importance)\n",
    "\n",
    "for i in idx[:-6:-1]:\n",
    "    print(\"%10s = %.3f\" % (df.columns[i], importance[i]))"
   ]
  },
  {
   "cell_type": "markdown",
   "metadata": {},
   "source": [
    "Вычисляем метрики на тестовых данных"
   ]
  },
  {
   "cell_type": "code",
   "execution_count": 10,
   "metadata": {},
   "outputs": [
    {
     "name": "stdout",
     "output_type": "stream",
     "text": [
      "Acc =  0.9949473684210526\n",
      "ROC AUC =  0.996854998354431\n",
      "F1 =  0.9666666666666666\n"
     ]
    }
   ],
   "source": [
    "from sklearn.metrics import accuracy_score, f1_score, roc_auc_score\n",
    "\n",
    "prob = clf.predict_proba(X_test)\n",
    "pred = clf.predict(X_test)\n",
    "\n",
    "print(\"Acc = \", accuracy_score(Y_test, pred))\n",
    "print(\"ROC AUC = \", roc_auc_score(Y_test, prob[:, 1]))\n",
    "print(\"F1 = \", f1_score(Y_test, pred))"
   ]
  },
  {
   "cell_type": "markdown",
   "metadata": {},
   "source": [
    "И сравниваем их с логистической регрессией"
   ]
  },
  {
   "cell_type": "code",
   "execution_count": 11,
   "metadata": {},
   "outputs": [
    {
     "name": "stdout",
     "output_type": "stream",
     "text": [
      "Acc =  0.9827368421052631\n",
      "ROC AUC =  0.9929903672811761\n",
      "F1 =  0.888283378746594\n"
     ]
    }
   ],
   "source": [
    "from sklearn.linear_model import LogisticRegression\n",
    "\n",
    "clf = LogisticRegression(C=100000, penalty=\"l2\", solver=\"liblinear\")\n",
    "clf.fit(X_train, Y_train)\n",
    "\n",
    "prob = clf.predict_proba(X_test)\n",
    "pred = clf.predict(X_test)\n",
    "\n",
    "print(\"Acc = \", accuracy_score(Y_test, pred))\n",
    "print(\"ROC AUC = \", roc_auc_score(Y_test, prob[:, 1]))\n",
    "print(\"F1 = \", f1_score(Y_test, pred))"
   ]
  },
  {
   "cell_type": "markdown",
   "metadata": {},
   "source": [
    "**3. Использовать бэггинг для обучения 100 логистических регрессий для определения семейства Dendrobatidae. Использовать RandomizedSearchCV для того, чтобы не перебирать все возможные комбинации параметров. Выбрать для RandomizedSearchCV - 20 итераций.**"
   ]
  },
  {
   "cell_type": "code",
   "execution_count": 21,
   "metadata": {},
   "outputs": [
    {
     "data": {
      "text/plain": [
       "RandomizedSearchCV(cv=2,\n",
       "                   estimator=BaggingClassifier(base_estimator=LogisticRegression(max_iter=10000,\n",
       "                                                                                 solver='liblinear'),\n",
       "                                               n_estimators=100),\n",
       "                   n_iter=50,\n",
       "                   param_distributions={'base_estimator__C': array([1.e-05, 1.e-04, 1.e-03, 1.e-02, 1.e-01, 1.e+00, 1.e+01, 1.e+02,\n",
       "       1.e+03, 1.e+04]),\n",
       "                                        'max_features': array([0.1  , 0.325, 0.55 , 0.775, 1.   ]),\n",
       "                                        'max_samples': [0.5, 0.7, 0.9]},\n",
       "                   scoring='accuracy')"
      ]
     },
     "execution_count": 21,
     "metadata": {},
     "output_type": "execute_result"
    }
   ],
   "source": [
    "from sklearn.ensemble import BaggingClassifier\n",
    "from sklearn.linear_model import LogisticRegression\n",
    "from sklearn.model_selection import RandomizedSearchCV\n",
    "\n",
    "parameters = {\n",
    "    'max_features': np.linspace(0.1, 1.0, 5),    # кол-во случайно отбираемых признаков\n",
    "    'max_samples': [0.5, 0.7, 0.9], # процент выборки для обучения \n",
    "    'base_estimator__C': np.logspace(-5, 4, 10), # регуляризация\n",
    "}\n",
    "\n",
    "\n",
    "clf = BaggingClassifier(LogisticRegression(solver=\"liblinear\", max_iter=10000), 100)\n",
    "\n",
    "rcv = RandomizedSearchCV(clf, parameters, n_iter=50, scoring=\"accuracy\", cv=2)\n",
    "\n",
    "rcv.fit(X_train, Y_train)"
   ]
  },
  {
   "cell_type": "markdown",
   "metadata": {},
   "source": [
    "Выведем наилучшие параметры"
   ]
  },
  {
   "cell_type": "code",
   "execution_count": 22,
   "metadata": {},
   "outputs": [
    {
     "data": {
      "text/plain": [
       "{'max_samples': 0.5, 'max_features': 1.0, 'base_estimator__C': 10000.0}"
      ]
     },
     "execution_count": 22,
     "metadata": {},
     "output_type": "execute_result"
    }
   ],
   "source": [
    "rcv.best_params_"
   ]
  },
  {
   "cell_type": "markdown",
   "metadata": {},
   "source": [
    "И лучшнее значение метрики"
   ]
  },
  {
   "cell_type": "code",
   "execution_count": 23,
   "metadata": {},
   "outputs": [
    {
     "data": {
      "text/plain": [
       "0.9865145228215768"
      ]
     },
     "execution_count": 23,
     "metadata": {},
     "output_type": "execute_result"
    }
   ],
   "source": [
    "rcv.best_score_ "
   ]
  },
  {
   "cell_type": "markdown",
   "metadata": {},
   "source": [
    "Посмотрим метрику на тестовых данных"
   ]
  },
  {
   "cell_type": "code",
   "execution_count": 26,
   "metadata": {},
   "outputs": [
    {
     "name": "stdout",
     "output_type": "stream",
     "text": [
      "Acc =  0.984\n"
     ]
    }
   ],
   "source": [
    "pred = rcv.predict(X_test)\n",
    "print(\"Acc = \", accuracy_score(Y_test, pred))"
   ]
  },
  {
   "cell_type": "markdown",
   "metadata": {},
   "source": [
    "И сравним с одиночным классификатором"
   ]
  },
  {
   "cell_type": "code",
   "execution_count": 25,
   "metadata": {},
   "outputs": [
    {
     "name": "stdout",
     "output_type": "stream",
     "text": [
      "Acc =  0.9827368421052631\n"
     ]
    }
   ],
   "source": [
    "from sklearn.linear_model import LogisticRegression\n",
    "\n",
    "clf = LogisticRegression(C=100000, penalty=\"l2\", solver=\"liblinear\")\n",
    "clf.fit(X_train, Y_train)\n",
    "pred = clf.predict(X_test)\n",
    "print(\"Acc = \", accuracy_score(Y_test, pred))"
   ]
  },
  {
   "cell_type": "markdown",
   "metadata": {},
   "source": [
    "**4. Организовать стекинг моделей (любой из вариантов) для определения семейства Dendrobatidae. Для этого выбрать базовые модели и выбрать мета-модель (самостоятельно). Определить постепенным добавлением, какие модели улучшают результат классификации, какие ухудшают.**"
   ]
  },
  {
   "cell_type": "code",
   "execution_count": 42,
   "metadata": {},
   "outputs": [],
   "source": [
    "# Наши будущие базовые модели\n",
    "from sklearn.neighbors import KNeighborsClassifier\n",
    "from sklearn.linear_model import LogisticRegression, LogisticRegressionCV\n",
    "from sklearn.naive_bayes import GaussianNB\n",
    "from sklearn.ensemble import RandomForestClassifier\n",
    "\n",
    "from sklearn.model_selection import GridSearchCV"
   ]
  },
  {
   "cell_type": "markdown",
   "metadata": {},
   "source": [
    "Будем готовить блендинг, для этого обучающую выборку также нужно разделить на основную и отложенную"
   ]
  },
  {
   "cell_type": "code",
   "execution_count": 27,
   "metadata": {},
   "outputs": [],
   "source": [
    "X_main, X_hold, Y_main, Y_hold = train_test_split(X_train, Y_train, test_size=0.15, random_state=13) "
   ]
  },
  {
   "cell_type": "markdown",
   "metadata": {},
   "source": [
    "**kNN**\n",
    "\n",
    "Найдем количество соседей для kNN"
   ]
  },
  {
   "cell_type": "code",
   "execution_count": 31,
   "metadata": {},
   "outputs": [
    {
     "name": "stdout",
     "output_type": "stream",
     "text": [
      "{'n_neighbors': 2}\n",
      "kNN =  0.9946236559139785\n"
     ]
    }
   ],
   "source": [
    "param = {\n",
    "    \"n_neighbors\": np.arange(1, 15),\n",
    "}\n",
    "knn = GridSearchCV(KNeighborsClassifier(), param, scoring=\"roc_auc\", cv=2)\n",
    "knn.fit(X_train, Y_train)\n",
    "pred = knn.predict(X_test)\n",
    "print(knn.best_params_)\n",
    "print(\"kNN = \", f1_score(Y_test, pred))"
   ]
  },
  {
   "cell_type": "markdown",
   "metadata": {},
   "source": [
    "А теперь обучаем лучшую модель на основной выборке и делаем предсказание на отложенной и тестовой"
   ]
  },
  {
   "cell_type": "code",
   "execution_count": 32,
   "metadata": {},
   "outputs": [],
   "source": [
    "knn.best_estimator_.fit(X_main, Y_main)\n",
    "\n",
    "knn_hold = knn.best_estimator_.predict_proba(X_hold)\n",
    "knn_test = knn.best_estimator_.predict_proba(X_test)"
   ]
  },
  {
   "cell_type": "markdown",
   "metadata": {},
   "source": [
    "**Логистическая регрессия**\n",
    "\n",
    "Найдем значение C для логистической регрессии"
   ]
  },
  {
   "cell_type": "code",
   "execution_count": 38,
   "metadata": {},
   "outputs": [
    {
     "name": "stdout",
     "output_type": "stream",
     "text": [
      "[49.37047853]\n",
      "LogisticRegression =  0.8876712328767123\n"
     ]
    }
   ],
   "source": [
    "param = {\n",
    "    \"C\": np.logspace(-5, 4, 200),\n",
    "}\n",
    "lr = LogisticRegressionCV(cv=3,\n",
    "                          Cs=param[\"C\"], \n",
    "                          penalty=\"l2\", \n",
    "                          solver=\"liblinear\",\n",
    "                          scoring=\"roc_auc\")\n",
    "lr.fit(X_train, Y_train)\n",
    "pred = lr.predict(X_test)\n",
    "print(lr.C_)\n",
    "print(\"LogisticRegression = \", f1_score(Y_test, pred))"
   ]
  },
  {
   "cell_type": "markdown",
   "metadata": {},
   "source": [
    "И также формируем новые признаки"
   ]
  },
  {
   "cell_type": "code",
   "execution_count": 43,
   "metadata": {},
   "outputs": [],
   "source": [
    "lr = LogisticRegression(C=49.37047853, penalty=\"l2\", solver=\"liblinear\")\n",
    "lr.fit(X_main, Y_main)\n",
    "lr_hold = lr.predict_proba(X_hold)\n",
    "lr_test = lr.predict_proba(X_test)"
   ]
  },
  {
   "cell_type": "markdown",
   "metadata": {},
   "source": [
    "**Наивный Байес**\n",
    "\n",
    "Для наивного Байеса всё значительно проще"
   ]
  },
  {
   "cell_type": "code",
   "execution_count": 44,
   "metadata": {},
   "outputs": [
    {
     "name": "stdout",
     "output_type": "stream",
     "text": [
      "GaussianNB =  0.4901185770750988\n"
     ]
    }
   ],
   "source": [
    "nb = GaussianNB()\n",
    "nb.fit(X_train, Y_train)\n",
    "pred = nb.predict(X_test)\n",
    "print(\"GaussianNB = \", f1_score(Y_test, pred))"
   ]
  },
  {
   "cell_type": "code",
   "execution_count": 45,
   "metadata": {},
   "outputs": [],
   "source": [
    "nb.fit(X_main, Y_main)\n",
    "nb_hold = nb.predict_proba(X_hold)\n",
    "nb_test = nb.predict_proba(X_test)"
   ]
  },
  {
   "cell_type": "markdown",
   "metadata": {},
   "source": [
    "**Случайный лес**"
   ]
  },
  {
   "cell_type": "code",
   "execution_count": 46,
   "metadata": {},
   "outputs": [
    {
     "name": "stdout",
     "output_type": "stream",
     "text": [
      "RandomForestClassifier =  0.9781420765027323\n"
     ]
    }
   ],
   "source": [
    "rf = RandomForestClassifier(100)\n",
    "rf.fit(X_train, Y_train)\n",
    "pred = rf.predict(X_test)\n",
    "print(\"RandomForestClassifier = \", f1_score(Y_test, pred))"
   ]
  },
  {
   "cell_type": "code",
   "execution_count": 47,
   "metadata": {},
   "outputs": [],
   "source": [
    "rf.fit(X_main, Y_main)\n",
    "rf_hold = rf.predict_proba(X_hold)\n",
    "rf_test = rf.predict_proba(X_test)"
   ]
  },
  {
   "cell_type": "markdown",
   "metadata": {},
   "source": [
    "**Блендинг**"
   ]
  },
  {
   "cell_type": "code",
   "execution_count": 48,
   "metadata": {},
   "outputs": [],
   "source": [
    "clfs = {\n",
    "    \"kNN\": (knn_hold, knn_test),\n",
    "    \"LogisticRegression\": (lr_hold, lr_test),\n",
    "    \"GaussianNB\": (nb_hold, nb_test),\n",
    "    \"RandomForestClassifier\": (rf_hold, rf_test),\n",
    "}"
   ]
  },
  {
   "cell_type": "markdown",
   "metadata": {},
   "source": [
    "В качестве метамодели выберем логистическую регрессию."
   ]
  },
  {
   "cell_type": "code",
   "execution_count": 49,
   "metadata": {},
   "outputs": [],
   "source": [
    "meta = LogisticRegression(solver=\"liblinear\")"
   ]
  },
  {
   "cell_type": "code",
   "execution_count": 50,
   "metadata": {},
   "outputs": [
    {
     "name": "stdout",
     "output_type": "stream",
     "text": [
      "\n",
      "Comb =  []\n",
      "Score =  0\n",
      "\t kNN\n",
      "\t\t ROC AUC =  0.9997679010890228\n",
      "\t LogisticRegression\n",
      "\t\t ROC AUC =  0.9927005506515961\n",
      "\t GaussianNB\n",
      "\t\t ROC AUC =  0.9814689282188067\n",
      "\t RandomForestClassifier\n",
      "\t\t ROC AUC =  0.99985509168521\n",
      "\n",
      "\t The best is RandomForestClassifier\n",
      "\n",
      "\n",
      "Comb =  ['RandomForestClassifier']\n",
      "Score =  0.99985509168521\n",
      "\t kNN\n",
      "\t\t ROC AUC =  0.9999607028298875\n",
      "\t LogisticRegression\n",
      "\t\t ROC AUC =  0.9993687892050673\n",
      "\t GaussianNB\n",
      "\t\t ROC AUC =  0.9998821084896624\n",
      "\n",
      "\t The best is kNN\n",
      "\n",
      "\n",
      "Comb =  ['RandomForestClassifier', 'kNN']\n",
      "Score =  0.9999607028298875\n",
      "\t LogisticRegression\n",
      "\t\t ROC AUC =  0.9999091252941147\n",
      "\t GaussianNB\n",
      "\t\t ROC AUC =  0.9999607028298875\n",
      "\n",
      "\t The best is GaussianNB\n",
      "\n",
      "\n",
      "Comb =  ['RandomForestClassifier', 'kNN', 'GaussianNB']\n",
      "Score =  0.9999607028298875\n",
      "\t LogisticRegression\n",
      "\t\t ROC AUC =  0.9999115813672468\n",
      "\n",
      "\t The best is LogisticRegression\n",
      "\n",
      "STOP\n"
     ]
    }
   ],
   "source": [
    "names = list(clfs.keys())\n",
    "\n",
    "# Здесь будем хранить наши классификаторы                  \n",
    "comb = []\n",
    "comb_score = 0\n",
    "\n",
    "while True:\n",
    "    # Все признаки для отложенной выборки    \n",
    "    hold = []\n",
    "    test = []\n",
    "    for name in comb:\n",
    "        hold.append(clfs[name][0])\n",
    "        test.append(clfs[name][1])\n",
    "    print()\n",
    "    print(\"Comb = \", comb)\n",
    "    print(\"Score = \", comb_score)\n",
    "    \n",
    "    best_score = 0\n",
    "    best_clf = None\n",
    "    for name in names:\n",
    "        print(\"\\t\", name)\n",
    "        new_hold = np.hstack(hold + [clfs[name][0]])\n",
    "        new_test = np.hstack(test + [clfs[name][1]])\n",
    "        \n",
    "        meta.fit(new_hold, Y_hold)\n",
    "        score = roc_auc_score(Y_test, meta.predict_proba(new_test)[:, 1])\n",
    "        \n",
    "        print(\"\\t\\t ROC AUC = \", score)\n",
    "        if score > best_score:\n",
    "            best_score = score\n",
    "            best_clf = name\n",
    "        \n",
    "    print()\n",
    "    print(\"\\t The best is\", best_clf)\n",
    "    print()\n",
    "    if comb_score <= best_score:\n",
    "        comb.append(best_clf)\n",
    "        comb_score = best_score\n",
    "        # Удаляем выбранный классификатор\n",
    "        names.remove(best_clf)\n",
    "    else:\n",
    "        print(\"STOP\")\n",
    "        break"
   ]
  },
  {
   "cell_type": "markdown",
   "metadata": {},
   "source": [
    "Второй вариант - это использовать готовую реализацию в SKLearn"
   ]
  },
  {
   "cell_type": "code",
   "execution_count": 52,
   "metadata": {},
   "outputs": [],
   "source": [
    "from sklearn.ensemble import StackingClassifier"
   ]
  },
  {
   "cell_type": "code",
   "execution_count": 93,
   "metadata": {},
   "outputs": [],
   "source": [
    "# базовые модели\n",
    "estimators = [\n",
    "    ('rf', RandomForestClassifier(100)),\n",
    "    #('lr', LogisticRegression(C=49.37047853, penalty=\"l2\", solver=\"liblinear\")),\n",
    "    ('knn', KNeighborsClassifier(n_neighbors=11)),\n",
    "    ('nb', GaussianNB()),\n",
    "]\n",
    "\n",
    "# мета-классификатор\n",
    "\n",
    "clf = StackingClassifier(\n",
    "    estimators=estimators, final_estimator=LogisticRegression()\n",
    ")"
   ]
  },
  {
   "cell_type": "code",
   "execution_count": 94,
   "metadata": {},
   "outputs": [
    {
     "name": "stdout",
     "output_type": "stream",
     "text": [
      "ROC AUC = 0.9999410542448313\n"
     ]
    }
   ],
   "source": [
    "clf.fit(X_train, Y_train)\n",
    "pred = clf.predict_proba(X_test)\n",
    "print(\"ROC AUC =\", roc_auc_score(Y_test, pred[:, 1]))"
   ]
  },
  {
   "cell_type": "code",
   "execution_count": null,
   "metadata": {},
   "outputs": [],
   "source": []
  }
 ],
 "metadata": {
  "kernelspec": {
   "display_name": "Python 3",
   "language": "python",
   "name": "python3"
  },
  "language_info": {
   "codemirror_mode": {
    "name": "ipython",
    "version": 3
   },
   "file_extension": ".py",
   "mimetype": "text/x-python",
   "name": "python",
   "nbconvert_exporter": "python",
   "pygments_lexer": "ipython3",
   "version": "3.9.2"
  }
 },
 "nbformat": 4,
 "nbformat_minor": 4
}
