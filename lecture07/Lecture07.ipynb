{
 "cells": [
  {
   "cell_type": "markdown",
   "metadata": {
    "slideshow": {
     "slide_type": "slide"
    }
   },
   "source": [
    "## Ансамбли (продолжение)\n",
    "Пензин М.С.\n",
    "\n",
    "penzin.ml.tsu@gmail.com"
   ]
  },
  {
   "cell_type": "code",
   "execution_count": 11,
   "metadata": {
    "slideshow": {
     "slide_type": "slide"
    }
   },
   "outputs": [],
   "source": [
    "%matplotlib inline\n",
    "import numpy as np\n",
    "import pandas as pd\n",
    "import seaborn as sns\n",
    "from matplotlib import pyplot as plt\n",
    "import warnings\n",
    "warnings.filterwarnings('ignore')\n",
    "from pylab import rcParams\n",
    "rcParams['figure.figsize'] = 12, 9"
   ]
  },
  {
   "cell_type": "markdown",
   "metadata": {
    "slideshow": {
     "slide_type": "slide"
    }
   },
   "source": [
    "## Голосование\n",
    "\n",
    "* Простое голосование \n",
    "$$\n",
    "    R(f_1(\\vec{x}), \\dotsc, f_M(\\vec{x})) = \\frac{1}{M} \\sum_{m=1}^M f_m(\\vec{x})\n",
    "$$\n",
    "\n",
    "* Взвешенное голосование\n",
    "$$\n",
    "    R(f_1(\\vec{x}), \\dotsc, f_M(\\vec{x})) = \\sum_{m=1}^M \\omega_m f_m(\\vec{x})\n",
    "$$\n",
    "\n",
    "* Смесь\n",
    "$$\n",
    "    R(f_1(\\vec{x}), \\dotsc, f_M(\\vec{x})) = \\sum_{m=1}^M g_m(\\vec{x}) f_m(\\vec{x})\n",
    "$$"
   ]
  },
  {
   "cell_type": "markdown",
   "metadata": {
    "slideshow": {
     "slide_type": "subslide"
    }
   },
   "source": [
    "## Взвешенное голосование\n",
    "\n",
    "для регрессии\n",
    "\n",
    "$$\n",
    "R(f_1(\\vec{x}), \\dotsc, f_M(\\vec{x})) = \\sum_{m=1}^{M} \\omega_m f_m(\\vec{x})\n",
    "$$\n",
    "\n",
    "для бинарной классификации с классами $y = \\{-1, +1\\}$ \n",
    "\n",
    "$$\n",
    "R(f_1(\\vec{x}), \\dotsc, f_M(\\vec{x})) = \\mathrm{sign} \\left[ \\sum_{m=1}^{M} \\omega_m f_m(\\vec{x}) \\right]\n",
    "$$"
   ]
  },
  {
   "cell_type": "markdown",
   "metadata": {
    "slideshow": {
     "slide_type": "subslide"
    }
   },
   "source": [
    "Мы уже рассматривали вариант, когда у нас модели обучались заранее, а потом на основе уже обученных моделей мы искали коэффициенты взвешенного голосования.\n",
    "\n",
    "А что если мы не будет обучать модели заранее, а будем определять параметры нашей модели наравне с весами?\n",
    "\n",
    "$$\n",
    "R(f_1(\\vec{x}), \\dotsc, f_M(\\vec{x})) = \\mathrm{sign} \\left[ \\sum_{m=1}^{M} \\omega_m f_m(\\vec{x}) \\right]\n",
    "$$"
   ]
  },
  {
   "cell_type": "markdown",
   "metadata": {
    "slideshow": {
     "slide_type": "slide"
    }
   },
   "source": [
    "## Основная идея\n",
    "\n",
    "Будем рассматривать задачу бинарной классификации, где $y = \\{-1, +1\\}$.\n",
    "\n",
    "Для упрощения нахождение оптимальной комбинации моделей, мы будет искать их итеративно, добавляя модели по одной (жадный алгоритм)."
   ]
  },
  {
   "cell_type": "markdown",
   "metadata": {
    "slideshow": {
     "slide_type": "subslide"
    }
   },
   "source": [
    "$$\n",
    "R_m = \\sum_{i=1}^{m} \\alpha_i f_i(\\vec{x}) = R_{m-1} + \\alpha_m f_m(\\vec{x})\n",
    "$$\n",
    "\n",
    "Теперь нам нужно найти самые оптимальные $\\alpha_m$ и $f_m$ минимизируя функционал качества $Q_m$, который просто является количеством неправильных ответов. Для классификации - это сумма \"ступенек\".\n",
    "\n",
    "$$\n",
    "Q_m = \\sum_n \\left[  \\mathrm{sign} \\left(R_m(\\vec{x}_n)\\right) \\ne y_n \\right]\n",
    "$$"
   ]
  },
  {
   "cell_type": "markdown",
   "metadata": {
    "slideshow": {
     "slide_type": "subslide"
    }
   },
   "source": [
    "Для упрощения задачи, мы приближаем одну ступеньку непрерывно дифференцируемой оценкой сверху.\n",
    "\n",
    "Если взять в качестве оценки \n",
    "\n",
    "$$\n",
    "L(f, \\vec{x}, y) = \\exp(-y f(\\vec{x}))\n",
    "$$\n",
    "\n",
    "то просто получим **AdaBoost**"
   ]
  },
  {
   "cell_type": "code",
   "execution_count": 12,
   "metadata": {
    "slideshow": {
     "slide_type": "subslide"
    }
   },
   "outputs": [
    {
     "data": {
      "image/png": "[encoded data removed]",
      "text/plain": [
       "<Figure size 864x648 with 1 Axes>"
      ]
     },
     "metadata": {
      "needs_background": "light"
     },
     "output_type": "display_data"
    }
   ],
   "source": [
    "x = np.linspace(-1, 1, 1000)\n",
    "plt.plot(x, np.heaviside(x, 0.5), label=\"Q\"); plt.plot(x, np.exp(x), label=\"Ada\");plt.legend();"
   ]
  },
  {
   "cell_type": "markdown",
   "metadata": {
    "slideshow": {
     "slide_type": "slide"
    }
   },
   "source": [
    "## AdaBoost\n",
    "\n",
    "__[Adaptive Boosting](https://mbernste.github.io/files/notes/AdaBoost.pdf)__ - один из первых и простейших алгоритмов бустинга."
   ]
  },
  {
   "cell_type": "markdown",
   "metadata": {
    "slideshow": {
     "slide_type": "subslide"
    }
   },
   "source": [
    "* Пусть есть набор объектов $\\mathrm{X}$ размером $N$ и набор меток класса $\\mathrm{Y}$.\n",
    "* Инициализируем вектор весов наших объектов $\\omega_1(n) = \\frac{1}{N}, i = 1, \\dotsc, N$"
   ]
  },
  {
   "cell_type": "markdown",
   "metadata": {
    "slideshow": {
     "slide_type": "subslide"
    }
   },
   "source": [
    "Для каждого шага\n",
    "\n",
    "1. Находим классификатор, который минимизирует взвешенную ошибку классификации\n",
    "$$\n",
    "    \\varepsilon_m = \\sum_n \\omega_m(n) [y_n \\ne f_m(\\vec{x}_n)]\n",
    "$$\n",
    "\n",
    "2. Выбираем $\\alpha_m$\n",
    "$$\n",
    "    \\alpha_m = \\frac{1}{2} \\ln \\frac{1 - \\varepsilon_m}{\\varepsilon_m}\n",
    "$$\n",
    "\n",
    "3. Обновляем веса\n",
    "$$\n",
    "    \\omega_{m+1}(n) = \\frac{\\omega_m(n) \\exp(-\\alpha_m y_n f_m(\\vec{x}_n))}{\\Omega_m}\n",
    "$$\n",
    "\n",
    "где $\\Omega_m$ - это константа нормализация, такая что $\\sum\\omega(n) = 1$"
   ]
  },
  {
   "cell_type": "markdown",
   "metadata": {
    "slideshow": {
     "slide_type": "subslide"
    }
   },
   "source": [
    "Результирующий классификатор\n",
    "\n",
    "$$\n",
    "R(\\vec{x}) = \\mathrm{sign} \\sum_m \\alpha_m f_m(\\vec{x})\n",
    "$$"
   ]
  },
  {
   "cell_type": "markdown",
   "metadata": {
    "slideshow": {
     "slide_type": "slide"
    }
   },
   "source": [
    "Как же это работает?"
   ]
  },
  {
   "cell_type": "code",
   "execution_count": 13,
   "metadata": {},
   "outputs": [],
   "source": [
    "data = np.array([\n",
    "    (1, 9, 1), (1, 3, 1),    \n",
    "    (2, 5, 1), (2, 7, -1),    \n",
    "    (3, 4, 1), (3, 9, -1),    \n",
    "    (4, 2, 1), \n",
    "    (5, 5, 1), (5, 7, -1),\n",
    "    (6, 1, -1), (7, 3, -1),\n",
    "])\n",
    "\n",
    "X, Y = data[:, :2], data[:, 2]\n",
    "w = np.ones(X.shape[0]) / X.shape[0]"
   ]
  },
  {
   "cell_type": "code",
   "execution_count": 14,
   "metadata": {
    "slideshow": {
     "slide_type": "subslide"
    }
   },
   "outputs": [
    {
     "data": {
      "image/png": "[encoded data removed]",
      "text/plain": [
       "<Figure size 864x648 with 1 Axes>"
      ]
     },
     "metadata": {
      "needs_background": "light"
     },
     "output_type": "display_data"
    }
   ],
   "source": [
    "plt.scatter(X[:, 0], X[:, 1], s=w*500, c=Y, cmap=\"Wistia\", edgecolor=\"k\");"
   ]
  },
  {
   "cell_type": "code",
   "execution_count": 15,
   "metadata": {
    "slideshow": {
     "slide_type": "subslide"
    }
   },
   "outputs": [],
   "source": [
    "def plot(clf, X, Y, w):\n",
    "    x_min, x_max = X[:, 0].min(), X[:, 0].max()\n",
    "    dx = (x_max - x_min) * 0.1\n",
    "    y_min, y_max = X[:, 1].min(), X[:, 1].max()\n",
    "    dy = (y_max - y_min) * 0.1\n",
    "    \n",
    "    xx, yy = np.meshgrid(np.linspace(x_min - dx, x_max + dx, 100),\n",
    "                        np.linspace(y_min - dy, y_max + dy, 100))\n",
    "    \n",
    "    Z = clf.predict(np.stack([xx.ravel(), yy.ravel()], axis=1))\n",
    "    Z = Z.reshape(xx.shape)\n",
    "\n",
    "    plt.pcolormesh(xx, yy, Z, cmap=\"Wistia\")\n",
    "    plt.scatter(X[:, 0], X[:, 1], s=w*500, c=Y, \n",
    "                cmap=\"Wistia\", edgecolors='k')    \n",
    "    plt.show()"
   ]
  },
  {
   "cell_type": "code",
   "execution_count": 16,
   "metadata": {
    "slideshow": {
     "slide_type": "subslide"
    }
   },
   "outputs": [],
   "source": [
    "clfs = []\n",
    "alphas = []\n",
    "weights = [w, ]"
   ]
  },
  {
   "cell_type": "code",
   "execution_count": 17,
   "metadata": {
    "slideshow": {
     "slide_type": "subslide"
    }
   },
   "outputs": [],
   "source": [
    "class DecisionStump:\n",
    "    \"\"\"\n",
    "        Примитивная реализация решающего пенька\n",
    "    \"\"\" \n",
    "    def __init__(self):\n",
    "        self._feature_index = None\n",
    "        self._feature_value = None\n",
    "        self._target_true = None\n",
    "        self._target_false = None\n",
    "        \n",
    "    def fit(self, X, y, sample_weight):\n",
    "        \"\"\"\n",
    "            Просто честно проходим по всем доступным значениям\n",
    "        \"\"\"\n",
    "        \n",
    "        n_features = X.shape[1]\n",
    "        \n",
    "        min_err = None\n",
    "        \n",
    "        for idx_f in range(n_features):\n",
    "            # Отбираем все уникальные значения и ставим разделитель между ними\n",
    "            feature = X[:, idx_f]\n",
    "            uniq = np.sort(np.unique(feature))\n",
    "            values = []\n",
    "            for i in range(len(uniq) - 1):\n",
    "                values.append((uniq[i+1] + uniq[i]) * 0.5)\n",
    " \n",
    "            for v in values:\n",
    "                mask_true = feature < v\n",
    "                mask_false = feature > v\n",
    "                \n",
    "                y_true = 1 if y[mask_true].sum() >= 0 else -1\n",
    "                y_false = 1 if y[mask_false].sum() >= 0 else -1\n",
    "                \n",
    "                \n",
    "                err = 0\n",
    "                err += ((y[mask_true] != y_true) * sample_weight[mask_true]).sum() \n",
    "                err += ((y[mask_false] != y_false) * sample_weight[mask_false]).sum()\n",
    "                \n",
    "                if min_err is None or min_err > err:\n",
    "                    self._feature_value = v\n",
    "                    self._feature_index = idx_f\n",
    "                    self._target_true = y_true\n",
    "                    self._target_false = y_false\n",
    "                    \n",
    "                    min_err = err\n",
    "                    \n",
    "    def predict(self, X):\n",
    "        result = np.zeros(X.shape[0])\n",
    "        \n",
    "        feature = X[:, self._feature_index]\n",
    "\n",
    "        result[ feature <= self._feature_value ] = self._target_true\n",
    "        result[ feature > self._feature_value ] = self._target_false\n",
    "        \n",
    "        return result\n",
    "    "
   ]
  },
  {
   "cell_type": "code",
   "execution_count": 18,
   "metadata": {
    "slideshow": {
     "slide_type": "subslide"
    }
   },
   "outputs": [],
   "source": [
    "def ada_step(X, Y, w):\n",
    "    # будем делать через пеньки\n",
    "    clf = DecisionStump()\n",
    "    clf.fit(X, Y, sample_weight=w)\n",
    "\n",
    "    pred = clf.predict(X)\n",
    "    eps = (w * (pred != Y)).sum()\n",
    "    alpha = 0.5 * np.log( (1 - eps) / eps )\n",
    "    \n",
    "    w = w * np.exp(-alpha * Y * pred)\n",
    "    w = w / w.sum()\n",
    "    \n",
    "    return clf, alpha, w"
   ]
  },
  {
   "cell_type": "code",
   "execution_count": 19,
   "metadata": {
    "slideshow": {
     "slide_type": "subslide"
    }
   },
   "outputs": [],
   "source": [
    "# Делаем несколько итераций AdaBoost\n",
    "\n",
    "for _ in range(10):\n",
    "    clf, alpha, w = ada_step(X, Y, w)\n",
    "    clfs.append(clf); alphas.append(alpha); weights.append(w)"
   ]
  },
  {
   "cell_type": "code",
   "execution_count": 20,
   "metadata": {
    "slideshow": {
     "slide_type": "subslide"
    }
   },
   "outputs": [
    {
     "data": {
      "image/png": "[encoded data removed]",
      "text/plain": [
       "<Figure size 864x648 with 1 Axes>"
      ]
     },
     "metadata": {
      "needs_background": "light"
     },
     "output_type": "display_data"
    }
   ],
   "source": [
    "plot(clfs[0], X, Y, weights[0])"
   ]
  },
  {
   "cell_type": "code",
   "execution_count": 21,
   "metadata": {
    "slideshow": {
     "slide_type": "subslide"
    }
   },
   "outputs": [
    {
     "data": {
      "image/png": "[encoded data removed]",
      "text/plain": [
       "<Figure size 864x648 with 1 Axes>"
      ]
     },
     "metadata": {
      "needs_background": "light"
     },
     "output_type": "display_data"
    }
   ],
   "source": [
    "plot(clfs[1], X, Y, weights[1])"
   ]
  },
  {
   "cell_type": "code",
   "execution_count": 22,
   "metadata": {
    "slideshow": {
     "slide_type": "subslide"
    }
   },
   "outputs": [
    {
     "data": {
      "image/png": "[encoded data removed]",
      "text/plain": [
       "<Figure size 864x648 with 1 Axes>"
      ]
     },
     "metadata": {
      "needs_background": "light"
     },
     "output_type": "display_data"
    }
   ],
   "source": [
    "plot(clfs[2], X, Y, weights[2])"
   ]
  },
  {
   "cell_type": "code",
   "execution_count": 23,
   "metadata": {
    "slideshow": {
     "slide_type": "subslide"
    }
   },
   "outputs": [
    {
     "data": {
      "image/png": "[encoded data removed]",
      "text/plain": [
       "<Figure size 864x648 with 1 Axes>"
      ]
     },
     "metadata": {
      "needs_background": "light"
     },
     "output_type": "display_data"
    }
   ],
   "source": [
    "plot(clfs[3], X, Y, weights[3])"
   ]
  },
  {
   "cell_type": "code",
   "execution_count": 24,
   "metadata": {
    "slideshow": {
     "slide_type": "subslide"
    }
   },
   "outputs": [],
   "source": [
    "class AdaClassifier:\n",
    "    def __init__(self, alphas, clfs):\n",
    "        self.alphas = alphas\n",
    "        self.clfs = clfs\n",
    "\n",
    "    def predict(self, X):\n",
    "        vote = np.zeros(X.shape[0])\n",
    "        \n",
    "        for a, clf in zip(self.alphas, self.clfs):\n",
    "            vote += a * clf.predict(X)            \n",
    "        return np.sign(vote)"
   ]
  },
  {
   "cell_type": "code",
   "execution_count": 25,
   "metadata": {
    "slideshow": {
     "slide_type": "subslide"
    }
   },
   "outputs": [
    {
     "data": {
      "image/png": "[encoded data removed]",
      "text/plain": [
       "<Figure size 864x648 with 1 Axes>"
      ]
     },
     "metadata": {
      "needs_background": "light"
     },
     "output_type": "display_data"
    }
   ],
   "source": [
    "plot(AdaClassifier(alphas, clfs), X, Y, w[0])"
   ]
  },
  {
   "cell_type": "markdown",
   "metadata": {
    "slideshow": {
     "slide_type": "subslide"
    }
   },
   "source": [
    "## А что если?\n",
    "\n",
    "Не все методы поддерживают обучение со взвешенными данным, в этом случае, вектор весов $\\omega_m$ можно трактовать как вероятность достать данный объект при формировании бутстрап-выборки для обучения следующего классификатора."
   ]
  },
  {
   "cell_type": "markdown",
   "metadata": {
    "slideshow": {
     "slide_type": "slide"
    }
   },
   "source": [
    "## sklearn\n",
    "\n",
    "В библиотеке **sklearn** уже реализован данный алгоритм и он представлен двумя классам: __AdaBoostClassifier__ и **AdaBoostRegressor**. \n",
    "\n",
    "Их основными гиперпараметрами являются: класс слабой модели и количество моделей."
   ]
  },
  {
   "cell_type": "code",
   "execution_count": 28,
   "metadata": {
    "slideshow": {
     "slide_type": "subslide"
    }
   },
   "outputs": [
    {
     "data": {
      "image/png": "[encoded data removed]",
      "text/plain": [
       "<Figure size 864x648 with 1 Axes>"
      ]
     },
     "metadata": {
      "needs_background": "light"
     },
     "output_type": "display_data"
    }
   ],
   "source": [
    "from sklearn.ensemble import AdaBoostClassifier\n",
    "from sklearn.tree import DecisionTreeClassifier\n",
    "\n",
    "ada = AdaBoostClassifier(DecisionTreeClassifier(max_depth=1), 3)\n",
    "ada.fit(X, Y)\n",
    "plot(ada, X, Y, weights[0])"
   ]
  },
  {
   "cell_type": "markdown",
   "metadata": {
    "slideshow": {
     "slide_type": "slide"
    }
   },
   "source": [
    "## Плюсы AdaBoost\n",
    "\n",
    "* данный алгоритм очень прост для реализации\n",
    "* эффективен с точки зрения вычислительной сложности\n",
    "* позволяет решать достаточно сложные задачи с помощью слабых моделей\n",
    "* фактически только два параметра настройки: класс моделей и их количество\n",
    "* обеспечивает высокую точность прогнозирования\n",
    "* прост для модификации"
   ]
  },
  {
   "cell_type": "markdown",
   "metadata": {
    "slideshow": {
     "slide_type": "subslide"
    }
   },
   "source": [
    "## Минусы AdaBoost\n",
    "\n",
    "* использование сложных или сильных моделей приводит к переобучению\n",
    "* чувствительность к выбросам (им достаются самые высокие значения весов), что приводит к переобучению\n",
    "* практически не поддается интерпретации\n",
    "* желательно иметь достаточно большую выборку, иначе может привести к переобучению"
   ]
  },
  {
   "cell_type": "markdown",
   "metadata": {
    "slideshow": {
     "slide_type": "slide"
    }
   },
   "source": [
    "## Градиентный бустинг\n",
    "\n",
    "__[Gradient Boosting Machine (GBM)](https://www.ncbi.nlm.nih.gov/pmc/articles/PMC3885826/)__ - обобщенный и стандартизированный подход. "
   ]
  },
  {
   "cell_type": "markdown",
   "metadata": {
    "slideshow": {
     "slide_type": "subslide"
    }
   },
   "source": [
    "Пусть у нас есть набор объектов $\\mathbf{X}$ и набор целевых исходов $\\vec{y}$, для которых мы будем восстанавливать зависимость в виде $y = f(\\vec{x})$.\n",
    "\n",
    "Для того, чтобы понять какое из наших приближений $\\bar{f}$ лучше, мы будет его выбирать так, чтобы минимизировать функционал потерь\n",
    "\n",
    "$$\n",
    "\\bar{f} = \\arg\\min_{f} \\sum_n L(y_n, f(\\vec{x}_n))\n",
    "$$"
   ]
  },
  {
   "cell_type": "markdown",
   "metadata": {
    "slideshow": {
     "slide_type": "subslide"
    }
   },
   "source": [
    "Искать решение итогового классификатора будем в виде\n",
    "\n",
    "$$\n",
    "R(\\vec{x}) = \\sum_m \\alpha_m f_m(\\vec{x})\n",
    "$$\n",
    "\n",
    "при этом искать $(\\alpha_m, f_m)$ мы будем итеративно, по одному, каждый раз решая задачу\n",
    "\n",
    "$$\n",
    "(\\alpha_m, f_m) = \\arg\\min_{\\alpha, f} \\sum_n L(y_n, R_{m-1}(\\vec{x}_n) + \\alpha f(\\vec{x}_n))\n",
    "$$"
   ]
  },
  {
   "cell_type": "markdown",
   "metadata": {
    "slideshow": {
     "slide_type": "subslide"
    }
   },
   "source": [
    "$$\n",
    "(\\alpha_m, f_m) = \\arg\\min_{\\alpha, f} \\sum_n L(y_n, R_{m-1}(\\vec{x}_n) + \\alpha f(\\vec{x}_n))\n",
    "$$\n",
    "\n",
    "Самый простой вариант: мы можем выбрать конкретную функцию потерь и с ней работать."
   ]
  },
  {
   "cell_type": "markdown",
   "metadata": {
    "slideshow": {
     "slide_type": "subslide"
    }
   },
   "source": [
    "Если взять квадратичную ошибку (L2boosting)\n",
    "\n",
    "$$\n",
    "L = \\frac{1}{2} (y - f(\\vec{x}))^2\n",
    "$$\n",
    "\n",
    "$$\n",
    "(\\alpha_m, f_m) = \\arg\\min_{\\alpha, f} \\sum_n (y_n - R_{m-1}(\\vec{x}_n) - \\alpha f(\\vec{x}_n))^2\n",
    "$$"
   ]
  },
  {
   "cell_type": "markdown",
   "metadata": {
    "slideshow": {
     "slide_type": "subslide"
    }
   },
   "source": [
    "$$\n",
    "(\\alpha_m, f_m) = \\arg\\min_{\\alpha, f} \\sum_n (r_{nm} - \\alpha f(\\vec{x}_n))^2\\\\\n",
    "r_{nm} = y_n - R_{m-1}(\\vec{x}_n)\n",
    "$$"
   ]
  },
  {
   "cell_type": "markdown",
   "metadata": {
    "slideshow": {
     "slide_type": "-"
    }
   },
   "source": [
    "Стало намного легче искать, но что если нам теперь хочется сменить функцию потерь?"
   ]
  },
  {
   "cell_type": "markdown",
   "metadata": {
    "slideshow": {
     "slide_type": "subslide"
    }
   },
   "source": [
    "Попробуем теперь обобщить. Будем искать нашу модель, минимизируя \n",
    "\n",
    "$$\n",
    "\\bar{R} = \\arg\\min_R \\sum_n L(y_n, R(\\vec{x}_n))\n",
    "$$"
   ]
  },
  {
   "cell_type": "markdown",
   "metadata": {
    "slideshow": {
     "slide_type": "subslide"
    }
   },
   "source": [
    "Тут если очень присмотреться к записи \n",
    "\n",
    "$$\n",
    "R(\\vec{x}) = \\sum_m \\alpha_m f_m(\\vec{x})\n",
    "$$\n",
    "\n",
    "то можно заметить, что это что-то вроде перемещения от точки к точке в функциональном пространстве. Нечто похожее мы можем видеть, когда ищем минимум функционала с помощью обратного градиента."
   ]
  },
  {
   "cell_type": "markdown",
   "metadata": {
    "slideshow": {
     "slide_type": "subslide"
    }
   },
   "source": [
    "В обычном пространстве минимизировать мы уже умеем, но что нам мешает сделать тоже самое в функциональном?"
   ]
  },
  {
   "cell_type": "markdown",
   "metadata": {
    "slideshow": {
     "slide_type": "fragment"
    }
   },
   "source": [
    "$$\n",
    "g_{nm} = \\left[\n",
    "\\frac{\n",
    "    \\partial L(y_n, f(\\vec{x}_n))\n",
    "}{\n",
    "    \\partial f(\\vec{x}_n)\n",
    "}\n",
    "\\right]_{f = R_{m-1}}\n",
    "$$"
   ]
  },
  {
   "cell_type": "markdown",
   "metadata": {
    "slideshow": {
     "slide_type": "subslide"
    }
   },
   "source": [
    "Отсюда новый набор наших \"параметров\"\n",
    "\n",
    "$$\n",
    "g_{nm} = \\left[\n",
    "\\frac{\n",
    "    \\partial L(y_n, f(\\vec{x}_n))\n",
    "}{\n",
    "    \\partial f(\\vec{x}_n)\n",
    "}\n",
    "\\right]_{f = R_{m-1}}\n",
    "\\\\\n",
    "R_m(\\vec{x}_n) = R_{m-1}(\\vec{x}_n) - \\alpha_m g_{nm} \n",
    "\\\\\n",
    "\\alpha_m = \\arg\\min_\\alpha \\sum_n L(R_{m-1}(\\vec{x}_n) - \\alpha g_{nm})\n",
    "$$"
   ]
  },
  {
   "cell_type": "markdown",
   "metadata": {
    "slideshow": {
     "slide_type": "subslide"
    }
   },
   "source": [
    "И это нам не очень помогает, т.к. это оптимизирует какую-то абстрактную функцию $R$ зависящую от неизвестной нам функции $f$."
   ]
  },
  {
   "cell_type": "markdown",
   "metadata": {
    "slideshow": {
     "slide_type": "subslide"
    }
   },
   "source": [
    "Однако, мы можем потребовать, чтобы слабая модель апроксимировала антиградиент\n",
    "\n",
    "$$\n",
    "\\theta_m = \\arg\\min_\\theta \\sum_n (-g_{nm} - f_m(\\vec{x}_n, \\theta))^2\n",
    "$$\n",
    "\n",
    "при этом не обязательно использовать минимизацию квадратичной ошибки."
   ]
  },
  {
   "cell_type": "markdown",
   "metadata": {
    "slideshow": {
     "slide_type": "subslide"
    }
   },
   "source": [
    "Теперь мы готовы описать обобщенный  алгоритм"
   ]
  },
  {
   "cell_type": "markdown",
   "metadata": {
    "slideshow": {
     "slide_type": "-"
    }
   },
   "source": [
    "$$\n",
    "r_{nm} = -g_{nm} = - \\left.\\frac{\\partial L(y_n, f(\\vec{x}_n))}{\\partial f(\\vec{x}_n)}\\right|_{f = R_{m-1}}\n",
    "\\\\\n",
    "\\theta_m = \\arg\\min \\sum_n (r_{nm} - f_m(\\vec{x}_i, \\theta))^2\n",
    "\\\\\n",
    "\\alpha_m = \\arg\\min \\sum_n L(y_n, R_{m-1}(\\vec{x}_i) + \\alpha f_m(\\vec{x}_i, \\theta_m))\n",
    "$$"
   ]
  },
  {
   "cell_type": "markdown",
   "metadata": {
    "slideshow": {
     "slide_type": "subslide"
    }
   },
   "source": [
    "* Пусть есть набор объектов $\\mathbf{X}$ размером $N$ и набор меток класса $\\vec{y}$.\n",
    "* Первой моделью выбираем константный прогноз\n",
    "\n",
    "$$\n",
    "f_0(\\vec{x}) = \\arg\\min_{\\alpha_0} \\sum_n L(\\alpha_0, y_n)\n",
    "$$"
   ]
  },
  {
   "cell_type": "markdown",
   "metadata": {
    "slideshow": {
     "slide_type": "subslide"
    }
   },
   "source": [
    "Для каждого шага\n",
    "\n",
    "1. Вычисляем остатки предыдущей композиции $r_{nm}$\n",
    "2. Обучаем базовую модель $f_m(\\vec{x})$ на остатках $r_{nm}$\n",
    "3. Вычисляем $\\alpha_m$ как решение простой оптимизационной задачи\n",
    "4. Добавить новый классификатор в ансамбль $R_m = R_{m-1} + \\alpha_m f_m$"
   ]
  },
  {
   "cell_type": "markdown",
   "metadata": {
    "slideshow": {
     "slide_type": "subslide"
    }
   },
   "source": [
    "Итоговая модель\n",
    "$$\n",
    "R(\\vec{x}) = \\alpha_0 + \\sum_{m=1}^{M} \\alpha_m f_m(\\vec{x})\n",
    "$$"
   ]
  },
  {
   "cell_type": "markdown",
   "metadata": {
    "slideshow": {
     "slide_type": "slide"
    }
   },
   "source": [
    "## Регрессия\n",
    "\n",
    "* квадрат ошибки($L_2$ loss)\n",
    "$$ L(y, f) = \\frac{1}{2} (y - f)^2$$\n",
    "* абсолютная ошибка($L_1$ loss) \n",
    "$$L(y, f) = |y - f|$$"
   ]
  },
  {
   "cell_type": "markdown",
   "metadata": {
    "slideshow": {
     "slide_type": "subslide"
    }
   },
   "source": [
    "* Huber loss \n",
    "\n",
    "$$\n",
    "L(y, f) = \\left\\{\n",
    "\\begin{eqnarray}\n",
    "&\\frac{1}{2}(y - f)^2, &|y - f| \\le \\delta \n",
    "\\\\\n",
    "&\\delta\\left(|y-f| - \\frac{\\delta}{2}\\right), &|y - f| > \\delta\n",
    "\\end{eqnarray}\n",
    "\\right.\n",
    "$$\n",
    "\n",
    "* Quantile loss ($L_q$ loss)\n",
    "\n",
    "$$\n",
    "L(y, f) = \\left\\{\n",
    "\\begin{eqnarray}\n",
    "&(1-\\alpha)|y - f|, &y - f \\le 0\n",
    "\\\\\n",
    "&\\alpha |y-f|, &y - f > 0\n",
    "\\end{eqnarray}\n",
    "\\right.\n",
    "$$"
   ]
  },
  {
   "cell_type": "markdown",
   "metadata": {
    "slideshow": {
     "slide_type": "subslide"
    }
   },
   "source": [
    "<img style=\"width:100%\" src=\"tileshop.fcgi.jpg\"/>"
   ]
  },
  {
   "cell_type": "markdown",
   "metadata": {
    "slideshow": {
     "slide_type": "slide"
    }
   },
   "source": [
    "## Классификация\n",
    "\n",
    "* логистическая функция потерь\n",
    "\n",
    "$$\n",
    "L(y, f) = \\log(1 + \\exp(-2 y f)), y \\in \\{-1, 1\\}\n",
    "$$\n",
    "\n",
    "* экспоненциальная функция потерь (Adaboost)\n",
    "\n",
    "$$\n",
    "L(y, f) = \\exp(-y f), y \\in \\{-1, 1\\}\n",
    "$$"
   ]
  },
  {
   "cell_type": "markdown",
   "metadata": {
    "slideshow": {
     "slide_type": "subslide"
    }
   },
   "source": [
    "## Стохастический градиентный бустинг\n",
    "\n",
    "Можно расчитывать новые модели опираясь не на всю выборку, а на случайную подвыборку фиксированного размера."
   ]
  },
  {
   "cell_type": "markdown",
   "metadata": {
    "slideshow": {
     "slide_type": "subslide"
    }
   },
   "source": [
    "## Темп обучения\n",
    "\n",
    "Для обеспечения устойчивости решения, можно добавить множитель к $\\alpha_m$, называемый темпом обучения $\\gamma$(learning rate). При низком значении $\\gamma$ мета-модель обучается медленее, но результат обычно становится лучше. \n",
    "\n",
    "$$\n",
    "R_m(\\vec{x}) = R_{m-1} + \\gamma \\alpha_m f_m(\\vec{x})\n",
    "$$"
   ]
  },
  {
   "cell_type": "markdown",
   "metadata": {
    "slideshow": {
     "slide_type": "subslide"
    }
   },
   "source": [
    "## Регуляризация\n",
    "\n",
    "Помимо темпа обучения, нам ничего не мешает добавлять регуляризующие члены к нашей функции потерь\n",
    "\n",
    "$$\n",
    "L(y, f(\\vec{x})) + \\Omega(f)\n",
    "$$"
   ]
  },
  {
   "cell_type": "markdown",
   "metadata": {
    "slideshow": {
     "slide_type": "slide"
    }
   },
   "source": [
    "## Пример\n",
    "\n",
    "Давайте попробуем посмотреть, как же это работает."
   ]
  },
  {
   "cell_type": "code",
   "execution_count": 37,
   "metadata": {},
   "outputs": [],
   "source": [
    "f = lambda x: np.cos(x)\n",
    "x = np.random.uniform(-5, 5, 300)\n",
    "x.sort()\n",
    "y = f(x) + np.random.normal(0, 0.1, x.shape)"
   ]
  },
  {
   "cell_type": "code",
   "execution_count": 38,
   "metadata": {
    "slideshow": {
     "slide_type": "subslide"
    }
   },
   "outputs": [
    {
     "data": {
      "image/png": "[encoded data removed]",
      "text/plain": [
       "<Figure size 864x648 with 1 Axes>"
      ]
     },
     "metadata": {
      "needs_background": "light"
     },
     "output_type": "display_data"
    }
   ],
   "source": [
    "plt.plot(x, y, '.');\n",
    "plt.plot(x, f(x), '-', lw=3)\n",
    "plt.grid()"
   ]
  },
  {
   "cell_type": "markdown",
   "metadata": {
    "slideshow": {
     "slide_type": "subslide"
    }
   },
   "source": [
    "Т.к. у нас задача регрессии, то мы выберем в качестве функции потерь\n",
    "\n",
    "$$\n",
    "L(y, f) = \\frac{1}{2}(y - f)^2\n",
    "\\\\\n",
    "\\nabla L = - (y - f)\n",
    "$$"
   ]
  },
  {
   "cell_type": "markdown",
   "metadata": {
    "slideshow": {
     "slide_type": "subslide"
    }
   },
   "source": [
    "В качестве базовой модели, возьмем деревья с глубиной 2."
   ]
  },
  {
   "cell_type": "markdown",
   "metadata": {
    "slideshow": {
     "slide_type": "subslide"
    }
   },
   "source": [
    "Нулевое приближение\n",
    "\n",
    "$$\n",
    "\\alpha_0 = \\arg\\min_\\alpha \\sum_n L(y_n , \\alpha) = \\arg\\min_\\alpha \\sum_n (y_n - \\alpha)^2\n",
    "$$\n",
    "\n",
    "$$\n",
    "\\alpha_0 = \\frac{1}{N} \\sum_n y_n \n",
    "$$"
   ]
  },
  {
   "cell_type": "markdown",
   "metadata": {
    "slideshow": {
     "slide_type": "subslide"
    }
   },
   "source": [
    "Псевдоостатки\n",
    "\n",
    "$$\n",
    "r_{nm} = - (y_n - R_{m-1}(\\vec{x}_n))\n",
    "$$"
   ]
  },
  {
   "cell_type": "markdown",
   "metadata": {
    "slideshow": {
     "slide_type": "subslide"
    }
   },
   "source": [
    "Поиск $\\alpha_m$\n",
    "\n",
    "$$\n",
    "\\alpha_m = \\arg\\min_{\\alpha} \\frac{1}{2}\\sum_{n=1}^{N} (y_n - R_{m-1}(\\vec{x_i}) - \\alpha f_m(\\vec{x}_n))^2\n",
    "$$"
   ]
  },
  {
   "cell_type": "markdown",
   "metadata": {},
   "source": [
    "$$\n",
    "\\alpha_m = \\frac{\\sum_n f_m(\\vec{x}_n) (y_n - R_{m-1}(\\vec{x}_n))}{\\sum_n f_m^2(\\vec{x}_n)}\n",
    "$$"
   ]
  },
  {
   "cell_type": "code",
   "execution_count": 40,
   "metadata": {
    "slideshow": {
     "slide_type": "subslide"
    }
   },
   "outputs": [],
   "source": [
    "clfs = []\n",
    "alphas = []\n",
    "errors = []\n",
    "alpha0 = y.mean()"
   ]
  },
  {
   "cell_type": "code",
   "execution_count": 41,
   "metadata": {
    "slideshow": {
     "slide_type": "subslide"
    }
   },
   "outputs": [],
   "source": [
    "def boost(X, alpha0, alphas, clfs):\n",
    "    result = np.zeros(X.shape[0])\n",
    "    result[:] = alpha0\n",
    "    for a, clf in zip(alphas, clfs):\n",
    "        result += a*clf.predict(X.reshape((-1, 1)))\n",
    "    return result"
   ]
  },
  {
   "cell_type": "code",
   "execution_count": 42,
   "metadata": {
    "slideshow": {
     "slide_type": "slide"
    }
   },
   "outputs": [],
   "source": [
    "def L(Y, Ypred):\n",
    "    return 0.5 * (Y - Ypred)**2\n",
    "\n",
    "def dL(Y, Ypred):\n",
    "    return -(Y - Ypred)"
   ]
  },
  {
   "cell_type": "code",
   "execution_count": 43,
   "metadata": {
    "slideshow": {
     "slide_type": "subslide"
    }
   },
   "outputs": [],
   "source": [
    "from sklearn.tree import DecisionTreeRegressor\n",
    "\n",
    "def boost_step(x, y, alpha0, alphas, clfs, plot=False):\n",
    "    # Наша оценка на имеющихся моделях\n",
    "    yc = boost(x, alpha0, alphas, clfs)\n",
    "    # Псевдоостатки\n",
    "    r = - dL(y, yc)\n",
    "    # Обучаем модель и делаем предсказание\n",
    "    clf = DecisionTreeRegressor(max_depth=2).fit(x.reshape((-1, 1)), r)\n",
    "    pred = clf.predict(x.reshape((-1, 1)))\n",
    "    # Находим альфу\n",
    "    top = ( (y - yc) * pred ).sum()\n",
    "    bottom = (pred * pred).sum()\n",
    "    alpha = top / bottom\n",
    "    \n",
    "    alphas.append(alpha)\n",
    "    clfs.append(clf)\n",
    "    \n",
    "    if plot:\n",
    "        plt.figure(figsize=(12, 6))\n",
    "        plt.title(\"Step #%d\" % len(alphas))\n",
    "        plt.subplot(121)\n",
    "        plt.grid()\n",
    "        plt.title(\"Step #%d, MSE = %.4f\" % (len(alphas), L(y, yc).mean()))\n",
    "        plt.plot(x, y, '.')\n",
    "        plt.plot(x, yc, '-', lw=\"3\")\n",
    "        \n",
    "        plt.subplot(122)\n",
    "        plt.title(\"Residuals\")\n",
    "        plt.plot(x, r, '.')\n",
    "        plt.plot(x, pred, '-')\n",
    "        plt.grid()\n",
    "        plt.show()"
   ]
  },
  {
   "cell_type": "code",
   "execution_count": 63,
   "metadata": {
    "slideshow": {
     "slide_type": "subslide"
    }
   },
   "outputs": [
    {
     "data": {
      "image/png": "[encoded data removed]",
      "text/plain": [
       "<Figure size 864x432 with 2 Axes>"
      ]
     },
     "metadata": {
      "needs_background": "light"
     },
     "output_type": "display_data"
    }
   ],
   "source": [
    "boost_step(x, y, alpha0, alphas, clfs, True)"
   ]
  },
  {
   "cell_type": "code",
   "execution_count": 36,
   "metadata": {
    "slideshow": {
     "slide_type": "subslide"
    }
   },
   "outputs": [],
   "source": [
    "f = lambda x: np.cos(x)\n",
    "x = np.random.uniform(-5, 5, 300)\n",
    "x.sort()\n",
    "y = f(x) + np.random.normal(0, 0.2, x.shape)\n",
    "\n",
    "x_test = np.random.uniform(-5, 5, 1000)\n",
    "x_test.sort()\n",
    "y_test = f(x_test) + np.random.normal(0, 0.2, x_test.shape[0])\n",
    "\n",
    "clfs = []\n",
    "alphas = []\n",
    "errors = []\n",
    "alpha0 = y.mean()"
   ]
  },
  {
   "cell_type": "code",
   "execution_count": 143,
   "metadata": {
    "slideshow": {
     "slide_type": "subslide"
    }
   },
   "outputs": [],
   "source": [
    "errors = []\n",
    "errors_test = []\n",
    "for _ in range(500):\n",
    "    yp = boost(x, alpha0, alphas, clfs)\n",
    "    errors.append(L(y, yp).mean())\n",
    "    \n",
    "    yp = boost(x_test, alpha0, alphas, clfs)\n",
    "    errors_test.append(L(y_test, yp).mean())\n",
    "        \n",
    "    boost_step(x, y, alpha0, alphas, clfs, False)"
   ]
  },
  {
   "cell_type": "code",
   "execution_count": 144,
   "metadata": {
    "slideshow": {
     "slide_type": "subslide"
    }
   },
   "outputs": [
    {
     "data": {
      "image/png": "[encoded data removed]",
      "text/plain": [
       "<Figure size 864x648 with 1 Axes>"
      ]
     },
     "metadata": {
      "needs_background": "light"
     },
     "output_type": "display_data"
    }
   ],
   "source": [
    "plt.plot(errors, '-', label='Train')\n",
    "plt.plot(errors_test, '-', label='Test')\n",
    "plt.legend()\n",
    "plt.grid()\n",
    "plt.show()"
   ]
  },
  {
   "cell_type": "markdown",
   "metadata": {
    "slideshow": {
     "slide_type": "subslide"
    }
   },
   "source": [
    "## sklearn\n",
    "\n",
    "В библиотеке **sklearn** данный алгоритм реализован с помощью деревьев решений в двух классах __GradientBoostingClassifier__ и __GradientBoostingRegressor__ с довольно большим количеством гиперпараметров."
   ]
  },
  {
   "cell_type": "code",
   "execution_count": 145,
   "metadata": {
    "slideshow": {
     "slide_type": "subslide"
    }
   },
   "outputs": [],
   "source": [
    "from sklearn.ensemble import GradientBoostingClassifier\n",
    "from sklearn.datasets import load_digits\n",
    "\n",
    "X, Y = load_digits(return_X_y=True)\n",
    "gbm = GradientBoostingClassifier(\n",
    "    loss='deviance', \n",
    "    learning_rate=0.1,\n",
    "    n_estimators=200)"
   ]
  },
  {
   "cell_type": "code",
   "execution_count": 146,
   "metadata": {
    "slideshow": {
     "slide_type": "subslide"
    }
   },
   "outputs": [
    {
     "data": {
      "image/png": "[encoded data removed]",
      "text/plain": [
       "<Figure size 864x648 with 1 Axes>"
      ]
     },
     "metadata": {
      "needs_background": "light"
     },
     "output_type": "display_data"
    }
   ],
   "source": [
    "plt.imshow(X[1].reshape((8, 8)));"
   ]
  },
  {
   "cell_type": "code",
   "execution_count": 147,
   "metadata": {
    "slideshow": {
     "slide_type": "subslide"
    }
   },
   "outputs": [],
   "source": [
    "from sklearn.model_selection import train_test_split\n",
    "\n",
    "X_train, X_test, Y_train, Y_test = train_test_split(\n",
    "    X, Y, test_size=0.3, random_state=42)"
   ]
  },
  {
   "cell_type": "code",
   "execution_count": 148,
   "metadata": {},
   "outputs": [
    {
     "data": {
      "text/plain": [
       "0.9685185185185186"
      ]
     },
     "execution_count": 148,
     "metadata": {},
     "output_type": "execute_result"
    }
   ],
   "source": [
    "from sklearn.metrics import accuracy_score\n",
    " \n",
    "gbm.fit(X_train, Y_train)\n",
    "predict = gbm.predict(X_test)\n",
    "accuracy_score(Y_test, predict)"
   ]
  },
  {
   "cell_type": "markdown",
   "metadata": {
    "slideshow": {
     "slide_type": "slide"
    }
   },
   "source": [
    "## Плюсы GBM\n",
    "\n",
    "* один из наиболее мощных алгоритмов распознования\n",
    "* если использовать в качестве базовой модели решающее дерево, то не очень чувствителен к масштабу данных\n",
    "* множество способов улучшить алгоритм\n",
    "* общий подход к решению задачи\n",
    "* подходит по регрессию, классификацию и ранжирование\n",
    "* можно использовать произвольную функцию потерь (зависит от поставленной задачи)\n",
    "* есть очень хорошие готовые решения"
   ]
  },
  {
   "cell_type": "markdown",
   "metadata": {
    "slideshow": {
     "slide_type": "subslide"
    }
   },
   "source": [
    "## Минусы\n",
    "\n",
    "* довольно трудоемкий алгоритм, если использовать много базовых моделей\n",
    "* в \"чистой\" реализации очень склонен к переобучению\n",
    "* не подходит для использования со сложными или сильными моделями\n",
    "* иногда довольно сложная настройка\n",
    "* неинтерпретируем"
   ]
  },
  {
   "cell_type": "markdown",
   "metadata": {
    "slideshow": {
     "slide_type": "slide"
    }
   },
   "source": [
    "## Готовые решения\n",
    "\n",
    "Одной из самых простых и быстрых моделей является - дерево решений. На основе деревьев реализованы очень мощные библиотеки:\n",
    "* __[XGBoost](https://xgboost.ai/)__\n",
    "* __[LightGBM](https://github.com/Microsoft/LightGBM)__\n",
    "* __[CatBoost](https://catboost.ai/)__\n",
    "\n",
    "Отдельно стоит отметить __[H2O](https://www.h2o.ai/)__"
   ]
  },
  {
   "cell_type": "code",
   "execution_count": 56,
   "metadata": {
    "slideshow": {
     "slide_type": "subslide"
    }
   },
   "outputs": [
    {
     "data": {
      "text/plain": [
       "0.9777777777777777"
      ]
     },
     "execution_count": 56,
     "metadata": {},
     "output_type": "execute_result"
    }
   ],
   "source": [
    "import xgboost as xgb\n",
    "\n",
    "clf = xgb.XGBClassifier(max_depth=3, learning_rate=0.2, n_estimators=1000)\n",
    "\n",
    "clf.fit(X_train, Y_train)\n",
    "predict = clf.predict(X_test)\n",
    "accuracy_score(Y_test, predict)"
   ]
  },
  {
   "cell_type": "code",
   "execution_count": 57,
   "metadata": {
    "slideshow": {
     "slide_type": "subslide"
    }
   },
   "outputs": [
    {
     "data": {
      "text/plain": [
       "0.9777777777777777"
      ]
     },
     "execution_count": 57,
     "metadata": {},
     "output_type": "execute_result"
    }
   ],
   "source": [
    "import lightgbm as lgbm\n",
    "\n",
    "clf = lgbm.LGBMClassifier(max_depth=3, learning_rate=0.2, n_estimators=1000)\n",
    "\n",
    "clf.fit(X_train, Y_train)\n",
    "predict = clf.predict(X_test)\n",
    "accuracy_score(Y_test, predict)"
   ]
  },
  {
   "cell_type": "code",
   "execution_count": 58,
   "metadata": {
    "slideshow": {
     "slide_type": "slide"
    }
   },
   "outputs": [
    {
     "data": {
      "text/plain": [
       "0.9814814814814815"
      ]
     },
     "execution_count": 58,
     "metadata": {},
     "output_type": "execute_result"
    }
   ],
   "source": [
    "import catboost as cbgm\n",
    "\n",
    "clf = cbgm.CatBoostClassifier(max_depth=3, n_estimators=1000,   verbose=False)\n",
    "\n",
    "clf.fit(X_train, Y_train)\n",
    "predict = clf.predict(X_test)\n",
    "accuracy_score(Y_test, predict)"
   ]
  },
  {
   "cell_type": "code",
   "execution_count": 51,
   "metadata": {
    "slideshow": {
     "slide_type": "subslide"
    }
   },
   "outputs": [
    {
     "data": {
      "text/plain": [
       "0.9888888888888889"
      ]
     },
     "execution_count": 51,
     "metadata": {},
     "output_type": "execute_result"
    }
   ],
   "source": [
    "from sklearn.neighbors import KNeighborsClassifier\n",
    "\n",
    "clf = KNeighborsClassifier(n_neighbors=3)\n",
    "\n",
    "clf.fit(X_train, Y_train)\n",
    "predict = clf.predict(X_test)\n",
    "accuracy_score(Y_test, predict)"
   ]
  }
 ],
 "metadata": {
  "celltoolbar": "Slideshow",
  "kernelspec": {
   "display_name": "Python 3",
   "language": "python",
   "name": "python3"
  },
  "language_info": {
   "codemirror_mode": {
    "name": "ipython",
    "version": 3
   },
   "file_extension": ".py",
   "mimetype": "text/x-python",
   "name": "python",
   "nbconvert_exporter": "python",
   "pygments_lexer": "ipython3",
   "version": "3.9.2"
  }
 },
 "nbformat": 4,
 "nbformat_minor": 4
}
