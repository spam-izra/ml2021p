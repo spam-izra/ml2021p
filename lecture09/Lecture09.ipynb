{
 "cells": [
  {
   "cell_type": "markdown",
   "metadata": {
    "slideshow": {
     "slide_type": "slide"
    }
   },
   "source": [
    "# Признаки\n",
    "\n",
    "Пензин М.С.\n",
    "\n",
    "penzin.ml.tsu@gmail.com"
   ]
  },
  {
   "cell_type": "code",
   "execution_count": 2,
   "metadata": {
    "slideshow": {
     "slide_type": "subslide"
    }
   },
   "outputs": [],
   "source": [
    "%matplotlib inline\n",
    "import numpy as np\n",
    "import pandas as pd\n",
    "import statsmodels.api as sm\n",
    "from matplotlib import pyplot as plt\n",
    "import warnings\n",
    "warnings.filterwarnings('ignore')\n",
    "from pylab import rcParams\n",
    "rcParams['figure.figsize'] = 12, 9"
   ]
  },
  {
   "cell_type": "markdown",
   "metadata": {
    "slideshow": {
     "slide_type": "slide"
    }
   },
   "source": [
    "## Извлечение признаков\n",
    "\n",
    "**Feature Extraction** - на практике, редко данные уже подготовлены в удобном виде, так что обычно первым этапом становится извлечение признаков."
   ]
  },
  {
   "cell_type": "markdown",
   "metadata": {
    "slideshow": {
     "slide_type": "slide"
    }
   },
   "source": [
    "## Текст\n",
    "\n",
    "Одним из часто используемых источников данных является текст."
   ]
  },
  {
   "cell_type": "markdown",
   "metadata": {
    "slideshow": {
     "slide_type": "-"
    }
   },
   "source": [
    "Первым этапом при обработке текста является его токенизация (разбиение на отдельным токены)."
   ]
  },
  {
   "cell_type": "markdown",
   "metadata": {
    "slideshow": {
     "slide_type": "subslide"
    }
   },
   "source": [
    "Следующим этапом нередко выступает стемминг (stemming) или лемматизация (lemmatization), то есть приведение к нормальной форме.\n",
    "\n",
    "Stemming - отсечение от слова ненужных честей (окончаний, суффиксов), приводя его к основе (например *кошка* превращается в _кош_)\n",
    "\n",
    "Lemmatizaion - приведение слова к его нормальной(словарной) форме (например, существительное в именительном падеже и единственном числе)."
   ]
  },
  {
   "cell_type": "markdown",
   "metadata": {
    "slideshow": {
     "slide_type": "subslide"
    }
   },
   "source": [
    "Реализации:\n",
    "\n",
    "* __[MyStem](https://tech.yandex.ru/mystem/)__\n",
    "* __[TreeTagger](http://www.cis.uni-muenchen.de/~schmid/tools/TreeTagger/)__\n",
    "* и т.д."
   ]
  },
  {
   "cell_type": "markdown",
   "metadata": {
    "slideshow": {
     "slide_type": "slide"
    }
   },
   "source": [
    "## Bag of Words\n",
    "\n",
    "Текст представляется в виде словаря, состоящего из слова и количества вхождения этих слов в документ.\n",
    "\n",
    "Далее, мы может завезти вектор длиною в словарь всех слов, при этом на соответствующую позицию в этом векторе ставится число вхождений слова в документ."
   ]
  },
  {
   "cell_type": "code",
   "execution_count": 5,
   "metadata": {
    "slideshow": {
     "slide_type": "subslide"
    }
   },
   "outputs": [],
   "source": [
    "from collections import defaultdict\n",
    "\n",
    "def BoW(text):    \n",
    "    result = defaultdict(int)\n",
    "    tokens = text.replace(\".\", \"\").replace(\",\", \"\").split()\n",
    "    for token in tokens:\n",
    "        result[token] += 1\n",
    "    return result\n",
    "\n",
    "\n",
    "def vectorization(bow, dictionary):\n",
    "    return [bow[token] for token in dictionary]    "
   ]
  },
  {
   "cell_type": "code",
   "execution_count": 6,
   "metadata": {
    "slideshow": {
     "slide_type": "subslide"
    }
   },
   "outputs": [
    {
     "data": {
      "text/plain": [
       "defaultdict(int,\n",
       "            {'John': 1,\n",
       "             'likes': 2,\n",
       "             'to': 1,\n",
       "             'watch': 1,\n",
       "             'movies': 2,\n",
       "             'Mary': 1,\n",
       "             'too': 1})"
      ]
     },
     "execution_count": 6,
     "metadata": {},
     "output_type": "execute_result"
    }
   ],
   "source": [
    "text1 = \"John likes to watch movies. Mary likes movies too.\"\n",
    "text2 = \"John also likes to watch football games.\"\n",
    "\n",
    "bow1 = BoW(text1)\n",
    "bow2 = BoW(text2)\n",
    "bow1"
   ]
  },
  {
   "cell_type": "code",
   "execution_count": 7,
   "metadata": {
    "slideshow": {
     "slide_type": "subslide"
    }
   },
   "outputs": [
    {
     "data": {
      "text/plain": [
       "['John',\n",
       " 'Mary',\n",
       " 'also',\n",
       " 'football',\n",
       " 'games',\n",
       " 'likes',\n",
       " 'movies',\n",
       " 'to',\n",
       " 'too',\n",
       " 'watch']"
      ]
     },
     "execution_count": 7,
     "metadata": {},
     "output_type": "execute_result"
    }
   ],
   "source": [
    "dictionary = set(list(bow1.keys()) + list(bow2.keys()))\n",
    "dictionary = list(dictionary)\n",
    "dictionary.sort()\n",
    "dictionary"
   ]
  },
  {
   "cell_type": "code",
   "execution_count": 8,
   "metadata": {
    "slideshow": {
     "slide_type": "subslide"
    }
   },
   "outputs": [
    {
     "name": "stdout",
     "output_type": "stream",
     "text": [
      "[1, 1, 0, 0, 0, 2, 2, 1, 1, 1]\n",
      "[1, 0, 1, 1, 1, 1, 0, 1, 0, 1]\n"
     ]
    }
   ],
   "source": [
    "print(vectorization(bow1, dictionary))\n",
    "print(vectorization(bow2, dictionary))"
   ]
  },
  {
   "cell_type": "code",
   "execution_count": 10,
   "metadata": {
    "slideshow": {
     "slide_type": "subslide"
    }
   },
   "outputs": [
    {
     "data": {
      "text/plain": [
       "array([[0, 0, 0, 1, 2, 1, 2, 1, 1, 1],\n",
       "       [1, 1, 1, 1, 1, 0, 0, 1, 0, 1]])"
      ]
     },
     "execution_count": 10,
     "metadata": {},
     "output_type": "execute_result"
    }
   ],
   "source": [
    "# или тоже самое, но с помощью sklearn\n",
    "\n",
    "from sklearn.feature_extraction.text import CountVectorizer\n",
    "\n",
    "vectorizer = CountVectorizer()\n",
    "vectorizer.fit_transform([text1, text2]).toarray()"
   ]
  },
  {
   "cell_type": "markdown",
   "metadata": {
    "slideshow": {
     "slide_type": "subslide"
    }
   },
   "source": [
    "Таким образом, у нас есть способ описать текст, но при этом мы полностью теряем порядок слова. Также, некоторые токены могут встречатся довольно часто, но при этом не нести существенной пользы, т.н. стоп-слова."
   ]
  },
  {
   "cell_type": "markdown",
   "metadata": {
    "slideshow": {
     "slide_type": "subslide"
    }
   },
   "source": [
    "## TF-IDF\n",
    "\n",
    "Можно использовать оценку важности слова в контексте документа, являющегося частью коллекции документов - __[TF-IDF](https://ru.wikipedia.org/wiki/TF-IDF)__."
   ]
  },
  {
   "cell_type": "markdown",
   "metadata": {
    "slideshow": {
     "slide_type": "subslide"
    }
   },
   "source": [
    "Данная метрика состоит из TF (какую часть документа состовляет конкретное слово)\n",
    "\n",
    "$$\n",
    "TF(w,d) = \\frac{ n_w }{ \\sum_k n_k }\n",
    "$$"
   ]
  },
  {
   "cell_type": "markdown",
   "metadata": {
    "slideshow": {
     "slide_type": "subslide"
    }
   },
   "source": [
    "И IDF (обратная частота встречи слова на всех документах)\n",
    "\n",
    "$$\n",
    "IDF(w, D) = \\log \\frac{\\text{кол-во документов}\n",
    "}{\n",
    "\\text{кол-во документов со словом w}\n",
    "}\n",
    "$$"
   ]
  },
  {
   "cell_type": "markdown",
   "metadata": {
    "slideshow": {
     "slide_type": "subslide"
    }
   },
   "source": [
    "Итого\n",
    "\n",
    "$$\n",
    "TF-IDF(w, d, D) = TF(w,d) \\cdot IDF(w,D)\n",
    "$$"
   ]
  },
  {
   "cell_type": "code",
   "execution_count": 43,
   "metadata": {
    "slideshow": {
     "slide_type": "subslide"
    }
   },
   "outputs": [
    {
     "name": "stdout",
     "output_type": "stream",
     "text": [
      "['and', 'document', 'first', 'is', 'one', 'second', 'the', 'third', 'this']\n",
      "[[0.         0.46979139 0.58028582 0.38408524 0.         0.\n",
      "  0.38408524 0.         0.38408524]\n",
      " [0.         0.6876236  0.         0.28108867 0.         0.53864762\n",
      "  0.28108867 0.         0.28108867]\n",
      " [0.51184851 0.         0.         0.26710379 0.51184851 0.\n",
      "  0.26710379 0.51184851 0.26710379]\n",
      " [0.         0.46979139 0.58028582 0.38408524 0.         0.\n",
      "  0.38408524 0.         0.38408524]]\n"
     ]
    }
   ],
   "source": [
    "from sklearn.feature_extraction.text import TfidfVectorizer\n",
    "corpus = [\n",
    "    'This is the first document.',\n",
    "    'This document is the second document.',\n",
    "    'And this is the third one.',\n",
    "    'Is this the first document?',\n",
    "]\n",
    "vectorizer = TfidfVectorizer()\n",
    "X = vectorizer.fit_transform(corpus)\n",
    "print(vectorizer.get_feature_names())\n",
    "print(X.toarray())"
   ]
  },
  {
   "cell_type": "markdown",
   "metadata": {
    "slideshow": {
     "slide_type": "subslide"
    }
   },
   "source": [
    "## N-граммы\n",
    "\n",
    "Чтобы учитывать порядок, можно использовать **N-граммы** (комбинации из N последовательных токенов)."
   ]
  },
  {
   "cell_type": "code",
   "execution_count": 54,
   "metadata": {
    "slideshow": {
     "slide_type": "subslide"
    }
   },
   "outputs": [
    {
     "name": "stdout",
     "output_type": "stream",
     "text": [
      "['and this', 'document is', 'first document', 'is the', 'is this', 'second document', 'the first', 'the second', 'the third', 'third one', 'this document', 'this is', 'this the']\n",
      "[[0 0 1 1 0 0 1 0 0 0 0 1 0]\n",
      " [0 1 0 1 0 1 0 1 0 0 1 0 0]\n",
      " [1 0 0 1 0 0 0 0 1 1 0 1 0]\n",
      " [0 0 1 0 1 0 1 0 0 0 0 0 1]]\n"
     ]
    }
   ],
   "source": [
    "from sklearn.feature_extraction.text import CountVectorizer\n",
    "corpus = [\n",
    "    'This is the first document.',\n",
    "    'This document is the second document.',\n",
    "    'And this is the third one.',\n",
    "    'Is this the first document?',\n",
    "]\n",
    "vectorizer = CountVectorizer(ngram_range=(2, 2))\n",
    "X = vectorizer.fit_transform(corpus)\n",
    "print(vectorizer.get_feature_names())\n",
    "print(X.toarray())"
   ]
  },
  {
   "cell_type": "markdown",
   "metadata": {
    "slideshow": {
     "slide_type": "subslide"
    }
   },
   "source": [
    "## Hashing trick\n",
    "\n",
    "Вместо построения довольно большого словаря, можно во время векторизации использовать хэш функцию для отображения токенов на вектор фиксированной длины.\n",
    "\n",
    "Из минусы: возможны коллизии и нельзя произвести обратное преобразование."
   ]
  },
  {
   "cell_type": "code",
   "execution_count": 38,
   "metadata": {
    "slideshow": {
     "slide_type": "subslide"
    }
   },
   "outputs": [
    {
     "name": "stdout",
     "output_type": "stream",
     "text": [
      "[[-0.89442719  0.4472136   0.          0.        ]\n",
      " [-0.81649658  0.40824829  0.          0.40824829]\n",
      " [-0.70710678  0.70710678  0.          0.        ]\n",
      " [-0.89442719  0.4472136   0.          0.        ]]\n"
     ]
    }
   ],
   "source": [
    "from sklearn.feature_extraction.text import HashingVectorizer\n",
    "corpus = [\n",
    "    'This is the first document.',\n",
    "    'This document is the second document.',\n",
    "    'And this is the third one.',\n",
    "    'Is this the first document?',\n",
    "]\n",
    "vectorizer = HashingVectorizer(n_features=4)\n",
    "X = vectorizer.fit_transform(corpus)\n",
    "print(X.toarray())"
   ]
  },
  {
   "cell_type": "markdown",
   "metadata": {
    "slideshow": {
     "slide_type": "subslide"
    }
   },
   "source": [
    "и множество вариаций Bag-of-Words"
   ]
  },
  {
   "cell_type": "markdown",
   "metadata": {
    "slideshow": {
     "slide_type": "subslide"
    }
   },
   "source": [
    "## Word embedding\n",
    "\n",
    "В целом это похоже на Hashing Trick, так как позволяет отобразить слово или фразу в векторное пространство заданной размерности. Существенным отличием является то, что это делает довольно специфическим образом, чтобы сохранить или отобразить смысл слова или фразы.\n",
    "\n",
    "Есть множество готовых реализаций такого подхода."
   ]
  },
  {
   "cell_type": "markdown",
   "metadata": {
    "slideshow": {
     "slide_type": "subslide"
    }
   },
   "source": [
    "<center>\n",
    "    <img src=\"https://miro.medium.com/max/3902/1*hELlVp9hmZbDZVFstS61pg.png\">\n",
    "</center>"
   ]
  },
  {
   "cell_type": "markdown",
   "metadata": {
    "slideshow": {
     "slide_type": "slide"
    }
   },
   "source": [
    "## Изображения\n",
    "\n",
    "В настоящее время, очень популярен способ генерации признаков с помощью сверточных нейронных сетей.\n",
    "\n",
    "Также можно генерировать различные признаки из изображения: извлечение текста, гистограммы, мета-информация и т.д."
   ]
  },
  {
   "cell_type": "markdown",
   "metadata": {
    "slideshow": {
     "slide_type": "slide"
    }
   },
   "source": [
    "## Дата и время\n",
    "\n",
    "Несмотря на то, что дата и время активно используются, есть достаточное количество особенностей анализа даты и времени как признаков."
   ]
  },
  {
   "cell_type": "markdown",
   "metadata": {
    "slideshow": {
     "slide_type": "subslide"
    }
   },
   "source": [
    "Логично предположить, что день недели - это категориальная переменная, которую можно закодировать one-hot кодированием."
   ]
  },
  {
   "cell_type": "markdown",
   "metadata": {
    "slideshow": {
     "slide_type": "subslide"
    }
   },
   "source": [
    "В ряде задач ещё может понадобавится учитывать события, происходящие в указанный день: праздники, показ финальной версии телешоу и т.д.\n",
    "\n",
    "Под это стоит завести отдельный бинарный признак."
   ]
  },
  {
   "cell_type": "markdown",
   "metadata": {
    "slideshow": {
     "slide_type": "subslide"
    }
   },
   "source": [
    "А вот с количественными характеристиками времени (секунды, часы, дни, года и т.д.) есть множество проблем."
   ]
  },
  {
   "cell_type": "markdown",
   "metadata": {
    "slideshow": {
     "slide_type": "fragment"
    }
   },
   "source": [
    "Если смотреть на них как на обычные число, то 10 мин. < 50 мин., но при этом 12:10 > 6:50."
   ]
  },
  {
   "cell_type": "markdown",
   "metadata": {
    "slideshow": {
     "slide_type": "fragment"
    }
   },
   "source": [
    "Если относится к ним, как категориальным признакам, то мы получаем кучу признаков в которых разница между 22 и 23 такая же, как и между 23 и 7."
   ]
  },
  {
   "cell_type": "markdown",
   "metadata": {
    "slideshow": {
     "slide_type": "subslide"
    }
   },
   "source": [
    "Есть довольно экзотический подход. Можно проецировать на окружность.\n",
    "\n",
    "Данное преобразование сохраняет расстояние между точками."
   ]
  },
  {
   "cell_type": "code",
   "execution_count": 11,
   "metadata": {
    "slideshow": {
     "slide_type": "subslide"
    }
   },
   "outputs": [],
   "source": [
    "def harmonic_features(val, period):\n",
    "    val *= 2 * np.pi / period\n",
    "    return np.array([[np.cos(val), np.sin(val)]])"
   ]
  },
  {
   "cell_type": "code",
   "execution_count": 12,
   "metadata": {
    "slideshow": {
     "slide_type": "subslide"
    }
   },
   "outputs": [
    {
     "name": "stdout",
     "output_type": "stream",
     "text": [
      "[1.58670668]\n",
      "[1.58670668]\n"
     ]
    }
   ],
   "source": [
    "from sklearn.metrics.pairwise import paired_euclidean_distances\n",
    "\n",
    "print(paired_euclidean_distances(\n",
    "    harmonic_features(5, 24), harmonic_features(12, 24))\n",
    ")\n",
    "\n",
    "print(paired_euclidean_distances(\n",
    "    harmonic_features(22, 24), harmonic_features(5, 24))\n",
    ")"
   ]
  },
  {
   "cell_type": "markdown",
   "metadata": {
    "slideshow": {
     "slide_type": "subslide"
    }
   },
   "source": [
    "В остальном, нужно внимательно рассмотреть данные и возможно преобразовать их к другому виду (возможно имеет смысл разница времени между двумя событиями или только событие происходящее в этот день). Например: сезонность, праздники, временной промежуток от какого-то события и т.д."
   ]
  },
  {
   "cell_type": "markdown",
   "metadata": {
    "slideshow": {
     "slide_type": "slide"
    }
   },
   "source": [
    "## Категориальные признаки\n",
    "\n",
    "При работе с категориальными признаками нужно внимательно предварительно изучить их распределения. По результатам нередко можно убрать неиспользуемые категории, либо объединить очень редкие категории в одну общую."
   ]
  },
  {
   "cell_type": "markdown",
   "metadata": {
    "slideshow": {
     "slide_type": "slide"
    }
   },
   "source": [
    "## Label Encoding\n",
    "\n",
    "В данном варианте кодирования, мы просто каждой категории сопоставляем уникальное число. Данное кодирование вводит некую алгебру для категорий, что приводит к тому, что для моделей, где расстояние между объектами имеет значение, это будет вносить фиктивную информацию."
   ]
  },
  {
   "cell_type": "code",
   "execution_count": 75,
   "metadata": {
    "slideshow": {
     "slide_type": "subslide"
    }
   },
   "outputs": [
    {
     "name": "stdout",
     "output_type": "stream",
     "text": [
      "['amsterdam', 'paris', 'tokyo']\n",
      "[2 2 1]\n"
     ]
    },
    {
     "data": {
      "text/plain": [
       "['tokyo', 'tokyo', 'paris']"
      ]
     },
     "execution_count": 75,
     "metadata": {},
     "output_type": "execute_result"
    }
   ],
   "source": [
    "from sklearn import preprocessing\n",
    "le = preprocessing.LabelEncoder()\n",
    "le.fit([\"paris\", \"paris\", \"tokyo\", \"amsterdam\"])\n",
    "print(list(le.classes_))\n",
    "print(le.transform([\"tokyo\", \"tokyo\", \"paris\"]))\n",
    "list(le.inverse_transform([2, 2, 1]))\n",
    "['tokyo', 'tokyo', 'paris']"
   ]
  },
  {
   "cell_type": "markdown",
   "metadata": {
    "slideshow": {
     "slide_type": "slide"
    }
   },
   "source": [
    "## One-hot кодирование\n",
    "\n",
    "Мы с ним уже знакомы, в данном случае мы просто кодируем каждое значение категориального признака, новым бинарным dummy-признаком.\n",
    "\n",
    "Есть различные варианты кодирования: можно кодировать одну из категорий нулевыми значениями, BaseN и т.д."
   ]
  },
  {
   "cell_type": "code",
   "execution_count": 14,
   "metadata": {
    "slideshow": {
     "slide_type": "subslide"
    }
   },
   "outputs": [
    {
     "name": "stdout",
     "output_type": "stream",
     "text": [
      "[array(['Female', 'Male'], dtype=object), array([1, 2, 3], dtype=object)]\n",
      "[[1. 0. 1. 0. 0.]\n",
      " [0. 1. 0. 0. 0.]]\n",
      "[['Male' 1]\n",
      " [None 2]]\n"
     ]
    }
   ],
   "source": [
    "from sklearn.preprocessing import OneHotEncoder\n",
    "enc = OneHotEncoder(handle_unknown='ignore', sparse=False)\n",
    "X = [['Male', 1], ['Female', 3], ['Female', 2]]\n",
    "enc.fit(X)\n",
    "print(enc.categories_)\n",
    "print(enc.transform([['Female', 1], ['Male', 4]]))\n",
    "print(enc.inverse_transform([[0, 1, 1, 0, 0], [0, 0, 0, 1, 0]]))"
   ]
  },
  {
   "cell_type": "code",
   "execution_count": 15,
   "metadata": {
    "slideshow": {
     "slide_type": "slide"
    }
   },
   "outputs": [
    {
     "data": {
      "text/plain": [
       "array([[0.0, 1.0, 1],\n",
       "       [1.0, 0.0, 3],\n",
       "       [1.0, 0.0, 2]], dtype=object)"
      ]
     },
     "execution_count": 15,
     "metadata": {},
     "output_type": "execute_result"
    }
   ],
   "source": [
    "from sklearn.compose import ColumnTransformer\n",
    "\n",
    "# можем только конкретные столбцы преобразовать\n",
    "cf = ColumnTransformer([\n",
    "    (\"dummy\", OneHotEncoder(handle_unknown='ignore'), [0]),\n",
    "], remainder=\"passthrough\")\n",
    "\n",
    "cf.fit_transform(X)"
   ]
  },
  {
   "cell_type": "markdown",
   "metadata": {
    "slideshow": {
     "slide_type": "slide"
    }
   },
   "source": [
    "## Hashing Trick\n",
    "\n",
    "В случае, когда уникальных  значений категориальных признаков очень много, то практически это единственный вариант.\n",
    "\n",
    "Мы просто отображаем значение категориального признака на вектор бинарных размеров фиксированного размера."
   ]
  },
  {
   "cell_type": "code",
   "execution_count": 88,
   "metadata": {
    "slideshow": {
     "slide_type": "subslide"
    }
   },
   "outputs": [
    {
     "data": {
      "text/plain": [
       "array([[ 0.,  0., -1.,  1.,  0.,  0.,  0.,  0.,  0.,  1.],\n",
       "       [ 1.,  0.,  0.,  0.,  0.,  0.,  0., -1.,  0., -1.],\n",
       "       [ 1.,  0.,  1.,  0., -1., -1., -1.,  0.,  0.,  1.]])"
      ]
     },
     "execution_count": 88,
     "metadata": {},
     "output_type": "execute_result"
    }
   ],
   "source": [
    "from sklearn.feature_extraction import FeatureHasher\n",
    "\n",
    "h = FeatureHasher(n_features=10, input_type='string')\n",
    "D = ['dog', 'cat', 'elephant']\n",
    "f = h.transform(D)\n",
    "f.toarray()"
   ]
  },
  {
   "cell_type": "markdown",
   "metadata": {
    "slideshow": {
     "slide_type": "subslide"
    }
   },
   "source": [
    "**Альтернатива:** Использовать Embeddings или PCA."
   ]
  },
  {
   "cell_type": "markdown",
   "metadata": {
    "slideshow": {
     "slide_type": "slide"
    }
   },
   "source": [
    "## Хитрые способы\n",
    "\n",
    "В ряде случаев, можно заменить значения категориальных признаков на интерпретируемые значения. "
   ]
  },
  {
   "cell_type": "markdown",
   "metadata": {
    "slideshow": {
     "slide_type": "fragment"
    }
   },
   "source": [
    "Например, удобно кодировать категорию товара средним значением стоимости товара в этой категории."
   ]
  },
  {
   "cell_type": "markdown",
   "metadata": {
    "slideshow": {
     "slide_type": "fragment"
    }
   },
   "source": [
    "Можно кодировать категорию числом её вхождения в данные."
   ]
  },
  {
   "cell_type": "markdown",
   "metadata": {
    "slideshow": {
     "slide_type": "fragment"
    }
   },
   "source": [
    "Также можно кодировать средним значением целевой переменной (главное при этом для кодирования использовать только данные из обучающей выборки и не использовать данные из тестовой)"
   ]
  },
  {
   "cell_type": "markdown",
   "metadata": {
    "slideshow": {
     "slide_type": "slide"
    }
   },
   "source": [
    "## Количественные признаки"
   ]
  },
  {
   "cell_type": "markdown",
   "metadata": {
    "slideshow": {
     "slide_type": "slide"
    }
   },
   "source": [
    "## Дискретизация\n",
    "\n",
    "Иногда, можно заменить количественные данные на категориальные в виде: \"Это значение больше Х?\" или \"Это значение между Х и Y?\""
   ]
  },
  {
   "cell_type": "markdown",
   "metadata": {
    "slideshow": {
     "slide_type": "slide"
    }
   },
   "source": [
    "## Нормализация\n",
    "\n",
    "$$\n",
    "\\vec{x}_n = \\frac{\\vec{x} - \\vec{x}_{min}}{\\vec{x}_{max} - \\vec{x}_{min}}\n",
    "$$\n",
    "\n",
    "Класс: MinMaxScaler"
   ]
  },
  {
   "cell_type": "markdown",
   "metadata": {
    "slideshow": {
     "slide_type": "slide"
    }
   },
   "source": [
    "## Стандартизация\n",
    "\n",
    "$$\n",
    "\\vec{x}_s = \\frac{\\vec{x} - \\vec{\\mu}}{\\vec{\\sigma}}\n",
    "$$\n",
    "\n",
    "Класс: StandardScaler"
   ]
  },
  {
   "cell_type": "markdown",
   "metadata": {
    "slideshow": {
     "slide_type": "slide"
    }
   },
   "source": [
    "## RobustScaler\n",
    "\n",
    "Из-за выбросов, иногда лучше использовать медиану вместо среднего значения и квантильный интервал вместо дисперсии (от первого квартиля до третьего).\n",
    "\n",
    "Класс: RobustScaler"
   ]
  },
  {
   "cell_type": "markdown",
   "metadata": {
    "slideshow": {
     "slide_type": "slide"
    }
   },
   "source": [
    "## Трансформация\n",
    "\n",
    "Нередко, количественные признаки могут описываться логнормальным распределением (или иметь просто иметь существенный \"хвост\")."
   ]
  },
  {
   "cell_type": "markdown",
   "metadata": {
    "slideshow": {
     "slide_type": "fragment"
    }
   },
   "source": [
    "Самый простой вариант - это взятие натурального логарифма, что делает признак нормально распределенным."
   ]
  },
  {
   "cell_type": "markdown",
   "metadata": {
    "slideshow": {
     "slide_type": "subslide"
    }
   },
   "source": [
    "Преобразование Бокса-Кокса\n",
    "\n",
    "$$\n",
    "\\vec{x}_{bk} = \\left\\{ \\begin{align}\n",
    "    \\frac{\n",
    "        (\\vec{x} + \\alpha)^\\lambda - 1\n",
    "    }{\n",
    "        \\lambda\n",
    "    }, \\text{ если } \\lambda \\ne 0,\\\\\n",
    "    \\ln(\\vec{x} + \\alpha), \\text{ если } \\lambda = 0,\n",
    "\\end{align} \\right.\n",
    "$$\n",
    "\n",
    "Преобразование Йео-Джонсона\n",
    "$$\n",
    "\\vec{x}_{yj} = \\left\\{ \\begin{align}\n",
    "    (\\vec{x} + 1)^\\lambda - 1 / \\lambda, \\text{ если } \\lambda \\ne 0, y \\ge 0\n",
    "    \\\\\n",
    "    \\ln(\\vec{x} + 1), \\text{ если } \\lambda = 0, y \\ge 0, \n",
    "    \\\\\n",
    "    -\\left[(-\\vec{x} + 1)^{2-\\lambda} - 1 \\right]/ (2 - \\lambda), \\text{ если } \\lambda \\ne 2, y < 0\n",
    "    \\\\\n",
    "    -\\ln(-\\vec{x} + 1), \\text{ если } \\lambda = 2, y < 0,    \n",
    "\\end{align} \\right.\n",
    "$$"
   ]
  },
  {
   "cell_type": "markdown",
   "metadata": {
    "slideshow": {
     "slide_type": "subslide"
    }
   },
   "source": [
    "В sklearn для этого есть класс **PowerTransformer**."
   ]
  },
  {
   "cell_type": "code",
   "execution_count": 40,
   "metadata": {
    "slideshow": {
     "slide_type": "fragment"
    }
   },
   "outputs": [
    {
     "name": "stdout",
     "output_type": "stream",
     "text": [
      "PowerTransformer(copy=True, method='yeo-johnson', standardize=True)\n",
      "[ 1.38668178 -3.10053309]\n",
      "[[-1.31616039 -0.70710678]\n",
      " [ 0.20998268 -0.70710678]\n",
      " [ 1.1061777   1.41421356]]\n"
     ]
    }
   ],
   "source": [
    "import numpy as np\n",
    "from sklearn.preprocessing import PowerTransformer\n",
    "pt = PowerTransformer()\n",
    "data = [[1, 2], [3, 2], [4, 5]]\n",
    "print(pt.fit(data))\n",
    "print(pt.lambdas_)\n",
    "print(pt.transform(data))"
   ]
  },
  {
   "cell_type": "code",
   "execution_count": 69,
   "metadata": {
    "slideshow": {
     "slide_type": "subslide"
    }
   },
   "outputs": [
    {
     "data": {
      "image/png": "[encoded data removed]",
      "text/plain": [
       "<Figure size 432x288 with 1 Axes>"
      ]
     },
     "metadata": {
      "needs_background": "light"
     },
     "output_type": "display_data"
    }
   ],
   "source": [
    "from numpy.random import lognormal\n",
    "\n",
    "x = lognormal(10, 0.5, 1000)\n",
    "plt.hist(x, bins=20);"
   ]
  },
  {
   "cell_type": "code",
   "execution_count": 73,
   "metadata": {
    "slideshow": {
     "slide_type": "subslide"
    }
   },
   "outputs": [
    {
     "data": {
      "image/png": "[encoded data removed]",
      "text/plain": [
       "<Figure size 864x648 with 1 Axes>"
      ]
     },
     "metadata": {
      "needs_background": "light"
     },
     "output_type": "display_data"
    }
   ],
   "source": [
    "sm.qqplot(x, loc=x.mean(), scale=x.std());"
   ]
  },
  {
   "cell_type": "code",
   "execution_count": 74,
   "metadata": {
    "slideshow": {
     "slide_type": "subslide"
    }
   },
   "outputs": [
    {
     "data": {
      "image/png": "[encoded data removed]",
      "text/plain": [
       "<Figure size 864x648 with 1 Axes>"
      ]
     },
     "metadata": {
      "needs_background": "light"
     },
     "output_type": "display_data"
    }
   ],
   "source": [
    "nx = np.log1p(x)\n",
    "sm.qqplot(nx, loc=nx.mean(), scale=nx.std());"
   ]
  },
  {
   "cell_type": "code",
   "execution_count": 75,
   "metadata": {
    "slideshow": {
     "slide_type": "subslide"
    }
   },
   "outputs": [
    {
     "data": {
      "image/png": "[encoded data removed]",
      "text/plain": [
       "<Figure size 864x648 with 1 Axes>"
      ]
     },
     "metadata": {
      "needs_background": "light"
     },
     "output_type": "display_data"
    }
   ],
   "source": [
    "plt.hist(nx, bins=20);"
   ]
  },
  {
   "cell_type": "code",
   "execution_count": 85,
   "metadata": {
    "slideshow": {
     "slide_type": "subslide"
    }
   },
   "outputs": [
    {
     "name": "stdout",
     "output_type": "stream",
     "text": [
      "1.6855334613523818\n",
      "-0.057123408215205985\n",
      "0.00036194487820792896\n"
     ]
    }
   ],
   "source": [
    "from scipy.stats import skew \n",
    "print(skew(x))\n",
    "print(skew(nx))\n",
    "\n",
    "from sklearn.preprocessing import power_transform\n",
    "bx = power_transform(x.reshape((-1, 1)), method='box-cox').ravel()\n",
    "print(skew(bx))"
   ]
  },
  {
   "cell_type": "markdown",
   "metadata": {
    "slideshow": {
     "slide_type": "slide"
    }
   },
   "source": [
    "## Генерация новых признаков\n",
    "\n",
    "Иногда, различного рода комбинации признаков могут нести гораздо большую информацию, чем эти же признаки по отдельности.\n",
    "\n",
    "Можно рассматривать различные комбинации признаков: сложение/вычитание, перемножение и т.д."
   ]
  },
  {
   "cell_type": "markdown",
   "metadata": {
    "slideshow": {
     "slide_type": "slide"
    }
   },
   "source": [
    "## Пропуски в данных\n",
    "\n",
    "Для категориальных данных: закодировать N/A отдельной категорией, либо заменить на наиболее вероятный.\n",
    "\n",
    "Для количественных: взять среднее или медиану (в группе или на всех данных), взять соседнее значение."
   ]
  },
  {
   "cell_type": "markdown",
   "metadata": {
    "slideshow": {
     "slide_type": "slide"
    }
   },
   "source": [
    "## Отбор признаков\n",
    "\n",
    "Если значение признака почти не меняется - его можно убрать.\n",
    "\n",
    "Можно отобрать выжные признаки на основе __[статистики](https://scikit-learn.org/stable/modules/feature_selection.html#univariate-feature-selection)__\n",
    "\n",
    "Можно отбирать признаки с помощью деревьев, либо LASSO.\n",
    "\n",
    "\n",
    "Также может иметь место банальный перебор."
   ]
  },
  {
   "cell_type": "code",
   "execution_count": 113,
   "metadata": {
    "slideshow": {
     "slide_type": "subslide"
    }
   },
   "outputs": [
    {
     "name": "stdout",
     "output_type": "stream",
     "text": [
      "(1797, 64)\n",
      "(1797, 20)\n"
     ]
    }
   ],
   "source": [
    "from sklearn.datasets import load_digits\n",
    "from sklearn.feature_selection import SelectKBest, chi2\n",
    "X, y = load_digits(return_X_y=True)\n",
    "print(X.shape)\n",
    "X_new = SelectKBest(chi2, k=20).fit_transform(X, y)\n",
    "print(X_new.shape)"
   ]
  },
  {
   "cell_type": "markdown",
   "metadata": {
    "slideshow": {
     "slide_type": "slide"
    }
   },
   "source": [
    "## Временные ряды\n",
    "\n",
    "Временной ряд - данные полученные с каким-то фиксированным интервалом времени.\n",
    "\n",
    "Во временных данных, у нас данные обычно зависят от предыдущих значений."
   ]
  },
  {
   "cell_type": "code",
   "execution_count": 89,
   "metadata": {
    "slideshow": {
     "slide_type": "subslide"
    }
   },
   "outputs": [
    {
     "data": {
      "text/html": [
       "<div>\n",
       "<style scoped>\n",
       "    .dataframe tbody tr th:only-of-type {\n",
       "        vertical-align: middle;\n",
       "    }\n",
       "\n",
       "    .dataframe tbody tr th {\n",
       "        vertical-align: top;\n",
       "    }\n",
       "\n",
       "    .dataframe thead th {\n",
       "        text-align: right;\n",
       "    }\n",
       "</style>\n",
       "<table border=\"1\" class=\"dataframe\">\n",
       "  <thead>\n",
       "    <tr style=\"text-align: right;\">\n",
       "      <th></th>\n",
       "      <th>#Passengers</th>\n",
       "    </tr>\n",
       "    <tr>\n",
       "      <th>Month</th>\n",
       "      <th></th>\n",
       "    </tr>\n",
       "  </thead>\n",
       "  <tbody>\n",
       "    <tr>\n",
       "      <th>1949-01-01</th>\n",
       "      <td>112</td>\n",
       "    </tr>\n",
       "    <tr>\n",
       "      <th>1949-02-01</th>\n",
       "      <td>118</td>\n",
       "    </tr>\n",
       "    <tr>\n",
       "      <th>1949-03-01</th>\n",
       "      <td>132</td>\n",
       "    </tr>\n",
       "    <tr>\n",
       "      <th>1949-04-01</th>\n",
       "      <td>129</td>\n",
       "    </tr>\n",
       "    <tr>\n",
       "      <th>1949-05-01</th>\n",
       "      <td>121</td>\n",
       "    </tr>\n",
       "  </tbody>\n",
       "</table>\n",
       "</div>"
      ],
      "text/plain": [
       "            #Passengers\n",
       "Month                  \n",
       "1949-01-01          112\n",
       "1949-02-01          118\n",
       "1949-03-01          132\n",
       "1949-04-01          129\n",
       "1949-05-01          121"
      ]
     },
     "execution_count": 89,
     "metadata": {},
     "output_type": "execute_result"
    }
   ],
   "source": [
    "df = pd.read_csv(\"../data/AirPassengers.csv\", \n",
    "                 index_col=\"Month\", \n",
    "                 parse_dates=['Month'], dayfirst=False)\n",
    "df.head()"
   ]
  },
  {
   "cell_type": "code",
   "execution_count": 92,
   "metadata": {
    "slideshow": {
     "slide_type": "subslide"
    }
   },
   "outputs": [
    {
     "data": {
      "image/png": "[encoded data removed]",
      "text/plain": [
       "<Figure size 864x648 with 1 Axes>"
      ]
     },
     "metadata": {
      "needs_background": "light"
     },
     "output_type": "display_data"
    }
   ],
   "source": [
    "df.plot();"
   ]
  },
  {
   "cell_type": "markdown",
   "metadata": {
    "slideshow": {
     "slide_type": "slide"
    }
   },
   "source": [
    "## ARMA\n",
    "\n",
    "$$\n",
    "y_t = c + \\varepsilon_t \n",
    "+ \\sum_{p = 1}^{P} \\alpha_p y_{t - p} \n",
    "+ \\sum_{q = 1}^{Q} \\beta_q \\varepsilon_{t-q}\n",
    "$$\n",
    "\n",
    "фактически берем в качестве признаков предыдущие значения + минимизируем средний шум"
   ]
  },
  {
   "cell_type": "markdown",
   "metadata": {
    "slideshow": {
     "slide_type": "subslide"
    }
   },
   "source": [
    "Если ввести оператор лага ($L y_t = y_{t-1}$)\n",
    "\n",
    "$$\n",
    "(1 - \\sum_{p=1}^P \\alpha_p L) y_t = (1 + \\sum_{q=1}^Q \\beta_q L) \\varepsilon_t\n",
    "$$"
   ]
  },
  {
   "cell_type": "markdown",
   "metadata": {
    "slideshow": {
     "slide_type": "subslide"
    }
   },
   "source": [
    "## ARIMA\n",
    "\n",
    "$$\n",
    "(1 - \\sum_{p=1}^P \\alpha_p L) (1 - L)^d y_t = (1 + \\sum_{q=1}^Q \\beta_q L) \\varepsilon_t\n",
    "$$\n",
    "\n",
    "вместо рассмотрения предыдущих значений, смотрим разность между отсчетами"
   ]
  },
  {
   "cell_type": "markdown",
   "metadata": {
    "slideshow": {
     "slide_type": "slide"
    }
   },
   "source": [
    "## Сглаживание\n",
    "\n",
    "* медианное - берем медиану внутри окна\n",
    "* среднее - берем среднее значение внутри окна\n",
    "* экспоненциальное $y_t = \\alpha y_t + (1-\\alpha) y_{t-1}$\n",
    "* и т.д."
   ]
  },
  {
   "cell_type": "code",
   "execution_count": 95,
   "metadata": {
    "slideshow": {
     "slide_type": "subslide"
    }
   },
   "outputs": [
    {
     "data": {
      "image/png": "[encoded data removed]",
      "text/plain": [
       "<Figure size 864x648 with 1 Axes>"
      ]
     },
     "metadata": {
      "needs_background": "light"
     },
     "output_type": "display_data"
    }
   ],
   "source": [
    "df.rolling(5).median().plot();"
   ]
  },
  {
   "cell_type": "markdown",
   "metadata": {
    "slideshow": {
     "slide_type": "slide"
    }
   },
   "source": [
    "## Почитать\n",
    "\n",
    "* Магнус Я.Р., Катышев П.К., Пересецкий А.А. **Эконометрика**\n",
    "* __[Rob J Hyndman. Forecasting: Principles and Practice](https://otexts.com/fpp2/)__\n",
    "* __[statsmodel](https://www.statsmodels.org/stable/index.html)__"
   ]
  }
 ],
 "metadata": {
  "celltoolbar": "Slideshow",
  "kernelspec": {
   "display_name": "Python 3",
   "language": "python",
   "name": "python3"
  },
  "language_info": {
   "codemirror_mode": {
    "name": "ipython",
    "version": 3
   },
   "file_extension": ".py",
   "mimetype": "text/x-python",
   "name": "python",
   "nbconvert_exporter": "python",
   "pygments_lexer": "ipython3",
   "version": "3.9.2"
  }
 },
 "nbformat": 4,
 "nbformat_minor": 4
}
